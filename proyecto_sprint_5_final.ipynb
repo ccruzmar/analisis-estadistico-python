{
 "cells": [
  {
   "cell_type": "markdown",
   "metadata": {
    "id": "3rYiDeEH0q0f"
   },
   "source": [
    "# ¿Cuál es la mejor tarifa?\n",
    "\n",
    "Trabajas como analista para el operador de telecomunicaciones Megaline. La empresa ofrece a sus clientes dos tarifas de prepago, Surf y Ultimate. El departamento comercial quiere saber cuál de las tarifas genera más ingresos para poder ajustar el presupuesto de publicidad.\n",
    "\n",
    "Vas a realizar un análisis preliminar de las tarifas basado en una selección de clientes relativamente pequeña. Tendrás los datos de 500 clientes de Megaline: quiénes son los clientes, de dónde son, qué tarifa usan, así como la cantidad de llamadas que hicieron y los mensajes de texto que enviaron en 2018. Tu trabajo es analizar el comportamiento de los clientes y determinar qué tarifa de prepago genera más ingresos."
   ]
  },
  {
   "cell_type": "markdown",
   "metadata": {
    "id": "VNddPNRQ0q0w"
   },
   "source": [
    "En este proyecto vamos a determinar cual de los planes (Surf y Ultimate) aporta más ingresos a la empresa Megaline. para desarrollar el trabajo llevaremos a cabo los siguientes pasos:\n",
    "\n",
    "**1. Exploración de datos:**\n",
    "\n",
    "* Cargar los datos y explorarlos.\n",
    "* Comprender la estructura, columnas, y valores de los datos.\n",
    "\n",
    "**2. Limpieza y preprocesamiento:**\n",
    "\n",
    "* Verificar valores nulos o inconsistencias.\n",
    "* Asegurarnos de que las columnas tengan los tipos de datos correctos.\n",
    "\n",
    "**3. Analiza los datos:**\n",
    "\n",
    "* Analizar el comportamiento de los clientes (llamadas, mensajes, datos, etc.).\n",
    "* calcularemos variables estadisticas.\n",
    "* graficaremos histogramas para tomar decisiones y mirar las distribuciones de nuestros datos. \n",
    "\n",
    "**4. Haremos pruebas de hipótesis:**\n",
    "\n",
    "**5. Informe final:**\n",
    "\n",
    "* Resumir los hallazgos con recomendaciones."
   ]
  },
  {
   "cell_type": "markdown",
   "metadata": {
    "id": "MQi4IPy70q0y"
   },
   "source": [
    "## Inicialización"
   ]
  },
  {
   "cell_type": "code",
   "execution_count": 1,
   "metadata": {
    "id": "MtYIuBxu0q0z"
   },
   "outputs": [],
   "source": [
    "# Cargar todas las librerías\n",
    "\n",
    "import pandas as pd\n",
    "import numpy as np\n",
    "from math import factorial\n",
    "from scipy import stats as st\n",
    "import math as mt\n",
    "import matplotlib.pyplot as plt\n",
    "\n",
    "\n"
   ]
  },
  {
   "cell_type": "markdown",
   "metadata": {
    "id": "4ysWWC5i0q00"
   },
   "source": [
    "## Cargar datos"
   ]
  },
  {
   "cell_type": "code",
   "execution_count": 2,
   "metadata": {
    "id": "CCqPW7rS0q01"
   },
   "outputs": [],
   "source": [
    "# Carga los archivos de datos en diferentes DataFrames\n",
    "df_calls = pd.read_csv('/datasets/megaline_calls.csv')\n",
    "df_internet = pd.read_csv('/datasets/megaline_internet.csv')\n",
    "df_messages = pd.read_csv('/datasets/megaline_messages.csv')\n",
    "df_plans = pd.read_csv('/datasets/megaline_plans.csv')\n",
    "df_users = pd.read_csv('/datasets/megaline_users.csv')\n"
   ]
  },
  {
   "cell_type": "markdown",
   "metadata": {
    "id": "69qqoJ3r0q01"
   },
   "source": [
    "## Preparar los datos"
   ]
  },
  {
   "cell_type": "markdown",
   "metadata": {
    "id": "ohBhimvH0q01"
   },
   "source": [
    "## Tarifas"
   ]
  },
  {
   "cell_type": "code",
   "execution_count": 3,
   "metadata": {
    "id": "GptqP3Q40q02"
   },
   "outputs": [
    {
     "name": "stdout",
     "output_type": "stream",
     "text": [
      "<class 'pandas.core.frame.DataFrame'>\n",
      "RangeIndex: 2 entries, 0 to 1\n",
      "Data columns (total 8 columns):\n",
      " #   Column                 Non-Null Count  Dtype  \n",
      "---  ------                 --------------  -----  \n",
      " 0   messages_included      2 non-null      int64  \n",
      " 1   mb_per_month_included  2 non-null      int64  \n",
      " 2   minutes_included       2 non-null      int64  \n",
      " 3   usd_monthly_pay        2 non-null      int64  \n",
      " 4   usd_per_gb             2 non-null      int64  \n",
      " 5   usd_per_message        2 non-null      float64\n",
      " 6   usd_per_minute         2 non-null      float64\n",
      " 7   plan_name              2 non-null      object \n",
      "dtypes: float64(2), int64(5), object(1)\n",
      "memory usage: 256.0+ bytes\n"
     ]
    },
    {
     "data": {
      "text/html": [
       "<div>\n",
       "<style scoped>\n",
       "    .dataframe tbody tr th:only-of-type {\n",
       "        vertical-align: middle;\n",
       "    }\n",
       "\n",
       "    .dataframe tbody tr th {\n",
       "        vertical-align: top;\n",
       "    }\n",
       "\n",
       "    .dataframe thead th {\n",
       "        text-align: right;\n",
       "    }\n",
       "</style>\n",
       "<table border=\"1\" class=\"dataframe\">\n",
       "  <thead>\n",
       "    <tr style=\"text-align: right;\">\n",
       "      <th></th>\n",
       "      <th>messages_included</th>\n",
       "      <th>mb_per_month_included</th>\n",
       "      <th>minutes_included</th>\n",
       "      <th>usd_monthly_pay</th>\n",
       "      <th>usd_per_gb</th>\n",
       "      <th>usd_per_message</th>\n",
       "      <th>usd_per_minute</th>\n",
       "      <th>plan_name</th>\n",
       "    </tr>\n",
       "  </thead>\n",
       "  <tbody>\n",
       "    <tr>\n",
       "      <th>count</th>\n",
       "      <td>2.000000</td>\n",
       "      <td>2.000000</td>\n",
       "      <td>2.000000</td>\n",
       "      <td>2.000000</td>\n",
       "      <td>2.00000</td>\n",
       "      <td>2.000000</td>\n",
       "      <td>2.000000</td>\n",
       "      <td>2</td>\n",
       "    </tr>\n",
       "    <tr>\n",
       "      <th>unique</th>\n",
       "      <td>NaN</td>\n",
       "      <td>NaN</td>\n",
       "      <td>NaN</td>\n",
       "      <td>NaN</td>\n",
       "      <td>NaN</td>\n",
       "      <td>NaN</td>\n",
       "      <td>NaN</td>\n",
       "      <td>2</td>\n",
       "    </tr>\n",
       "    <tr>\n",
       "      <th>top</th>\n",
       "      <td>NaN</td>\n",
       "      <td>NaN</td>\n",
       "      <td>NaN</td>\n",
       "      <td>NaN</td>\n",
       "      <td>NaN</td>\n",
       "      <td>NaN</td>\n",
       "      <td>NaN</td>\n",
       "      <td>surf</td>\n",
       "    </tr>\n",
       "    <tr>\n",
       "      <th>freq</th>\n",
       "      <td>NaN</td>\n",
       "      <td>NaN</td>\n",
       "      <td>NaN</td>\n",
       "      <td>NaN</td>\n",
       "      <td>NaN</td>\n",
       "      <td>NaN</td>\n",
       "      <td>NaN</td>\n",
       "      <td>1</td>\n",
       "    </tr>\n",
       "    <tr>\n",
       "      <th>mean</th>\n",
       "      <td>525.000000</td>\n",
       "      <td>23040.000000</td>\n",
       "      <td>1750.000000</td>\n",
       "      <td>45.000000</td>\n",
       "      <td>8.50000</td>\n",
       "      <td>0.020000</td>\n",
       "      <td>0.020000</td>\n",
       "      <td>NaN</td>\n",
       "    </tr>\n",
       "    <tr>\n",
       "      <th>std</th>\n",
       "      <td>671.751442</td>\n",
       "      <td>10861.160159</td>\n",
       "      <td>1767.766953</td>\n",
       "      <td>35.355339</td>\n",
       "      <td>2.12132</td>\n",
       "      <td>0.014142</td>\n",
       "      <td>0.014142</td>\n",
       "      <td>NaN</td>\n",
       "    </tr>\n",
       "    <tr>\n",
       "      <th>min</th>\n",
       "      <td>50.000000</td>\n",
       "      <td>15360.000000</td>\n",
       "      <td>500.000000</td>\n",
       "      <td>20.000000</td>\n",
       "      <td>7.00000</td>\n",
       "      <td>0.010000</td>\n",
       "      <td>0.010000</td>\n",
       "      <td>NaN</td>\n",
       "    </tr>\n",
       "    <tr>\n",
       "      <th>25%</th>\n",
       "      <td>287.500000</td>\n",
       "      <td>19200.000000</td>\n",
       "      <td>1125.000000</td>\n",
       "      <td>32.500000</td>\n",
       "      <td>7.75000</td>\n",
       "      <td>0.015000</td>\n",
       "      <td>0.015000</td>\n",
       "      <td>NaN</td>\n",
       "    </tr>\n",
       "    <tr>\n",
       "      <th>50%</th>\n",
       "      <td>525.000000</td>\n",
       "      <td>23040.000000</td>\n",
       "      <td>1750.000000</td>\n",
       "      <td>45.000000</td>\n",
       "      <td>8.50000</td>\n",
       "      <td>0.020000</td>\n",
       "      <td>0.020000</td>\n",
       "      <td>NaN</td>\n",
       "    </tr>\n",
       "    <tr>\n",
       "      <th>75%</th>\n",
       "      <td>762.500000</td>\n",
       "      <td>26880.000000</td>\n",
       "      <td>2375.000000</td>\n",
       "      <td>57.500000</td>\n",
       "      <td>9.25000</td>\n",
       "      <td>0.025000</td>\n",
       "      <td>0.025000</td>\n",
       "      <td>NaN</td>\n",
       "    </tr>\n",
       "    <tr>\n",
       "      <th>max</th>\n",
       "      <td>1000.000000</td>\n",
       "      <td>30720.000000</td>\n",
       "      <td>3000.000000</td>\n",
       "      <td>70.000000</td>\n",
       "      <td>10.00000</td>\n",
       "      <td>0.030000</td>\n",
       "      <td>0.030000</td>\n",
       "      <td>NaN</td>\n",
       "    </tr>\n",
       "  </tbody>\n",
       "</table>\n",
       "</div>"
      ],
      "text/plain": [
       "        messages_included  mb_per_month_included  minutes_included  \\\n",
       "count            2.000000               2.000000          2.000000   \n",
       "unique                NaN                    NaN               NaN   \n",
       "top                   NaN                    NaN               NaN   \n",
       "freq                  NaN                    NaN               NaN   \n",
       "mean           525.000000           23040.000000       1750.000000   \n",
       "std            671.751442           10861.160159       1767.766953   \n",
       "min             50.000000           15360.000000        500.000000   \n",
       "25%            287.500000           19200.000000       1125.000000   \n",
       "50%            525.000000           23040.000000       1750.000000   \n",
       "75%            762.500000           26880.000000       2375.000000   \n",
       "max           1000.000000           30720.000000       3000.000000   \n",
       "\n",
       "        usd_monthly_pay  usd_per_gb  usd_per_message  usd_per_minute plan_name  \n",
       "count          2.000000     2.00000         2.000000        2.000000         2  \n",
       "unique              NaN         NaN              NaN             NaN         2  \n",
       "top                 NaN         NaN              NaN             NaN      surf  \n",
       "freq                NaN         NaN              NaN             NaN         1  \n",
       "mean          45.000000     8.50000         0.020000        0.020000       NaN  \n",
       "std           35.355339     2.12132         0.014142        0.014142       NaN  \n",
       "min           20.000000     7.00000         0.010000        0.010000       NaN  \n",
       "25%           32.500000     7.75000         0.015000        0.015000       NaN  \n",
       "50%           45.000000     8.50000         0.020000        0.020000       NaN  \n",
       "75%           57.500000     9.25000         0.025000        0.025000       NaN  \n",
       "max           70.000000    10.00000         0.030000        0.030000       NaN  "
      ]
     },
     "execution_count": 3,
     "metadata": {},
     "output_type": "execute_result"
    }
   ],
   "source": [
    "# Imprime la información general/resumida sobre el DataFrame de las tarifas\n",
    "\n",
    "# Información general sobre el DataFrame df_plans\n",
    "df_plans.info()\n",
    "\n",
    "# Resumen estadístico del DataFrame df_plans\n",
    "df_plans.describe(include='all')"
   ]
  },
  {
   "cell_type": "code",
   "execution_count": 4,
   "metadata": {
    "id": "64xzjwL70q02"
   },
   "outputs": [
    {
     "data": {
      "text/html": [
       "<div>\n",
       "<style scoped>\n",
       "    .dataframe tbody tr th:only-of-type {\n",
       "        vertical-align: middle;\n",
       "    }\n",
       "\n",
       "    .dataframe tbody tr th {\n",
       "        vertical-align: top;\n",
       "    }\n",
       "\n",
       "    .dataframe thead th {\n",
       "        text-align: right;\n",
       "    }\n",
       "</style>\n",
       "<table border=\"1\" class=\"dataframe\">\n",
       "  <thead>\n",
       "    <tr style=\"text-align: right;\">\n",
       "      <th></th>\n",
       "      <th>messages_included</th>\n",
       "      <th>mb_per_month_included</th>\n",
       "      <th>minutes_included</th>\n",
       "      <th>usd_monthly_pay</th>\n",
       "      <th>usd_per_gb</th>\n",
       "      <th>usd_per_message</th>\n",
       "      <th>usd_per_minute</th>\n",
       "      <th>plan_name</th>\n",
       "    </tr>\n",
       "  </thead>\n",
       "  <tbody>\n",
       "    <tr>\n",
       "      <th>0</th>\n",
       "      <td>50</td>\n",
       "      <td>15360</td>\n",
       "      <td>500</td>\n",
       "      <td>20</td>\n",
       "      <td>10</td>\n",
       "      <td>0.03</td>\n",
       "      <td>0.03</td>\n",
       "      <td>surf</td>\n",
       "    </tr>\n",
       "    <tr>\n",
       "      <th>1</th>\n",
       "      <td>1000</td>\n",
       "      <td>30720</td>\n",
       "      <td>3000</td>\n",
       "      <td>70</td>\n",
       "      <td>7</td>\n",
       "      <td>0.01</td>\n",
       "      <td>0.01</td>\n",
       "      <td>ultimate</td>\n",
       "    </tr>\n",
       "  </tbody>\n",
       "</table>\n",
       "</div>"
      ],
      "text/plain": [
       "   messages_included  mb_per_month_included  minutes_included  \\\n",
       "0                 50                  15360               500   \n",
       "1               1000                  30720              3000   \n",
       "\n",
       "   usd_monthly_pay  usd_per_gb  usd_per_message  usd_per_minute plan_name  \n",
       "0               20          10             0.03            0.03      surf  \n",
       "1               70           7             0.01            0.01  ultimate  "
      ]
     },
     "execution_count": 4,
     "metadata": {},
     "output_type": "execute_result"
    }
   ],
   "source": [
    "# Imprime una muestra de los datos para las tarifas\n",
    "# Imprimir una muestra aleatoria de 5 filas\n",
    "df_plans.head()\n"
   ]
  },
  {
   "cell_type": "markdown",
   "metadata": {
    "id": "mEc_3_hs0q02"
   },
   "source": [
    "hay 8 columnas, de las cuales 5 esta en formato int64, 2 columnas float64 y una columna tipo object, las cuales tienes bien asignado el tipo de dato, no tiene datos nulos; por lo cual yo dejaria el dataframe como esta. "
   ]
  },
  {
   "cell_type": "markdown",
   "metadata": {
    "id": "R3C05i1l0q03"
   },
   "source": [
    "## Corregir datos"
   ]
  },
  {
   "cell_type": "markdown",
   "metadata": {
    "id": "bIi8StZI0q03"
   },
   "source": [
    "No considero necesario hacer cambios en los datos ya que los mismos no muestran errores"
   ]
  },
  {
   "cell_type": "markdown",
   "metadata": {
    "id": "LJir7bml0q03"
   },
   "source": [
    "## Enriquecer los datos"
   ]
  },
  {
   "cell_type": "markdown",
   "metadata": {
    "id": "eqADpCfg0q04"
   },
   "source": [
    "puede ser necesario calcular el valor del mb en cada plan, por este motivo crearemos una columna con esa información. "
   ]
  },
  {
   "cell_type": "code",
   "execution_count": 5,
   "metadata": {
    "id": "gfcIEuXV0q04"
   },
   "outputs": [
    {
     "data": {
      "text/html": [
       "<div>\n",
       "<style scoped>\n",
       "    .dataframe tbody tr th:only-of-type {\n",
       "        vertical-align: middle;\n",
       "    }\n",
       "\n",
       "    .dataframe tbody tr th {\n",
       "        vertical-align: top;\n",
       "    }\n",
       "\n",
       "    .dataframe thead th {\n",
       "        text-align: right;\n",
       "    }\n",
       "</style>\n",
       "<table border=\"1\" class=\"dataframe\">\n",
       "  <thead>\n",
       "    <tr style=\"text-align: right;\">\n",
       "      <th></th>\n",
       "      <th>messages_included</th>\n",
       "      <th>mb_per_month_included</th>\n",
       "      <th>minutes_included</th>\n",
       "      <th>usd_monthly_pay</th>\n",
       "      <th>usd_per_gb</th>\n",
       "      <th>usd_per_message</th>\n",
       "      <th>usd_per_minute</th>\n",
       "      <th>plan_name</th>\n",
       "      <th>usd_per_mb_included</th>\n",
       "    </tr>\n",
       "  </thead>\n",
       "  <tbody>\n",
       "    <tr>\n",
       "      <th>0</th>\n",
       "      <td>50</td>\n",
       "      <td>15360</td>\n",
       "      <td>500</td>\n",
       "      <td>20</td>\n",
       "      <td>10</td>\n",
       "      <td>0.03</td>\n",
       "      <td>0.03</td>\n",
       "      <td>surf</td>\n",
       "      <td>0.001302</td>\n",
       "    </tr>\n",
       "    <tr>\n",
       "      <th>1</th>\n",
       "      <td>1000</td>\n",
       "      <td>30720</td>\n",
       "      <td>3000</td>\n",
       "      <td>70</td>\n",
       "      <td>7</td>\n",
       "      <td>0.01</td>\n",
       "      <td>0.01</td>\n",
       "      <td>ultimate</td>\n",
       "      <td>0.002279</td>\n",
       "    </tr>\n",
       "  </tbody>\n",
       "</table>\n",
       "</div>"
      ],
      "text/plain": [
       "   messages_included  mb_per_month_included  minutes_included  \\\n",
       "0                 50                  15360               500   \n",
       "1               1000                  30720              3000   \n",
       "\n",
       "   usd_monthly_pay  usd_per_gb  usd_per_message  usd_per_minute plan_name  \\\n",
       "0               20          10             0.03            0.03      surf   \n",
       "1               70           7             0.01            0.01  ultimate   \n",
       "\n",
       "   usd_per_mb_included  \n",
       "0             0.001302  \n",
       "1             0.002279  "
      ]
     },
     "execution_count": 5,
     "metadata": {},
     "output_type": "execute_result"
    }
   ],
   "source": [
    "# Calcular el costo por MB incluido en cada plan\n",
    "df_plans['usd_per_mb_included'] = df_plans['usd_monthly_pay'] / df_plans['mb_per_month_included']\n",
    "df_plans"
   ]
  },
  {
   "cell_type": "markdown",
   "metadata": {
    "id": "1n2X6WXf0q04"
   },
   "source": [
    "## Usuarios/as"
   ]
  },
  {
   "cell_type": "code",
   "execution_count": 6,
   "metadata": {
    "id": "2NgjWFqx0q05"
   },
   "outputs": [
    {
     "name": "stdout",
     "output_type": "stream",
     "text": [
      "<class 'pandas.core.frame.DataFrame'>\n",
      "RangeIndex: 500 entries, 0 to 499\n",
      "Data columns (total 8 columns):\n",
      " #   Column      Non-Null Count  Dtype \n",
      "---  ------      --------------  ----- \n",
      " 0   user_id     500 non-null    int64 \n",
      " 1   first_name  500 non-null    object\n",
      " 2   last_name   500 non-null    object\n",
      " 3   age         500 non-null    int64 \n",
      " 4   city        500 non-null    object\n",
      " 5   reg_date    500 non-null    object\n",
      " 6   plan        500 non-null    object\n",
      " 7   churn_date  34 non-null     object\n",
      "dtypes: int64(2), object(6)\n",
      "memory usage: 31.4+ KB\n"
     ]
    },
    {
     "data": {
      "text/html": [
       "<div>\n",
       "<style scoped>\n",
       "    .dataframe tbody tr th:only-of-type {\n",
       "        vertical-align: middle;\n",
       "    }\n",
       "\n",
       "    .dataframe tbody tr th {\n",
       "        vertical-align: top;\n",
       "    }\n",
       "\n",
       "    .dataframe thead th {\n",
       "        text-align: right;\n",
       "    }\n",
       "</style>\n",
       "<table border=\"1\" class=\"dataframe\">\n",
       "  <thead>\n",
       "    <tr style=\"text-align: right;\">\n",
       "      <th></th>\n",
       "      <th>user_id</th>\n",
       "      <th>first_name</th>\n",
       "      <th>last_name</th>\n",
       "      <th>age</th>\n",
       "      <th>city</th>\n",
       "      <th>reg_date</th>\n",
       "      <th>plan</th>\n",
       "      <th>churn_date</th>\n",
       "    </tr>\n",
       "  </thead>\n",
       "  <tbody>\n",
       "    <tr>\n",
       "      <th>count</th>\n",
       "      <td>500.000000</td>\n",
       "      <td>500</td>\n",
       "      <td>500</td>\n",
       "      <td>500.000000</td>\n",
       "      <td>500</td>\n",
       "      <td>500</td>\n",
       "      <td>500</td>\n",
       "      <td>34</td>\n",
       "    </tr>\n",
       "    <tr>\n",
       "      <th>unique</th>\n",
       "      <td>NaN</td>\n",
       "      <td>458</td>\n",
       "      <td>399</td>\n",
       "      <td>NaN</td>\n",
       "      <td>73</td>\n",
       "      <td>266</td>\n",
       "      <td>2</td>\n",
       "      <td>29</td>\n",
       "    </tr>\n",
       "    <tr>\n",
       "      <th>top</th>\n",
       "      <td>NaN</td>\n",
       "      <td>Seymour</td>\n",
       "      <td>Velazquez</td>\n",
       "      <td>NaN</td>\n",
       "      <td>New York-Newark-Jersey City, NY-NJ-PA MSA</td>\n",
       "      <td>2018-11-29</td>\n",
       "      <td>surf</td>\n",
       "      <td>2018-12-18</td>\n",
       "    </tr>\n",
       "    <tr>\n",
       "      <th>freq</th>\n",
       "      <td>NaN</td>\n",
       "      <td>3</td>\n",
       "      <td>3</td>\n",
       "      <td>NaN</td>\n",
       "      <td>80</td>\n",
       "      <td>5</td>\n",
       "      <td>339</td>\n",
       "      <td>3</td>\n",
       "    </tr>\n",
       "    <tr>\n",
       "      <th>mean</th>\n",
       "      <td>1249.500000</td>\n",
       "      <td>NaN</td>\n",
       "      <td>NaN</td>\n",
       "      <td>45.486000</td>\n",
       "      <td>NaN</td>\n",
       "      <td>NaN</td>\n",
       "      <td>NaN</td>\n",
       "      <td>NaN</td>\n",
       "    </tr>\n",
       "    <tr>\n",
       "      <th>std</th>\n",
       "      <td>144.481833</td>\n",
       "      <td>NaN</td>\n",
       "      <td>NaN</td>\n",
       "      <td>16.972269</td>\n",
       "      <td>NaN</td>\n",
       "      <td>NaN</td>\n",
       "      <td>NaN</td>\n",
       "      <td>NaN</td>\n",
       "    </tr>\n",
       "    <tr>\n",
       "      <th>min</th>\n",
       "      <td>1000.000000</td>\n",
       "      <td>NaN</td>\n",
       "      <td>NaN</td>\n",
       "      <td>18.000000</td>\n",
       "      <td>NaN</td>\n",
       "      <td>NaN</td>\n",
       "      <td>NaN</td>\n",
       "      <td>NaN</td>\n",
       "    </tr>\n",
       "    <tr>\n",
       "      <th>25%</th>\n",
       "      <td>1124.750000</td>\n",
       "      <td>NaN</td>\n",
       "      <td>NaN</td>\n",
       "      <td>30.000000</td>\n",
       "      <td>NaN</td>\n",
       "      <td>NaN</td>\n",
       "      <td>NaN</td>\n",
       "      <td>NaN</td>\n",
       "    </tr>\n",
       "    <tr>\n",
       "      <th>50%</th>\n",
       "      <td>1249.500000</td>\n",
       "      <td>NaN</td>\n",
       "      <td>NaN</td>\n",
       "      <td>46.000000</td>\n",
       "      <td>NaN</td>\n",
       "      <td>NaN</td>\n",
       "      <td>NaN</td>\n",
       "      <td>NaN</td>\n",
       "    </tr>\n",
       "    <tr>\n",
       "      <th>75%</th>\n",
       "      <td>1374.250000</td>\n",
       "      <td>NaN</td>\n",
       "      <td>NaN</td>\n",
       "      <td>61.000000</td>\n",
       "      <td>NaN</td>\n",
       "      <td>NaN</td>\n",
       "      <td>NaN</td>\n",
       "      <td>NaN</td>\n",
       "    </tr>\n",
       "    <tr>\n",
       "      <th>max</th>\n",
       "      <td>1499.000000</td>\n",
       "      <td>NaN</td>\n",
       "      <td>NaN</td>\n",
       "      <td>75.000000</td>\n",
       "      <td>NaN</td>\n",
       "      <td>NaN</td>\n",
       "      <td>NaN</td>\n",
       "      <td>NaN</td>\n",
       "    </tr>\n",
       "  </tbody>\n",
       "</table>\n",
       "</div>"
      ],
      "text/plain": [
       "            user_id first_name  last_name         age  \\\n",
       "count    500.000000        500        500  500.000000   \n",
       "unique          NaN        458        399         NaN   \n",
       "top             NaN    Seymour  Velazquez         NaN   \n",
       "freq            NaN          3          3         NaN   \n",
       "mean    1249.500000        NaN        NaN   45.486000   \n",
       "std      144.481833        NaN        NaN   16.972269   \n",
       "min     1000.000000        NaN        NaN   18.000000   \n",
       "25%     1124.750000        NaN        NaN   30.000000   \n",
       "50%     1249.500000        NaN        NaN   46.000000   \n",
       "75%     1374.250000        NaN        NaN   61.000000   \n",
       "max     1499.000000        NaN        NaN   75.000000   \n",
       "\n",
       "                                             city    reg_date  plan  \\\n",
       "count                                         500         500   500   \n",
       "unique                                         73         266     2   \n",
       "top     New York-Newark-Jersey City, NY-NJ-PA MSA  2018-11-29  surf   \n",
       "freq                                           80           5   339   \n",
       "mean                                          NaN         NaN   NaN   \n",
       "std                                           NaN         NaN   NaN   \n",
       "min                                           NaN         NaN   NaN   \n",
       "25%                                           NaN         NaN   NaN   \n",
       "50%                                           NaN         NaN   NaN   \n",
       "75%                                           NaN         NaN   NaN   \n",
       "max                                           NaN         NaN   NaN   \n",
       "\n",
       "        churn_date  \n",
       "count           34  \n",
       "unique          29  \n",
       "top     2018-12-18  \n",
       "freq             3  \n",
       "mean           NaN  \n",
       "std            NaN  \n",
       "min            NaN  \n",
       "25%            NaN  \n",
       "50%            NaN  \n",
       "75%            NaN  \n",
       "max            NaN  "
      ]
     },
     "execution_count": 6,
     "metadata": {},
     "output_type": "execute_result"
    }
   ],
   "source": [
    "# Imprime la información general/resumida sobre el DataFrame de usuarios\n",
    "# Información general sobre el DataFrame df_users\n",
    "df_users.info()\n",
    "\n",
    "# Resumen estadístico del DataFrame df_users\n",
    "df_users.describe(include='all')\n"
   ]
  },
  {
   "cell_type": "code",
   "execution_count": 7,
   "metadata": {
    "id": "1IN1L9uh0q05"
   },
   "outputs": [
    {
     "data": {
      "text/html": [
       "<div>\n",
       "<style scoped>\n",
       "    .dataframe tbody tr th:only-of-type {\n",
       "        vertical-align: middle;\n",
       "    }\n",
       "\n",
       "    .dataframe tbody tr th {\n",
       "        vertical-align: top;\n",
       "    }\n",
       "\n",
       "    .dataframe thead th {\n",
       "        text-align: right;\n",
       "    }\n",
       "</style>\n",
       "<table border=\"1\" class=\"dataframe\">\n",
       "  <thead>\n",
       "    <tr style=\"text-align: right;\">\n",
       "      <th></th>\n",
       "      <th>user_id</th>\n",
       "      <th>first_name</th>\n",
       "      <th>last_name</th>\n",
       "      <th>age</th>\n",
       "      <th>city</th>\n",
       "      <th>reg_date</th>\n",
       "      <th>plan</th>\n",
       "      <th>churn_date</th>\n",
       "    </tr>\n",
       "  </thead>\n",
       "  <tbody>\n",
       "    <tr>\n",
       "      <th>41</th>\n",
       "      <td>1041</td>\n",
       "      <td>Drucilla</td>\n",
       "      <td>Lynn</td>\n",
       "      <td>58</td>\n",
       "      <td>Las Vegas-Henderson-Paradise, NV MSA</td>\n",
       "      <td>2018-03-17</td>\n",
       "      <td>ultimate</td>\n",
       "      <td>NaN</td>\n",
       "    </tr>\n",
       "    <tr>\n",
       "      <th>383</th>\n",
       "      <td>1383</td>\n",
       "      <td>Margarito</td>\n",
       "      <td>Mccoy</td>\n",
       "      <td>52</td>\n",
       "      <td>Tampa-St. Petersburg-Clearwater, FL MSA</td>\n",
       "      <td>2018-10-10</td>\n",
       "      <td>ultimate</td>\n",
       "      <td>NaN</td>\n",
       "    </tr>\n",
       "    <tr>\n",
       "      <th>56</th>\n",
       "      <td>1056</td>\n",
       "      <td>Denis</td>\n",
       "      <td>Chandler</td>\n",
       "      <td>33</td>\n",
       "      <td>Cincinnati, OH-KY-IN MSA</td>\n",
       "      <td>2018-03-01</td>\n",
       "      <td>surf</td>\n",
       "      <td>NaN</td>\n",
       "    </tr>\n",
       "    <tr>\n",
       "      <th>395</th>\n",
       "      <td>1395</td>\n",
       "      <td>Leonard</td>\n",
       "      <td>Wooten</td>\n",
       "      <td>24</td>\n",
       "      <td>New York-Newark-Jersey City, NY-NJ-PA MSA</td>\n",
       "      <td>2018-06-19</td>\n",
       "      <td>ultimate</td>\n",
       "      <td>NaN</td>\n",
       "    </tr>\n",
       "    <tr>\n",
       "      <th>423</th>\n",
       "      <td>1423</td>\n",
       "      <td>Malcom</td>\n",
       "      <td>Neal</td>\n",
       "      <td>61</td>\n",
       "      <td>Philadelphia-Camden-Wilmington, PA-NJ-DE-MD MSA</td>\n",
       "      <td>2018-10-16</td>\n",
       "      <td>surf</td>\n",
       "      <td>NaN</td>\n",
       "    </tr>\n",
       "    <tr>\n",
       "      <th>90</th>\n",
       "      <td>1090</td>\n",
       "      <td>Brock</td>\n",
       "      <td>Skinner</td>\n",
       "      <td>30</td>\n",
       "      <td>Indianapolis-Carmel-Anderson, IN MSA</td>\n",
       "      <td>2018-05-12</td>\n",
       "      <td>surf</td>\n",
       "      <td>NaN</td>\n",
       "    </tr>\n",
       "    <tr>\n",
       "      <th>91</th>\n",
       "      <td>1091</td>\n",
       "      <td>Taylor</td>\n",
       "      <td>Oliver</td>\n",
       "      <td>38</td>\n",
       "      <td>Riverside-San Bernardino-Ontario, CA MSA</td>\n",
       "      <td>2018-05-04</td>\n",
       "      <td>ultimate</td>\n",
       "      <td>NaN</td>\n",
       "    </tr>\n",
       "    <tr>\n",
       "      <th>205</th>\n",
       "      <td>1205</td>\n",
       "      <td>Rafael</td>\n",
       "      <td>Wade</td>\n",
       "      <td>43</td>\n",
       "      <td>New York-Newark-Jersey City, NY-NJ-PA MSA</td>\n",
       "      <td>2018-04-05</td>\n",
       "      <td>surf</td>\n",
       "      <td>NaN</td>\n",
       "    </tr>\n",
       "    <tr>\n",
       "      <th>85</th>\n",
       "      <td>1085</td>\n",
       "      <td>Ignacio</td>\n",
       "      <td>Bennett</td>\n",
       "      <td>48</td>\n",
       "      <td>Atlanta-Sandy Springs-Roswell, GA MSA</td>\n",
       "      <td>2018-07-19</td>\n",
       "      <td>ultimate</td>\n",
       "      <td>NaN</td>\n",
       "    </tr>\n",
       "    <tr>\n",
       "      <th>359</th>\n",
       "      <td>1359</td>\n",
       "      <td>Sherley</td>\n",
       "      <td>Norris</td>\n",
       "      <td>33</td>\n",
       "      <td>Colorado Springs, CO MSA</td>\n",
       "      <td>2018-02-08</td>\n",
       "      <td>surf</td>\n",
       "      <td>NaN</td>\n",
       "    </tr>\n",
       "  </tbody>\n",
       "</table>\n",
       "</div>"
      ],
      "text/plain": [
       "     user_id first_name last_name  age  \\\n",
       "41      1041   Drucilla      Lynn   58   \n",
       "383     1383  Margarito     Mccoy   52   \n",
       "56      1056      Denis  Chandler   33   \n",
       "395     1395    Leonard    Wooten   24   \n",
       "423     1423     Malcom      Neal   61   \n",
       "90      1090      Brock   Skinner   30   \n",
       "91      1091     Taylor    Oliver   38   \n",
       "205     1205     Rafael      Wade   43   \n",
       "85      1085    Ignacio   Bennett   48   \n",
       "359     1359    Sherley    Norris   33   \n",
       "\n",
       "                                                city    reg_date      plan  \\\n",
       "41              Las Vegas-Henderson-Paradise, NV MSA  2018-03-17  ultimate   \n",
       "383          Tampa-St. Petersburg-Clearwater, FL MSA  2018-10-10  ultimate   \n",
       "56                          Cincinnati, OH-KY-IN MSA  2018-03-01      surf   \n",
       "395        New York-Newark-Jersey City, NY-NJ-PA MSA  2018-06-19  ultimate   \n",
       "423  Philadelphia-Camden-Wilmington, PA-NJ-DE-MD MSA  2018-10-16      surf   \n",
       "90              Indianapolis-Carmel-Anderson, IN MSA  2018-05-12      surf   \n",
       "91          Riverside-San Bernardino-Ontario, CA MSA  2018-05-04  ultimate   \n",
       "205        New York-Newark-Jersey City, NY-NJ-PA MSA  2018-04-05      surf   \n",
       "85             Atlanta-Sandy Springs-Roswell, GA MSA  2018-07-19  ultimate   \n",
       "359                         Colorado Springs, CO MSA  2018-02-08      surf   \n",
       "\n",
       "    churn_date  \n",
       "41         NaN  \n",
       "383        NaN  \n",
       "56         NaN  \n",
       "395        NaN  \n",
       "423        NaN  \n",
       "90         NaN  \n",
       "91         NaN  \n",
       "205        NaN  \n",
       "85         NaN  \n",
       "359        NaN  "
      ]
     },
     "execution_count": 7,
     "metadata": {},
     "output_type": "execute_result"
    }
   ],
   "source": [
    "# Imprime una muestra de datos para usuarios\n",
    "df_users.sample(10)\n"
   ]
  },
  {
   "cell_type": "markdown",
   "metadata": {
    "id": "dCZoUq4f0q06"
   },
   "source": [
    "- hay 8 columnas, de las cuales 2 de ellos son enteros que son el user_id y age. \n",
    "- el resto de las columnas tienen formato object o string. de estas columnas reg_date y churn_date deberian cambiarse a formato fecha para facilitar cálculos como la duración del servicio. \n",
    "- La edad mínima es 18 y la máxima es 75, lo cual parece razonable. No hay valores fuera de rango ni nulos.\n",
    "- Los valores no nulos de la colomba churn_date son pocos (34 de 500), lo que indica que la mayoría de los clientes permanecieron activos al momento de extraer los datos."
   ]
  },
  {
   "cell_type": "markdown",
   "metadata": {
    "id": "BX5FQh_I0q06"
   },
   "source": [
    "### Corregir los datos"
   ]
  },
  {
   "cell_type": "markdown",
   "metadata": {
    "id": "8OdKMwJv0q06"
   },
   "source": [
    "cambiamos las columnas 'reg_date' y 'churn_date' por el formato datetime[ns]"
   ]
  },
  {
   "cell_type": "code",
   "execution_count": 8,
   "metadata": {},
   "outputs": [
    {
     "name": "stdout",
     "output_type": "stream",
     "text": [
      "<class 'pandas.core.frame.DataFrame'>\n",
      "RangeIndex: 500 entries, 0 to 499\n",
      "Data columns (total 8 columns):\n",
      " #   Column      Non-Null Count  Dtype         \n",
      "---  ------      --------------  -----         \n",
      " 0   user_id     500 non-null    int64         \n",
      " 1   first_name  500 non-null    object        \n",
      " 2   last_name   500 non-null    object        \n",
      " 3   age         500 non-null    int64         \n",
      " 4   city        500 non-null    object        \n",
      " 5   reg_date    500 non-null    datetime64[ns]\n",
      " 6   plan        500 non-null    object        \n",
      " 7   churn_date  34 non-null     datetime64[ns]\n",
      "dtypes: datetime64[ns](2), int64(2), object(4)\n",
      "memory usage: 31.4+ KB\n"
     ]
    }
   ],
   "source": [
    "df_users['reg_date'] = pd.to_datetime(df_users['reg_date'])\n",
    "df_users['churn_date'] = pd.to_datetime(df_users['churn_date'])\n",
    "df_users.info()\n"
   ]
  },
  {
   "cell_type": "markdown",
   "metadata": {
    "id": "ycwuARJp0q07"
   },
   "source": [
    "### Enriquecer los datos"
   ]
  },
  {
   "cell_type": "markdown",
   "metadata": {
    "id": "96NIh4CJ0q08"
   },
   "source": [
    "Agregamos una columna para identificar los usuarios activos en el momento de extraer la información. "
   ]
  },
  {
   "cell_type": "code",
   "execution_count": 9,
   "metadata": {
    "id": "iq0AaBS90q08"
   },
   "outputs": [
    {
     "data": {
      "text/html": [
       "<div>\n",
       "<style scoped>\n",
       "    .dataframe tbody tr th:only-of-type {\n",
       "        vertical-align: middle;\n",
       "    }\n",
       "\n",
       "    .dataframe tbody tr th {\n",
       "        vertical-align: top;\n",
       "    }\n",
       "\n",
       "    .dataframe thead th {\n",
       "        text-align: right;\n",
       "    }\n",
       "</style>\n",
       "<table border=\"1\" class=\"dataframe\">\n",
       "  <thead>\n",
       "    <tr style=\"text-align: right;\">\n",
       "      <th></th>\n",
       "      <th>user_id</th>\n",
       "      <th>first_name</th>\n",
       "      <th>last_name</th>\n",
       "      <th>age</th>\n",
       "      <th>city</th>\n",
       "      <th>reg_date</th>\n",
       "      <th>plan</th>\n",
       "      <th>churn_date</th>\n",
       "      <th>active</th>\n",
       "    </tr>\n",
       "  </thead>\n",
       "  <tbody>\n",
       "    <tr>\n",
       "      <th>0</th>\n",
       "      <td>1000</td>\n",
       "      <td>Anamaria</td>\n",
       "      <td>Bauer</td>\n",
       "      <td>45</td>\n",
       "      <td>Atlanta-Sandy Springs-Roswell, GA MSA</td>\n",
       "      <td>2018-12-24</td>\n",
       "      <td>ultimate</td>\n",
       "      <td>NaT</td>\n",
       "      <td>True</td>\n",
       "    </tr>\n",
       "    <tr>\n",
       "      <th>1</th>\n",
       "      <td>1001</td>\n",
       "      <td>Mickey</td>\n",
       "      <td>Wilkerson</td>\n",
       "      <td>28</td>\n",
       "      <td>Seattle-Tacoma-Bellevue, WA MSA</td>\n",
       "      <td>2018-08-13</td>\n",
       "      <td>surf</td>\n",
       "      <td>NaT</td>\n",
       "      <td>True</td>\n",
       "    </tr>\n",
       "    <tr>\n",
       "      <th>2</th>\n",
       "      <td>1002</td>\n",
       "      <td>Carlee</td>\n",
       "      <td>Hoffman</td>\n",
       "      <td>36</td>\n",
       "      <td>Las Vegas-Henderson-Paradise, NV MSA</td>\n",
       "      <td>2018-10-21</td>\n",
       "      <td>surf</td>\n",
       "      <td>NaT</td>\n",
       "      <td>True</td>\n",
       "    </tr>\n",
       "    <tr>\n",
       "      <th>3</th>\n",
       "      <td>1003</td>\n",
       "      <td>Reynaldo</td>\n",
       "      <td>Jenkins</td>\n",
       "      <td>52</td>\n",
       "      <td>Tulsa, OK MSA</td>\n",
       "      <td>2018-01-28</td>\n",
       "      <td>surf</td>\n",
       "      <td>NaT</td>\n",
       "      <td>True</td>\n",
       "    </tr>\n",
       "    <tr>\n",
       "      <th>4</th>\n",
       "      <td>1004</td>\n",
       "      <td>Leonila</td>\n",
       "      <td>Thompson</td>\n",
       "      <td>40</td>\n",
       "      <td>Seattle-Tacoma-Bellevue, WA MSA</td>\n",
       "      <td>2018-05-23</td>\n",
       "      <td>surf</td>\n",
       "      <td>NaT</td>\n",
       "      <td>True</td>\n",
       "    </tr>\n",
       "  </tbody>\n",
       "</table>\n",
       "</div>"
      ],
      "text/plain": [
       "   user_id first_name  last_name  age                                   city  \\\n",
       "0     1000   Anamaria      Bauer   45  Atlanta-Sandy Springs-Roswell, GA MSA   \n",
       "1     1001     Mickey  Wilkerson   28        Seattle-Tacoma-Bellevue, WA MSA   \n",
       "2     1002     Carlee    Hoffman   36   Las Vegas-Henderson-Paradise, NV MSA   \n",
       "3     1003   Reynaldo    Jenkins   52                          Tulsa, OK MSA   \n",
       "4     1004    Leonila   Thompson   40        Seattle-Tacoma-Bellevue, WA MSA   \n",
       "\n",
       "    reg_date      plan churn_date  active  \n",
       "0 2018-12-24  ultimate        NaT    True  \n",
       "1 2018-08-13      surf        NaT    True  \n",
       "2 2018-10-21      surf        NaT    True  \n",
       "3 2018-01-28      surf        NaT    True  \n",
       "4 2018-05-23      surf        NaT    True  "
      ]
     },
     "execution_count": 9,
     "metadata": {},
     "output_type": "execute_result"
    }
   ],
   "source": [
    "# Crear una nueva columna 'active' que indica si el usuario está activo (True si churn_date es nulo)\n",
    "df_users['active'] = df_users['churn_date'].isna()\n",
    "\n",
    "# Confirmar el cambio\n",
    "df_users.head()"
   ]
  },
  {
   "cell_type": "markdown",
   "metadata": {
    "id": "o7MeKCid0q08"
   },
   "source": [
    "## Llamadas"
   ]
  },
  {
   "cell_type": "code",
   "execution_count": 10,
   "metadata": {
    "id": "6dDlnoDm0q08"
   },
   "outputs": [
    {
     "name": "stdout",
     "output_type": "stream",
     "text": [
      "<class 'pandas.core.frame.DataFrame'>\n",
      "RangeIndex: 137735 entries, 0 to 137734\n",
      "Data columns (total 4 columns):\n",
      " #   Column     Non-Null Count   Dtype  \n",
      "---  ------     --------------   -----  \n",
      " 0   id         137735 non-null  object \n",
      " 1   user_id    137735 non-null  int64  \n",
      " 2   call_date  137735 non-null  object \n",
      " 3   duration   137735 non-null  float64\n",
      "dtypes: float64(1), int64(1), object(2)\n",
      "memory usage: 4.2+ MB\n"
     ]
    },
    {
     "data": {
      "text/html": [
       "<div>\n",
       "<style scoped>\n",
       "    .dataframe tbody tr th:only-of-type {\n",
       "        vertical-align: middle;\n",
       "    }\n",
       "\n",
       "    .dataframe tbody tr th {\n",
       "        vertical-align: top;\n",
       "    }\n",
       "\n",
       "    .dataframe thead th {\n",
       "        text-align: right;\n",
       "    }\n",
       "</style>\n",
       "<table border=\"1\" class=\"dataframe\">\n",
       "  <thead>\n",
       "    <tr style=\"text-align: right;\">\n",
       "      <th></th>\n",
       "      <th>id</th>\n",
       "      <th>user_id</th>\n",
       "      <th>call_date</th>\n",
       "      <th>duration</th>\n",
       "    </tr>\n",
       "  </thead>\n",
       "  <tbody>\n",
       "    <tr>\n",
       "      <th>count</th>\n",
       "      <td>137735</td>\n",
       "      <td>137735.000000</td>\n",
       "      <td>137735</td>\n",
       "      <td>137735.000000</td>\n",
       "    </tr>\n",
       "    <tr>\n",
       "      <th>unique</th>\n",
       "      <td>137735</td>\n",
       "      <td>NaN</td>\n",
       "      <td>351</td>\n",
       "      <td>NaN</td>\n",
       "    </tr>\n",
       "    <tr>\n",
       "      <th>top</th>\n",
       "      <td>1268_481</td>\n",
       "      <td>NaN</td>\n",
       "      <td>2018-12-27</td>\n",
       "      <td>NaN</td>\n",
       "    </tr>\n",
       "    <tr>\n",
       "      <th>freq</th>\n",
       "      <td>1</td>\n",
       "      <td>NaN</td>\n",
       "      <td>1091</td>\n",
       "      <td>NaN</td>\n",
       "    </tr>\n",
       "    <tr>\n",
       "      <th>mean</th>\n",
       "      <td>NaN</td>\n",
       "      <td>1247.658046</td>\n",
       "      <td>NaN</td>\n",
       "      <td>6.745927</td>\n",
       "    </tr>\n",
       "    <tr>\n",
       "      <th>std</th>\n",
       "      <td>NaN</td>\n",
       "      <td>139.416268</td>\n",
       "      <td>NaN</td>\n",
       "      <td>5.839241</td>\n",
       "    </tr>\n",
       "    <tr>\n",
       "      <th>min</th>\n",
       "      <td>NaN</td>\n",
       "      <td>1000.000000</td>\n",
       "      <td>NaN</td>\n",
       "      <td>0.000000</td>\n",
       "    </tr>\n",
       "    <tr>\n",
       "      <th>25%</th>\n",
       "      <td>NaN</td>\n",
       "      <td>1128.000000</td>\n",
       "      <td>NaN</td>\n",
       "      <td>1.290000</td>\n",
       "    </tr>\n",
       "    <tr>\n",
       "      <th>50%</th>\n",
       "      <td>NaN</td>\n",
       "      <td>1247.000000</td>\n",
       "      <td>NaN</td>\n",
       "      <td>5.980000</td>\n",
       "    </tr>\n",
       "    <tr>\n",
       "      <th>75%</th>\n",
       "      <td>NaN</td>\n",
       "      <td>1365.000000</td>\n",
       "      <td>NaN</td>\n",
       "      <td>10.690000</td>\n",
       "    </tr>\n",
       "    <tr>\n",
       "      <th>max</th>\n",
       "      <td>NaN</td>\n",
       "      <td>1499.000000</td>\n",
       "      <td>NaN</td>\n",
       "      <td>37.600000</td>\n",
       "    </tr>\n",
       "  </tbody>\n",
       "</table>\n",
       "</div>"
      ],
      "text/plain": [
       "              id        user_id   call_date       duration\n",
       "count     137735  137735.000000      137735  137735.000000\n",
       "unique    137735            NaN         351            NaN\n",
       "top     1268_481            NaN  2018-12-27            NaN\n",
       "freq           1            NaN        1091            NaN\n",
       "mean         NaN    1247.658046         NaN       6.745927\n",
       "std          NaN     139.416268         NaN       5.839241\n",
       "min          NaN    1000.000000         NaN       0.000000\n",
       "25%          NaN    1128.000000         NaN       1.290000\n",
       "50%          NaN    1247.000000         NaN       5.980000\n",
       "75%          NaN    1365.000000         NaN      10.690000\n",
       "max          NaN    1499.000000         NaN      37.600000"
      ]
     },
     "execution_count": 10,
     "metadata": {},
     "output_type": "execute_result"
    }
   ],
   "source": [
    "# Imprime la información general/resumida sobre el DataFrame de las llamadas\n",
    "# Información general sobre el DataFrame df_calls\n",
    "df_calls.info()\n",
    "\n",
    "# Resumen estadístico del DataFrame df_caLLS\n",
    "df_calls.describe(include='all')\n"
   ]
  },
  {
   "cell_type": "code",
   "execution_count": 11,
   "metadata": {
    "id": "kuh1vlNB0q09"
   },
   "outputs": [
    {
     "data": {
      "text/html": [
       "<div>\n",
       "<style scoped>\n",
       "    .dataframe tbody tr th:only-of-type {\n",
       "        vertical-align: middle;\n",
       "    }\n",
       "\n",
       "    .dataframe tbody tr th {\n",
       "        vertical-align: top;\n",
       "    }\n",
       "\n",
       "    .dataframe thead th {\n",
       "        text-align: right;\n",
       "    }\n",
       "</style>\n",
       "<table border=\"1\" class=\"dataframe\">\n",
       "  <thead>\n",
       "    <tr style=\"text-align: right;\">\n",
       "      <th></th>\n",
       "      <th>id</th>\n",
       "      <th>user_id</th>\n",
       "      <th>call_date</th>\n",
       "      <th>duration</th>\n",
       "    </tr>\n",
       "  </thead>\n",
       "  <tbody>\n",
       "    <tr>\n",
       "      <th>101328</th>\n",
       "      <td>1362_65</td>\n",
       "      <td>1362</td>\n",
       "      <td>2018-05-11</td>\n",
       "      <td>7.86</td>\n",
       "    </tr>\n",
       "    <tr>\n",
       "      <th>126649</th>\n",
       "      <td>1451_49</td>\n",
       "      <td>1451</td>\n",
       "      <td>2018-11-26</td>\n",
       "      <td>0.00</td>\n",
       "    </tr>\n",
       "    <tr>\n",
       "      <th>130863</th>\n",
       "      <td>1470_312</td>\n",
       "      <td>1470</td>\n",
       "      <td>2018-08-01</td>\n",
       "      <td>0.00</td>\n",
       "    </tr>\n",
       "    <tr>\n",
       "      <th>117651</th>\n",
       "      <td>1411_260</td>\n",
       "      <td>1411</td>\n",
       "      <td>2018-10-13</td>\n",
       "      <td>6.71</td>\n",
       "    </tr>\n",
       "    <tr>\n",
       "      <th>40193</th>\n",
       "      <td>1148_52</td>\n",
       "      <td>1148</td>\n",
       "      <td>2018-12-13</td>\n",
       "      <td>2.51</td>\n",
       "    </tr>\n",
       "    <tr>\n",
       "      <th>53025</th>\n",
       "      <td>1191_173</td>\n",
       "      <td>1191</td>\n",
       "      <td>2018-12-07</td>\n",
       "      <td>1.38</td>\n",
       "    </tr>\n",
       "    <tr>\n",
       "      <th>113964</th>\n",
       "      <td>1400_306</td>\n",
       "      <td>1400</td>\n",
       "      <td>2018-10-25</td>\n",
       "      <td>0.00</td>\n",
       "    </tr>\n",
       "    <tr>\n",
       "      <th>102428</th>\n",
       "      <td>1363_41</td>\n",
       "      <td>1363</td>\n",
       "      <td>2018-12-18</td>\n",
       "      <td>12.80</td>\n",
       "    </tr>\n",
       "    <tr>\n",
       "      <th>45916</th>\n",
       "      <td>1166_99</td>\n",
       "      <td>1166</td>\n",
       "      <td>2018-11-14</td>\n",
       "      <td>0.00</td>\n",
       "    </tr>\n",
       "    <tr>\n",
       "      <th>76286</th>\n",
       "      <td>1270_279</td>\n",
       "      <td>1270</td>\n",
       "      <td>2018-11-03</td>\n",
       "      <td>0.00</td>\n",
       "    </tr>\n",
       "  </tbody>\n",
       "</table>\n",
       "</div>"
      ],
      "text/plain": [
       "              id  user_id   call_date  duration\n",
       "101328   1362_65     1362  2018-05-11      7.86\n",
       "126649   1451_49     1451  2018-11-26      0.00\n",
       "130863  1470_312     1470  2018-08-01      0.00\n",
       "117651  1411_260     1411  2018-10-13      6.71\n",
       "40193    1148_52     1148  2018-12-13      2.51\n",
       "53025   1191_173     1191  2018-12-07      1.38\n",
       "113964  1400_306     1400  2018-10-25      0.00\n",
       "102428   1363_41     1363  2018-12-18     12.80\n",
       "45916    1166_99     1166  2018-11-14      0.00\n",
       "76286   1270_279     1270  2018-11-03      0.00"
      ]
     },
     "execution_count": 11,
     "metadata": {},
     "output_type": "execute_result"
    }
   ],
   "source": [
    "# Imprime una muestra de datos para las llamadas\n",
    "df_calls.sample(10)\n"
   ]
  },
  {
   "cell_type": "markdown",
   "metadata": {
    "id": "DOAxYJSx0q09"
   },
   "source": [
    "* no hay valores nulos en ninguna de las columnas.\n",
    "* call_date esta en formato object, debemos cambiarla a formato datetime.\n",
    "* el promedio de duración de las llamadas es 6.75 minutos, con un rango entre 0 a 37.6 minutos. el 25% de las llamadas duran menos de 1.29 minutos, y el 75% menos de 10.69 minutos. \n",
    "* existen llamadas de duración cero (0), esto podria significar llamadas fallidas o no respondidas. investigaremos que % de todas las llamadas estan en esta duración para mirar si son significativas o si debemos excluirlas de los cálculos. "
   ]
  },
  {
   "cell_type": "markdown",
   "metadata": {
    "id": "S7hzxmbX0q0-"
   },
   "source": [
    "### Corregir los datos"
   ]
  },
  {
   "cell_type": "markdown",
   "metadata": {
    "id": "YxWyAjD20q0-"
   },
   "source": [
    "[Corrige los problemas obvios con los datos basándote en las observaciones iniciales.]"
   ]
  },
  {
   "cell_type": "code",
   "execution_count": 12,
   "metadata": {
    "id": "S2r8xA4f0q0-"
   },
   "outputs": [
    {
     "name": "stdout",
     "output_type": "stream",
     "text": [
      "Porcentaje de llamadas con duración 0: 19.48%\n"
     ]
    }
   ],
   "source": [
    "# hallamos el porcentaje de llamadas con duración cero\n",
    "zero_duration_calls = df_calls[df_calls['duration'] == 0]\n",
    "zero_duration_percentage = len(zero_duration_calls) / len(df_calls) * 100\n",
    "print(f\"Porcentaje de llamadas con duración 0: {zero_duration_percentage:.2f}%\")\n",
    "\n",
    "# convertimos la columna call_date al formato datetime\n",
    "df_calls['call_date'] = pd.to_datetime(df_calls['call_date'])"
   ]
  },
  {
   "cell_type": "markdown",
   "metadata": {
    "id": "KrMgTrlG0q0_"
   },
   "source": [
    "### Enriquecer los datos"
   ]
  },
  {
   "cell_type": "markdown",
   "metadata": {
    "id": "a9MbmEvE0q0_"
   },
   "source": [
    "vamos a llevar a cabo las siguientes acciones:\n",
    "1. vamos a extraer el día de la semana de la columna call_date para analizar patrones de llamadas en una nueva columna llamada call_day.\n",
    "2. vamos a extraer el mes de la llamada para analizar tendencias mensuales en una nueva columna llamada call_month. \n",
    "3. vamos a redondear hacia arriba la duración de las llamadas, ya que sabemos que la compañia cobra de esta manera, en una nueva columna llamada Duration_rounded\n",
    "4.  vamos a crear una nueva columna llamada call_category, para clasificar las llamadas en Corta (<5 minutos), Media (5-15 minutos), y Larga (>15 minutos)."
   ]
  },
  {
   "cell_type": "code",
   "execution_count": 13,
   "metadata": {
    "id": "iZ1avpA_0q0_"
   },
   "outputs": [
    {
     "data": {
      "text/html": [
       "<div>\n",
       "<style scoped>\n",
       "    .dataframe tbody tr th:only-of-type {\n",
       "        vertical-align: middle;\n",
       "    }\n",
       "\n",
       "    .dataframe tbody tr th {\n",
       "        vertical-align: top;\n",
       "    }\n",
       "\n",
       "    .dataframe thead th {\n",
       "        text-align: right;\n",
       "    }\n",
       "</style>\n",
       "<table border=\"1\" class=\"dataframe\">\n",
       "  <thead>\n",
       "    <tr style=\"text-align: right;\">\n",
       "      <th></th>\n",
       "      <th>id</th>\n",
       "      <th>user_id</th>\n",
       "      <th>call_date</th>\n",
       "      <th>duration</th>\n",
       "      <th>call_day</th>\n",
       "      <th>call_month</th>\n",
       "      <th>duration_rounded</th>\n",
       "      <th>call_category</th>\n",
       "    </tr>\n",
       "  </thead>\n",
       "  <tbody>\n",
       "    <tr>\n",
       "      <th>0</th>\n",
       "      <td>1000_93</td>\n",
       "      <td>1000</td>\n",
       "      <td>2018-12-27</td>\n",
       "      <td>8.52</td>\n",
       "      <td>Thursday</td>\n",
       "      <td>12</td>\n",
       "      <td>9.0</td>\n",
       "      <td>Media</td>\n",
       "    </tr>\n",
       "    <tr>\n",
       "      <th>1</th>\n",
       "      <td>1000_145</td>\n",
       "      <td>1000</td>\n",
       "      <td>2018-12-27</td>\n",
       "      <td>13.66</td>\n",
       "      <td>Thursday</td>\n",
       "      <td>12</td>\n",
       "      <td>14.0</td>\n",
       "      <td>Media</td>\n",
       "    </tr>\n",
       "    <tr>\n",
       "      <th>2</th>\n",
       "      <td>1000_247</td>\n",
       "      <td>1000</td>\n",
       "      <td>2018-12-27</td>\n",
       "      <td>14.48</td>\n",
       "      <td>Thursday</td>\n",
       "      <td>12</td>\n",
       "      <td>15.0</td>\n",
       "      <td>Media</td>\n",
       "    </tr>\n",
       "    <tr>\n",
       "      <th>3</th>\n",
       "      <td>1000_309</td>\n",
       "      <td>1000</td>\n",
       "      <td>2018-12-28</td>\n",
       "      <td>5.76</td>\n",
       "      <td>Friday</td>\n",
       "      <td>12</td>\n",
       "      <td>6.0</td>\n",
       "      <td>Media</td>\n",
       "    </tr>\n",
       "    <tr>\n",
       "      <th>4</th>\n",
       "      <td>1000_380</td>\n",
       "      <td>1000</td>\n",
       "      <td>2018-12-30</td>\n",
       "      <td>4.22</td>\n",
       "      <td>Sunday</td>\n",
       "      <td>12</td>\n",
       "      <td>5.0</td>\n",
       "      <td>Media</td>\n",
       "    </tr>\n",
       "  </tbody>\n",
       "</table>\n",
       "</div>"
      ],
      "text/plain": [
       "         id  user_id  call_date  duration  call_day  call_month  \\\n",
       "0   1000_93     1000 2018-12-27      8.52  Thursday          12   \n",
       "1  1000_145     1000 2018-12-27     13.66  Thursday          12   \n",
       "2  1000_247     1000 2018-12-27     14.48  Thursday          12   \n",
       "3  1000_309     1000 2018-12-28      5.76    Friday          12   \n",
       "4  1000_380     1000 2018-12-30      4.22    Sunday          12   \n",
       "\n",
       "   duration_rounded call_category  \n",
       "0               9.0         Media  \n",
       "1              14.0         Media  \n",
       "2              15.0         Media  \n",
       "3               6.0         Media  \n",
       "4               5.0         Media  "
      ]
     },
     "execution_count": 13,
     "metadata": {},
     "output_type": "execute_result"
    }
   ],
   "source": [
    "# 1. Extraer el día de la semana\n",
    "df_calls['call_day'] = df_calls['call_date'].dt.day_name()\n",
    "\n",
    "# 2. Extraer el mes de la llamada\n",
    "df_calls['call_month'] = df_calls['call_date'].dt.month\n",
    "\n",
    "# 3. Redondear la duración de las llamadas hacia el minuto superior\n",
    "df_calls['duration_rounded'] = df_calls['duration'].apply(np.ceil)\n",
    "\n",
    "# 4. Categorizar la duración de las llamadas\n",
    "def categorize_call(duration):\n",
    "    if duration == 0:\n",
    "        return 'Sin duración'\n",
    "    elif duration < 5:\n",
    "        return 'Corta'\n",
    "    elif 5 <= duration <= 15:\n",
    "        return 'Media'\n",
    "    else:\n",
    "        return 'Larga'\n",
    "\n",
    "df_calls['call_category'] = df_calls['duration_rounded'].apply(categorize_call)\n",
    "\n",
    "\n",
    "\n",
    "# Mostrar una muestra de los datos enriquecidos\n",
    "df_calls.head()"
   ]
  },
  {
   "cell_type": "markdown",
   "metadata": {
    "id": "mOUZSi180q0_"
   },
   "source": [
    "## Mensajes"
   ]
  },
  {
   "cell_type": "code",
   "execution_count": 14,
   "metadata": {
    "id": "R-bYJpdV0q1A"
   },
   "outputs": [
    {
     "name": "stdout",
     "output_type": "stream",
     "text": [
      "<class 'pandas.core.frame.DataFrame'>\n",
      "RangeIndex: 76051 entries, 0 to 76050\n",
      "Data columns (total 3 columns):\n",
      " #   Column        Non-Null Count  Dtype \n",
      "---  ------        --------------  ----- \n",
      " 0   id            76051 non-null  object\n",
      " 1   user_id       76051 non-null  int64 \n",
      " 2   message_date  76051 non-null  object\n",
      "dtypes: int64(1), object(2)\n",
      "memory usage: 1.7+ MB\n"
     ]
    },
    {
     "data": {
      "text/html": [
       "<div>\n",
       "<style scoped>\n",
       "    .dataframe tbody tr th:only-of-type {\n",
       "        vertical-align: middle;\n",
       "    }\n",
       "\n",
       "    .dataframe tbody tr th {\n",
       "        vertical-align: top;\n",
       "    }\n",
       "\n",
       "    .dataframe thead th {\n",
       "        text-align: right;\n",
       "    }\n",
       "</style>\n",
       "<table border=\"1\" class=\"dataframe\">\n",
       "  <thead>\n",
       "    <tr style=\"text-align: right;\">\n",
       "      <th></th>\n",
       "      <th>id</th>\n",
       "      <th>user_id</th>\n",
       "      <th>message_date</th>\n",
       "    </tr>\n",
       "  </thead>\n",
       "  <tbody>\n",
       "    <tr>\n",
       "      <th>count</th>\n",
       "      <td>76051</td>\n",
       "      <td>76051.000000</td>\n",
       "      <td>76051</td>\n",
       "    </tr>\n",
       "    <tr>\n",
       "      <th>unique</th>\n",
       "      <td>76051</td>\n",
       "      <td>NaN</td>\n",
       "      <td>351</td>\n",
       "    </tr>\n",
       "    <tr>\n",
       "      <th>top</th>\n",
       "      <td>1433_13</td>\n",
       "      <td>NaN</td>\n",
       "      <td>2018-12-28</td>\n",
       "    </tr>\n",
       "    <tr>\n",
       "      <th>freq</th>\n",
       "      <td>1</td>\n",
       "      <td>NaN</td>\n",
       "      <td>702</td>\n",
       "    </tr>\n",
       "    <tr>\n",
       "      <th>mean</th>\n",
       "      <td>NaN</td>\n",
       "      <td>1245.972768</td>\n",
       "      <td>NaN</td>\n",
       "    </tr>\n",
       "    <tr>\n",
       "      <th>std</th>\n",
       "      <td>NaN</td>\n",
       "      <td>139.843635</td>\n",
       "      <td>NaN</td>\n",
       "    </tr>\n",
       "    <tr>\n",
       "      <th>min</th>\n",
       "      <td>NaN</td>\n",
       "      <td>1000.000000</td>\n",
       "      <td>NaN</td>\n",
       "    </tr>\n",
       "    <tr>\n",
       "      <th>25%</th>\n",
       "      <td>NaN</td>\n",
       "      <td>1123.000000</td>\n",
       "      <td>NaN</td>\n",
       "    </tr>\n",
       "    <tr>\n",
       "      <th>50%</th>\n",
       "      <td>NaN</td>\n",
       "      <td>1251.000000</td>\n",
       "      <td>NaN</td>\n",
       "    </tr>\n",
       "    <tr>\n",
       "      <th>75%</th>\n",
       "      <td>NaN</td>\n",
       "      <td>1362.000000</td>\n",
       "      <td>NaN</td>\n",
       "    </tr>\n",
       "    <tr>\n",
       "      <th>max</th>\n",
       "      <td>NaN</td>\n",
       "      <td>1497.000000</td>\n",
       "      <td>NaN</td>\n",
       "    </tr>\n",
       "  </tbody>\n",
       "</table>\n",
       "</div>"
      ],
      "text/plain": [
       "             id       user_id message_date\n",
       "count     76051  76051.000000        76051\n",
       "unique    76051           NaN          351\n",
       "top     1433_13           NaN   2018-12-28\n",
       "freq          1           NaN          702\n",
       "mean        NaN   1245.972768          NaN\n",
       "std         NaN    139.843635          NaN\n",
       "min         NaN   1000.000000          NaN\n",
       "25%         NaN   1123.000000          NaN\n",
       "50%         NaN   1251.000000          NaN\n",
       "75%         NaN   1362.000000          NaN\n",
       "max         NaN   1497.000000          NaN"
      ]
     },
     "execution_count": 14,
     "metadata": {},
     "output_type": "execute_result"
    }
   ],
   "source": [
    "# Imprime la información general/resumida sobre el DataFrame de los mensajes\n",
    "# Información general sobre el DataFrame df_calls\n",
    "df_messages.info()\n",
    "\n",
    "# Resumen estadístico del DataFrame df_caLLS\n",
    "df_messages.describe(include='all')\n"
   ]
  },
  {
   "cell_type": "code",
   "execution_count": 15,
   "metadata": {
    "id": "mCEl2iGE0q1A"
   },
   "outputs": [
    {
     "data": {
      "text/html": [
       "<div>\n",
       "<style scoped>\n",
       "    .dataframe tbody tr th:only-of-type {\n",
       "        vertical-align: middle;\n",
       "    }\n",
       "\n",
       "    .dataframe tbody tr th {\n",
       "        vertical-align: top;\n",
       "    }\n",
       "\n",
       "    .dataframe thead th {\n",
       "        text-align: right;\n",
       "    }\n",
       "</style>\n",
       "<table border=\"1\" class=\"dataframe\">\n",
       "  <thead>\n",
       "    <tr style=\"text-align: right;\">\n",
       "      <th></th>\n",
       "      <th>id</th>\n",
       "      <th>user_id</th>\n",
       "      <th>message_date</th>\n",
       "    </tr>\n",
       "  </thead>\n",
       "  <tbody>\n",
       "    <tr>\n",
       "      <th>43830</th>\n",
       "      <td>1293_102</td>\n",
       "      <td>1293</td>\n",
       "      <td>2018-12-04</td>\n",
       "    </tr>\n",
       "    <tr>\n",
       "      <th>67139</th>\n",
       "      <td>1435_177</td>\n",
       "      <td>1435</td>\n",
       "      <td>2018-12-14</td>\n",
       "    </tr>\n",
       "    <tr>\n",
       "      <th>35590</th>\n",
       "      <td>1231_9</td>\n",
       "      <td>1231</td>\n",
       "      <td>2018-11-27</td>\n",
       "    </tr>\n",
       "    <tr>\n",
       "      <th>41046</th>\n",
       "      <td>1264_113</td>\n",
       "      <td>1264</td>\n",
       "      <td>2018-10-15</td>\n",
       "    </tr>\n",
       "    <tr>\n",
       "      <th>13023</th>\n",
       "      <td>1086_53</td>\n",
       "      <td>1086</td>\n",
       "      <td>2018-12-31</td>\n",
       "    </tr>\n",
       "    <tr>\n",
       "      <th>30679</th>\n",
       "      <td>1193_361</td>\n",
       "      <td>1193</td>\n",
       "      <td>2018-08-09</td>\n",
       "    </tr>\n",
       "    <tr>\n",
       "      <th>56837</th>\n",
       "      <td>1361_189</td>\n",
       "      <td>1361</td>\n",
       "      <td>2018-06-29</td>\n",
       "    </tr>\n",
       "    <tr>\n",
       "      <th>11703</th>\n",
       "      <td>1079_102</td>\n",
       "      <td>1079</td>\n",
       "      <td>2018-10-14</td>\n",
       "    </tr>\n",
       "    <tr>\n",
       "      <th>44530</th>\n",
       "      <td>1296_34</td>\n",
       "      <td>1296</td>\n",
       "      <td>2018-12-22</td>\n",
       "    </tr>\n",
       "    <tr>\n",
       "      <th>71923</th>\n",
       "      <td>1467_255</td>\n",
       "      <td>1467</td>\n",
       "      <td>2018-09-19</td>\n",
       "    </tr>\n",
       "  </tbody>\n",
       "</table>\n",
       "</div>"
      ],
      "text/plain": [
       "             id  user_id message_date\n",
       "43830  1293_102     1293   2018-12-04\n",
       "67139  1435_177     1435   2018-12-14\n",
       "35590    1231_9     1231   2018-11-27\n",
       "41046  1264_113     1264   2018-10-15\n",
       "13023   1086_53     1086   2018-12-31\n",
       "30679  1193_361     1193   2018-08-09\n",
       "56837  1361_189     1361   2018-06-29\n",
       "11703  1079_102     1079   2018-10-14\n",
       "44530   1296_34     1296   2018-12-22\n",
       "71923  1467_255     1467   2018-09-19"
      ]
     },
     "execution_count": 15,
     "metadata": {},
     "output_type": "execute_result"
    }
   ],
   "source": [
    "# Imprime una muestra de datos para los mensajes\n",
    "df_messages.sample(10)\n"
   ]
  },
  {
   "cell_type": "markdown",
   "metadata": {
    "id": "04xDj7KH0q1A"
   },
   "source": [
    "las observación de df_messages son los siguientes:\n",
    "\n",
    "- no hay valores nulos en ninguna de las columnas.\n",
    "- hay 3 columnas de las cuales 3 son del tipo object o string (id, message_date) y una de tipo entero - int64 (user_id).\n",
    "- la columna message_date debe cambiar del tipo object a datetime. "
   ]
  },
  {
   "cell_type": "markdown",
   "metadata": {
    "id": "Sprfak900q1B"
   },
   "source": [
    "### Corregir los datos"
   ]
  },
  {
   "cell_type": "markdown",
   "metadata": {
    "id": "eGw7d9j10q1B"
   },
   "source": [
    "- covertiremos los datos de la columna message_date al tipo datetime"
   ]
  },
  {
   "cell_type": "code",
   "execution_count": 16,
   "metadata": {
    "id": "vsllvkoa0q1B"
   },
   "outputs": [],
   "source": [
    "#convertir los datos de la columna message_date al tipo datetime\n",
    "df_messages['message_date'] = pd.to_datetime(df_messages['message_date'])"
   ]
  },
  {
   "cell_type": "markdown",
   "metadata": {
    "id": "HvLid7iD0q1B"
   },
   "source": [
    "### Enriquecer los datos"
   ]
  },
  {
   "cell_type": "markdown",
   "metadata": {
    "id": "8nhPFKIe0q1C"
   },
   "source": [
    "- podría ser útil para enriquecer los datos, extraer los días de la semana en una nueva columna llamada message_day y extraer el mes del mensaje en una nueva columna llamda message_month.  "
   ]
  },
  {
   "cell_type": "code",
   "execution_count": 17,
   "metadata": {
    "id": "zYEXZac10q1C"
   },
   "outputs": [],
   "source": [
    "# creamos 2 nuevas columnas (message_day y message_month)\n",
    "df_messages['message_day'] = df_messages['message_date'].dt.day_name()\n",
    "df_messages['message_month'] = df_messages['message_date'].dt.month"
   ]
  },
  {
   "cell_type": "markdown",
   "metadata": {
    "id": "bStkaxn40q1C"
   },
   "source": [
    "## Internet"
   ]
  },
  {
   "cell_type": "code",
   "execution_count": 18,
   "metadata": {
    "id": "e-Uz5qyn0q1C"
   },
   "outputs": [
    {
     "name": "stdout",
     "output_type": "stream",
     "text": [
      "<class 'pandas.core.frame.DataFrame'>\n",
      "RangeIndex: 104825 entries, 0 to 104824\n",
      "Data columns (total 4 columns):\n",
      " #   Column        Non-Null Count   Dtype  \n",
      "---  ------        --------------   -----  \n",
      " 0   id            104825 non-null  object \n",
      " 1   user_id       104825 non-null  int64  \n",
      " 2   session_date  104825 non-null  object \n",
      " 3   mb_used       104825 non-null  float64\n",
      "dtypes: float64(1), int64(1), object(2)\n",
      "memory usage: 3.2+ MB\n"
     ]
    },
    {
     "data": {
      "text/html": [
       "<div>\n",
       "<style scoped>\n",
       "    .dataframe tbody tr th:only-of-type {\n",
       "        vertical-align: middle;\n",
       "    }\n",
       "\n",
       "    .dataframe tbody tr th {\n",
       "        vertical-align: top;\n",
       "    }\n",
       "\n",
       "    .dataframe thead th {\n",
       "        text-align: right;\n",
       "    }\n",
       "</style>\n",
       "<table border=\"1\" class=\"dataframe\">\n",
       "  <thead>\n",
       "    <tr style=\"text-align: right;\">\n",
       "      <th></th>\n",
       "      <th>id</th>\n",
       "      <th>user_id</th>\n",
       "      <th>session_date</th>\n",
       "      <th>mb_used</th>\n",
       "    </tr>\n",
       "  </thead>\n",
       "  <tbody>\n",
       "    <tr>\n",
       "      <th>count</th>\n",
       "      <td>104825</td>\n",
       "      <td>104825.000000</td>\n",
       "      <td>104825</td>\n",
       "      <td>104825.000000</td>\n",
       "    </tr>\n",
       "    <tr>\n",
       "      <th>unique</th>\n",
       "      <td>104825</td>\n",
       "      <td>NaN</td>\n",
       "      <td>351</td>\n",
       "      <td>NaN</td>\n",
       "    </tr>\n",
       "    <tr>\n",
       "      <th>top</th>\n",
       "      <td>1373_38</td>\n",
       "      <td>NaN</td>\n",
       "      <td>2018-12-24</td>\n",
       "      <td>NaN</td>\n",
       "    </tr>\n",
       "    <tr>\n",
       "      <th>freq</th>\n",
       "      <td>1</td>\n",
       "      <td>NaN</td>\n",
       "      <td>851</td>\n",
       "      <td>NaN</td>\n",
       "    </tr>\n",
       "    <tr>\n",
       "      <th>mean</th>\n",
       "      <td>NaN</td>\n",
       "      <td>1242.496361</td>\n",
       "      <td>NaN</td>\n",
       "      <td>366.713701</td>\n",
       "    </tr>\n",
       "    <tr>\n",
       "      <th>std</th>\n",
       "      <td>NaN</td>\n",
       "      <td>142.053913</td>\n",
       "      <td>NaN</td>\n",
       "      <td>277.170542</td>\n",
       "    </tr>\n",
       "    <tr>\n",
       "      <th>min</th>\n",
       "      <td>NaN</td>\n",
       "      <td>1000.000000</td>\n",
       "      <td>NaN</td>\n",
       "      <td>0.000000</td>\n",
       "    </tr>\n",
       "    <tr>\n",
       "      <th>25%</th>\n",
       "      <td>NaN</td>\n",
       "      <td>1122.000000</td>\n",
       "      <td>NaN</td>\n",
       "      <td>136.080000</td>\n",
       "    </tr>\n",
       "    <tr>\n",
       "      <th>50%</th>\n",
       "      <td>NaN</td>\n",
       "      <td>1236.000000</td>\n",
       "      <td>NaN</td>\n",
       "      <td>343.980000</td>\n",
       "    </tr>\n",
       "    <tr>\n",
       "      <th>75%</th>\n",
       "      <td>NaN</td>\n",
       "      <td>1367.000000</td>\n",
       "      <td>NaN</td>\n",
       "      <td>554.610000</td>\n",
       "    </tr>\n",
       "    <tr>\n",
       "      <th>max</th>\n",
       "      <td>NaN</td>\n",
       "      <td>1499.000000</td>\n",
       "      <td>NaN</td>\n",
       "      <td>1693.470000</td>\n",
       "    </tr>\n",
       "  </tbody>\n",
       "</table>\n",
       "</div>"
      ],
      "text/plain": [
       "             id        user_id session_date        mb_used\n",
       "count    104825  104825.000000       104825  104825.000000\n",
       "unique   104825            NaN          351            NaN\n",
       "top     1373_38            NaN   2018-12-24            NaN\n",
       "freq          1            NaN          851            NaN\n",
       "mean        NaN    1242.496361          NaN     366.713701\n",
       "std         NaN     142.053913          NaN     277.170542\n",
       "min         NaN    1000.000000          NaN       0.000000\n",
       "25%         NaN    1122.000000          NaN     136.080000\n",
       "50%         NaN    1236.000000          NaN     343.980000\n",
       "75%         NaN    1367.000000          NaN     554.610000\n",
       "max         NaN    1499.000000          NaN    1693.470000"
      ]
     },
     "execution_count": 18,
     "metadata": {},
     "output_type": "execute_result"
    }
   ],
   "source": [
    "# Imprime la información general/resumida sobre el DataFrame de internet\n",
    "# Información general sobre el DataFrame df_calls\n",
    "df_internet.info()\n",
    "\n",
    "# Resumen estadístico del DataFrame df_caLLS\n",
    "df_internet.describe(include='all')\n",
    "\n"
   ]
  },
  {
   "cell_type": "code",
   "execution_count": 19,
   "metadata": {
    "id": "9r3x_XLw0q1C"
   },
   "outputs": [
    {
     "data": {
      "text/html": [
       "<div>\n",
       "<style scoped>\n",
       "    .dataframe tbody tr th:only-of-type {\n",
       "        vertical-align: middle;\n",
       "    }\n",
       "\n",
       "    .dataframe tbody tr th {\n",
       "        vertical-align: top;\n",
       "    }\n",
       "\n",
       "    .dataframe thead th {\n",
       "        text-align: right;\n",
       "    }\n",
       "</style>\n",
       "<table border=\"1\" class=\"dataframe\">\n",
       "  <thead>\n",
       "    <tr style=\"text-align: right;\">\n",
       "      <th></th>\n",
       "      <th>id</th>\n",
       "      <th>user_id</th>\n",
       "      <th>session_date</th>\n",
       "      <th>mb_used</th>\n",
       "    </tr>\n",
       "  </thead>\n",
       "  <tbody>\n",
       "    <tr>\n",
       "      <th>104191</th>\n",
       "      <td>1498_254</td>\n",
       "      <td>1498</td>\n",
       "      <td>2018-05-21</td>\n",
       "      <td>284.47</td>\n",
       "    </tr>\n",
       "    <tr>\n",
       "      <th>61111</th>\n",
       "      <td>1277_414</td>\n",
       "      <td>1277</td>\n",
       "      <td>2018-09-20</td>\n",
       "      <td>412.98</td>\n",
       "    </tr>\n",
       "    <tr>\n",
       "      <th>54558</th>\n",
       "      <td>1246_459</td>\n",
       "      <td>1246</td>\n",
       "      <td>2018-08-14</td>\n",
       "      <td>314.15</td>\n",
       "    </tr>\n",
       "    <tr>\n",
       "      <th>68944</th>\n",
       "      <td>1321_434</td>\n",
       "      <td>1321</td>\n",
       "      <td>2018-06-17</td>\n",
       "      <td>321.14</td>\n",
       "    </tr>\n",
       "    <tr>\n",
       "      <th>89716</th>\n",
       "      <td>1414_172</td>\n",
       "      <td>1414</td>\n",
       "      <td>2018-11-03</td>\n",
       "      <td>269.48</td>\n",
       "    </tr>\n",
       "    <tr>\n",
       "      <th>6807</th>\n",
       "      <td>1039_82</td>\n",
       "      <td>1039</td>\n",
       "      <td>2018-10-20</td>\n",
       "      <td>235.73</td>\n",
       "    </tr>\n",
       "    <tr>\n",
       "      <th>7022</th>\n",
       "      <td>1039_297</td>\n",
       "      <td>1039</td>\n",
       "      <td>2018-11-01</td>\n",
       "      <td>139.75</td>\n",
       "    </tr>\n",
       "    <tr>\n",
       "      <th>62529</th>\n",
       "      <td>1287_34</td>\n",
       "      <td>1287</td>\n",
       "      <td>2018-12-07</td>\n",
       "      <td>167.23</td>\n",
       "    </tr>\n",
       "    <tr>\n",
       "      <th>60704</th>\n",
       "      <td>1277_7</td>\n",
       "      <td>1277</td>\n",
       "      <td>2018-06-20</td>\n",
       "      <td>222.45</td>\n",
       "    </tr>\n",
       "    <tr>\n",
       "      <th>91068</th>\n",
       "      <td>1419_38</td>\n",
       "      <td>1419</td>\n",
       "      <td>2018-12-02</td>\n",
       "      <td>272.05</td>\n",
       "    </tr>\n",
       "  </tbody>\n",
       "</table>\n",
       "</div>"
      ],
      "text/plain": [
       "              id  user_id session_date  mb_used\n",
       "104191  1498_254     1498   2018-05-21   284.47\n",
       "61111   1277_414     1277   2018-09-20   412.98\n",
       "54558   1246_459     1246   2018-08-14   314.15\n",
       "68944   1321_434     1321   2018-06-17   321.14\n",
       "89716   1414_172     1414   2018-11-03   269.48\n",
       "6807     1039_82     1039   2018-10-20   235.73\n",
       "7022    1039_297     1039   2018-11-01   139.75\n",
       "62529    1287_34     1287   2018-12-07   167.23\n",
       "60704     1277_7     1277   2018-06-20   222.45\n",
       "91068    1419_38     1419   2018-12-02   272.05"
      ]
     },
     "execution_count": 19,
     "metadata": {},
     "output_type": "execute_result"
    }
   ],
   "source": [
    "# Imprime una muestra de datos para el tráfico de internet\n",
    "df_internet.sample(10)\n"
   ]
  },
  {
   "cell_type": "markdown",
   "metadata": {
    "id": "EzOG5ik30q1D"
   },
   "source": [
    "las siguientes son las observaciones del df_internet:\n",
    "\n",
    "- hay 4 columnas de las cuales: 2 son del tipo object (id y session_date), 1 es el tipo entero (user_id) y una es del tipo flotante (mb_used).\n",
    "- no tenemos valores nulos en ninguna de las columnas. \n",
    "- tenemos una distribución de la columna mb_used en la cual el 75% de los usuarios usan menos de 554.61 mb por sesión. \n",
    "- debemos convertir la columna session_date que es del tipo object a datetime. \n",
    "- algunas sesiones tienen valores de 0mn, por tal motivo, es importante determinar que % de los datos tiene este valor para tomar decisiones. "
   ]
  },
  {
   "cell_type": "markdown",
   "metadata": {
    "id": "yA0tkPFg0q1D"
   },
   "source": [
    "### Corregir los datos"
   ]
  },
  {
   "cell_type": "markdown",
   "metadata": {
    "id": "zlZMuIEK0q1D"
   },
   "source": [
    "- convertiremos la columna session_date al tipo datetime. "
   ]
  },
  {
   "cell_type": "code",
   "execution_count": 20,
   "metadata": {
    "id": "zVeanzdd0q1E"
   },
   "outputs": [],
   "source": [
    "# convertir la columna session_date de object a datetime\n",
    "df_internet['session_date'] = pd.to_datetime(df_internet['session_date'])"
   ]
  },
  {
   "cell_type": "markdown",
   "metadata": {
    "id": "e8_mLF4a0q1E"
   },
   "source": [
    "### Enriquecer los datos"
   ]
  },
  {
   "cell_type": "markdown",
   "metadata": {
    "id": "xhNdn2tE0q1E"
   },
   "source": [
    "- extraeremos los valores de día de la semana y mes de la sesión por si llegamos a necesitar la comparación de patrones. "
   ]
  },
  {
   "cell_type": "code",
   "execution_count": 21,
   "metadata": {
    "id": "ESiYPIEK0q1E"
   },
   "outputs": [
    {
     "name": "stdout",
     "output_type": "stream",
     "text": [
      "13.11423801574052\n"
     ]
    }
   ],
   "source": [
    "# extraemos el día de la semana y el día\n",
    "df_internet['session_day'] = df_internet['session_date'].dt.day_name()\n",
    "df_internet['session_month'] = df_internet['session_date'].dt.month\n",
    "\n",
    "# Determinar cuántas sesiones tienen uso igual a 0 y calcular su porcentaje\n",
    "zero_mb_sessions = len(df_internet[df_internet['mb_used'] == 0])\n",
    "zero_mb_percentage = zero_mb_sessions / len(df_internet) * 100\n",
    "print(zero_mb_percentage)"
   ]
  },
  {
   "cell_type": "markdown",
   "metadata": {
    "id": "3UA2cqIW0q1E"
   },
   "source": [
    "## Estudiar las condiciones de las tarifas"
   ]
  },
  {
   "cell_type": "markdown",
   "metadata": {
    "id": "T86Sqltq0q1F"
   },
   "source": [
    "Costo mensual:\n",
    "\n",
    "1. El plan Surf cuesta $20, mientras que el plan Ultimate cuesta $70.\n",
    "\n",
    "2. Diferencias clave:\n",
    "\n",
    "* Mensajes: Ultimate incluye 20 veces más mensajes (1,000 frente a 50).\n",
    "* Datos: Ultimate incluye el doble de datos (30,720 MB frente a 15,360 MB).\n",
    "* Minutos: Ultimate incluye 6 veces más minutos (3,000 frente a 500).\n",
    "\n",
    "3. Costos adicionales:\n",
    "\n",
    "* Datos (GB): Surf cobra $10 por GB adicional, mientras que Ultimate cobra $7.\n",
    "* Mensajes adicionales: Surf cobra $0.03 por mensaje extra, y Ultimate solo $0.01.\n",
    "* Minutos adicionales: Surf cobra $0.03 por minuto extra, y Ultimate solo $0.01."
   ]
  },
  {
   "cell_type": "code",
   "execution_count": 22,
   "metadata": {
    "id": "i409op8p0q1F"
   },
   "outputs": [
    {
     "name": "stdout",
     "output_type": "stream",
     "text": [
      "   messages_included  mb_per_month_included  minutes_included  \\\n",
      "0                 50                  15360               500   \n",
      "1               1000                  30720              3000   \n",
      "\n",
      "   usd_monthly_pay  usd_per_gb  usd_per_message  usd_per_minute plan_name  \\\n",
      "0               20          10             0.03            0.03      surf   \n",
      "1               70           7             0.01            0.01  ultimate   \n",
      "\n",
      "   usd_per_mb_included  \n",
      "0             0.001302  \n",
      "1             0.002279  \n"
     ]
    }
   ],
   "source": [
    "# Imprime las condiciones de la tarifa y asegúrate de que te quedan claras\n",
    "\n",
    "print (df_plans)"
   ]
  },
  {
   "cell_type": "markdown",
   "metadata": {
    "id": "hMR1tP5d0q1F"
   },
   "source": [
    "## Agregar datos por usuario\n",
    "\n",
    "vamos a crear un nuevo df_calls_per_user_month en el cual calculamos las llamadas hechas por cada usuario por mes. los pasos serías los siguientes:\n",
    "\n",
    "1. Agrupar por usuario y mes para contar el número de llamadas.\n",
    "2. Renombrar la columna 'id' a 'num_calls' para indicar el número de llamadas.\n",
    "3. Mostrar una muestra del resultado"
   ]
  },
  {
   "cell_type": "code",
   "execution_count": 23,
   "metadata": {
    "id": "A332cedB0q1G"
   },
   "outputs": [
    {
     "data": {
      "text/html": [
       "<div>\n",
       "<style scoped>\n",
       "    .dataframe tbody tr th:only-of-type {\n",
       "        vertical-align: middle;\n",
       "    }\n",
       "\n",
       "    .dataframe tbody tr th {\n",
       "        vertical-align: top;\n",
       "    }\n",
       "\n",
       "    .dataframe thead th {\n",
       "        text-align: right;\n",
       "    }\n",
       "</style>\n",
       "<table border=\"1\" class=\"dataframe\">\n",
       "  <thead>\n",
       "    <tr style=\"text-align: right;\">\n",
       "      <th></th>\n",
       "      <th>user_id</th>\n",
       "      <th>call_month</th>\n",
       "      <th>num_calls</th>\n",
       "    </tr>\n",
       "  </thead>\n",
       "  <tbody>\n",
       "    <tr>\n",
       "      <th>0</th>\n",
       "      <td>1000</td>\n",
       "      <td>12</td>\n",
       "      <td>16</td>\n",
       "    </tr>\n",
       "    <tr>\n",
       "      <th>1</th>\n",
       "      <td>1001</td>\n",
       "      <td>8</td>\n",
       "      <td>27</td>\n",
       "    </tr>\n",
       "    <tr>\n",
       "      <th>2</th>\n",
       "      <td>1001</td>\n",
       "      <td>9</td>\n",
       "      <td>49</td>\n",
       "    </tr>\n",
       "    <tr>\n",
       "      <th>3</th>\n",
       "      <td>1001</td>\n",
       "      <td>10</td>\n",
       "      <td>65</td>\n",
       "    </tr>\n",
       "    <tr>\n",
       "      <th>4</th>\n",
       "      <td>1001</td>\n",
       "      <td>11</td>\n",
       "      <td>64</td>\n",
       "    </tr>\n",
       "  </tbody>\n",
       "</table>\n",
       "</div>"
      ],
      "text/plain": [
       "   user_id  call_month  num_calls\n",
       "0     1000          12         16\n",
       "1     1001           8         27\n",
       "2     1001           9         49\n",
       "3     1001          10         65\n",
       "4     1001          11         64"
      ]
     },
     "execution_count": 23,
     "metadata": {},
     "output_type": "execute_result"
    }
   ],
   "source": [
    "# Calcula el número de llamadas hechas por cada usuario al mes. Guarda el resultado.\n",
    "\n",
    "# Agrupar por usuario y mes para contar el número de llamadas\n",
    "calls_per_user_month = df_calls.groupby(['user_id', 'call_month'])['id'].count().reset_index()\n",
    "\n",
    "# Renombrar la columna 'id' a 'num_calls' para indicar el número de llamadas\n",
    "calls_per_user_month.rename(columns={'id': 'num_calls'}, inplace=True)\n",
    "\n",
    "# Mostrar una muestra del resultado\n",
    "calls_per_user_month.head()\n"
   ]
  },
  {
   "cell_type": "code",
   "execution_count": 24,
   "metadata": {
    "id": "aw2cmuql0q1G"
   },
   "outputs": [
    {
     "data": {
      "text/html": [
       "<div>\n",
       "<style scoped>\n",
       "    .dataframe tbody tr th:only-of-type {\n",
       "        vertical-align: middle;\n",
       "    }\n",
       "\n",
       "    .dataframe tbody tr th {\n",
       "        vertical-align: top;\n",
       "    }\n",
       "\n",
       "    .dataframe thead th {\n",
       "        text-align: right;\n",
       "    }\n",
       "</style>\n",
       "<table border=\"1\" class=\"dataframe\">\n",
       "  <thead>\n",
       "    <tr style=\"text-align: right;\">\n",
       "      <th></th>\n",
       "      <th>user_id</th>\n",
       "      <th>call_month</th>\n",
       "      <th>total_minutes</th>\n",
       "    </tr>\n",
       "  </thead>\n",
       "  <tbody>\n",
       "    <tr>\n",
       "      <th>0</th>\n",
       "      <td>1000</td>\n",
       "      <td>12</td>\n",
       "      <td>124.0</td>\n",
       "    </tr>\n",
       "    <tr>\n",
       "      <th>1</th>\n",
       "      <td>1001</td>\n",
       "      <td>8</td>\n",
       "      <td>182.0</td>\n",
       "    </tr>\n",
       "    <tr>\n",
       "      <th>2</th>\n",
       "      <td>1001</td>\n",
       "      <td>9</td>\n",
       "      <td>315.0</td>\n",
       "    </tr>\n",
       "    <tr>\n",
       "      <th>3</th>\n",
       "      <td>1001</td>\n",
       "      <td>10</td>\n",
       "      <td>393.0</td>\n",
       "    </tr>\n",
       "    <tr>\n",
       "      <th>4</th>\n",
       "      <td>1001</td>\n",
       "      <td>11</td>\n",
       "      <td>426.0</td>\n",
       "    </tr>\n",
       "  </tbody>\n",
       "</table>\n",
       "</div>"
      ],
      "text/plain": [
       "   user_id  call_month  total_minutes\n",
       "0     1000          12          124.0\n",
       "1     1001           8          182.0\n",
       "2     1001           9          315.0\n",
       "3     1001          10          393.0\n",
       "4     1001          11          426.0"
      ]
     },
     "execution_count": 24,
     "metadata": {},
     "output_type": "execute_result"
    }
   ],
   "source": [
    "# Calcula la cantidad de minutos usados por cada usuario al mes. Guarda el resultado.\n",
    "\n",
    "# Calcular la cantidad de minutos usados por cada usuario al mes (utilizando 'duration_rounded')\n",
    "minutes_per_user_month = df_calls.groupby(['user_id', 'call_month'])['duration_rounded'].sum().reset_index()\n",
    "\n",
    "# Renombrar la columna 'duration_rounded' a 'total_minutes' para indicar el total de minutos usados\n",
    "minutes_per_user_month.rename(columns={'duration_rounded': 'total_minutes'}, inplace=True)\n",
    "\n",
    "# Guardar el DataFrame calls_per_user_month como CSV\n",
    "calls_per_user_month.to_csv('calls_per_user_month.csv', index=False)\n",
    "\n",
    "# Guardar el DataFrame minutes_per_user_month como CSV\n",
    "minutes_per_user_month.to_csv('minutes_per_user_month.csv', index=False)\n",
    "\n",
    "# Mostrar una muestra del resultado\n",
    "minutes_per_user_month.head()\n"
   ]
  },
  {
   "cell_type": "code",
   "execution_count": 25,
   "metadata": {
    "id": "CcQvNHn60q1G"
   },
   "outputs": [
    {
     "data": {
      "text/html": [
       "<div>\n",
       "<style scoped>\n",
       "    .dataframe tbody tr th:only-of-type {\n",
       "        vertical-align: middle;\n",
       "    }\n",
       "\n",
       "    .dataframe tbody tr th {\n",
       "        vertical-align: top;\n",
       "    }\n",
       "\n",
       "    .dataframe thead th {\n",
       "        text-align: right;\n",
       "    }\n",
       "</style>\n",
       "<table border=\"1\" class=\"dataframe\">\n",
       "  <thead>\n",
       "    <tr style=\"text-align: right;\">\n",
       "      <th></th>\n",
       "      <th>user_id</th>\n",
       "      <th>message_month</th>\n",
       "      <th>num_messages</th>\n",
       "    </tr>\n",
       "  </thead>\n",
       "  <tbody>\n",
       "    <tr>\n",
       "      <th>0</th>\n",
       "      <td>1000</td>\n",
       "      <td>12</td>\n",
       "      <td>11</td>\n",
       "    </tr>\n",
       "    <tr>\n",
       "      <th>1</th>\n",
       "      <td>1001</td>\n",
       "      <td>8</td>\n",
       "      <td>30</td>\n",
       "    </tr>\n",
       "    <tr>\n",
       "      <th>2</th>\n",
       "      <td>1001</td>\n",
       "      <td>9</td>\n",
       "      <td>44</td>\n",
       "    </tr>\n",
       "    <tr>\n",
       "      <th>3</th>\n",
       "      <td>1001</td>\n",
       "      <td>10</td>\n",
       "      <td>53</td>\n",
       "    </tr>\n",
       "    <tr>\n",
       "      <th>4</th>\n",
       "      <td>1001</td>\n",
       "      <td>11</td>\n",
       "      <td>36</td>\n",
       "    </tr>\n",
       "  </tbody>\n",
       "</table>\n",
       "</div>"
      ],
      "text/plain": [
       "   user_id  message_month  num_messages\n",
       "0     1000             12            11\n",
       "1     1001              8            30\n",
       "2     1001              9            44\n",
       "3     1001             10            53\n",
       "4     1001             11            36"
      ]
     },
     "execution_count": 25,
     "metadata": {},
     "output_type": "execute_result"
    }
   ],
   "source": [
    "# Calcula el número de mensajes enviados por cada usuario al mes. Guarda el resultado.\n",
    "\n",
    "# Agrupar por usuario y mes para contar el número de mensajes enviados\n",
    "messages_per_user_month = df_messages.groupby(['user_id', 'message_month'])['id'].count().reset_index()\n",
    "\n",
    "# Renombrar la columna 'id' a 'num_messages' para indicar el número de mensajes enviados\n",
    "messages_per_user_month.rename(columns={'id': 'num_messages'}, inplace=True)\n",
    "\n",
    "# Guardar el DataFrame como archivo CSV\n",
    "messages_per_user_month.to_csv('messages_per_user_month.csv', index=False)\n",
    "\n",
    "# Mostrar una muestra del resultado\n",
    "messages_per_user_month.head()\n"
   ]
  },
  {
   "cell_type": "code",
   "execution_count": 26,
   "metadata": {
    "id": "H1AqN2eG0q1H"
   },
   "outputs": [
    {
     "data": {
      "text/html": [
       "<div>\n",
       "<style scoped>\n",
       "    .dataframe tbody tr th:only-of-type {\n",
       "        vertical-align: middle;\n",
       "    }\n",
       "\n",
       "    .dataframe tbody tr th {\n",
       "        vertical-align: top;\n",
       "    }\n",
       "\n",
       "    .dataframe thead th {\n",
       "        text-align: right;\n",
       "    }\n",
       "</style>\n",
       "<table border=\"1\" class=\"dataframe\">\n",
       "  <thead>\n",
       "    <tr style=\"text-align: right;\">\n",
       "      <th></th>\n",
       "      <th>user_id</th>\n",
       "      <th>session_month</th>\n",
       "      <th>total_mb_used</th>\n",
       "    </tr>\n",
       "  </thead>\n",
       "  <tbody>\n",
       "    <tr>\n",
       "      <th>0</th>\n",
       "      <td>1000</td>\n",
       "      <td>12</td>\n",
       "      <td>1901.47</td>\n",
       "    </tr>\n",
       "    <tr>\n",
       "      <th>1</th>\n",
       "      <td>1001</td>\n",
       "      <td>8</td>\n",
       "      <td>6919.15</td>\n",
       "    </tr>\n",
       "    <tr>\n",
       "      <th>2</th>\n",
       "      <td>1001</td>\n",
       "      <td>9</td>\n",
       "      <td>13314.82</td>\n",
       "    </tr>\n",
       "    <tr>\n",
       "      <th>3</th>\n",
       "      <td>1001</td>\n",
       "      <td>10</td>\n",
       "      <td>22330.49</td>\n",
       "    </tr>\n",
       "    <tr>\n",
       "      <th>4</th>\n",
       "      <td>1001</td>\n",
       "      <td>11</td>\n",
       "      <td>18504.30</td>\n",
       "    </tr>\n",
       "  </tbody>\n",
       "</table>\n",
       "</div>"
      ],
      "text/plain": [
       "   user_id  session_month  total_mb_used\n",
       "0     1000             12        1901.47\n",
       "1     1001              8        6919.15\n",
       "2     1001              9       13314.82\n",
       "3     1001             10       22330.49\n",
       "4     1001             11       18504.30"
      ]
     },
     "execution_count": 26,
     "metadata": {},
     "output_type": "execute_result"
    }
   ],
   "source": [
    "# Calcula el volumen del tráfico de Internet usado por cada usuario al mes. Guarda el resultado.\n",
    "\n",
    "# Agrupar por usuario y mes para sumar el tráfico de Internet utilizado\n",
    "internet_per_user_month = df_internet.groupby(['user_id', 'session_month'])['mb_used'].sum().reset_index()\n",
    "\n",
    "# Renombrar la columna 'mb_used' a 'total_mb_used' para indicar el tráfico total usado\n",
    "internet_per_user_month.rename(columns={'mb_used': 'total_mb_used'}, inplace=True)\n",
    "\n",
    "# Guardar el resultado como archivo CSV\n",
    "internet_per_user_month.to_csv('internet_per_user_month.csv', index=False)\n",
    "\n",
    "# Mostrar una muestra del resultado\n",
    "internet_per_user_month.head()"
   ]
  },
  {
   "cell_type": "markdown",
   "metadata": {
    "id": "VDfYXnj80q1H"
   },
   "source": [
    "Vamos a fusionar los datos de llamadas, minutos, mensajes e internet con base en user_id y month, para ello llevaremos a cabo los siguientes pasos: \n",
    "\n",
    "1. Unir el número de llamadas y minutos por usuario y mes.\n",
    "2. Unir los datos de mensajes.\n",
    "3. Unir los datos de tráfico de Internet.\n",
    "4. Renombrar las columnas para mayor claridad.\n",
    "5. Consolidar la columna 'month' de las diferentes fuentes.\n",
    "6. Mostrar una muestra del DataFrame fusionado"
   ]
  },
  {
   "cell_type": "code",
   "execution_count": 27,
   "metadata": {
    "id": "FW99ykyf0q1H"
   },
   "outputs": [
    {
     "data": {
      "text/html": [
       "<div>\n",
       "<style scoped>\n",
       "    .dataframe tbody tr th:only-of-type {\n",
       "        vertical-align: middle;\n",
       "    }\n",
       "\n",
       "    .dataframe tbody tr th {\n",
       "        vertical-align: top;\n",
       "    }\n",
       "\n",
       "    .dataframe thead th {\n",
       "        text-align: right;\n",
       "    }\n",
       "</style>\n",
       "<table border=\"1\" class=\"dataframe\">\n",
       "  <thead>\n",
       "    <tr style=\"text-align: right;\">\n",
       "      <th></th>\n",
       "      <th>user_id</th>\n",
       "      <th>month</th>\n",
       "      <th>num_calls</th>\n",
       "      <th>total_minutes</th>\n",
       "      <th>num_messages</th>\n",
       "      <th>total_mb_used</th>\n",
       "    </tr>\n",
       "  </thead>\n",
       "  <tbody>\n",
       "    <tr>\n",
       "      <th>0</th>\n",
       "      <td>1000</td>\n",
       "      <td>12</td>\n",
       "      <td>16.0</td>\n",
       "      <td>124.0</td>\n",
       "      <td>11.0</td>\n",
       "      <td>1901.47</td>\n",
       "    </tr>\n",
       "    <tr>\n",
       "      <th>1</th>\n",
       "      <td>1001</td>\n",
       "      <td>8</td>\n",
       "      <td>27.0</td>\n",
       "      <td>182.0</td>\n",
       "      <td>30.0</td>\n",
       "      <td>6919.15</td>\n",
       "    </tr>\n",
       "    <tr>\n",
       "      <th>2</th>\n",
       "      <td>1001</td>\n",
       "      <td>9</td>\n",
       "      <td>49.0</td>\n",
       "      <td>315.0</td>\n",
       "      <td>44.0</td>\n",
       "      <td>13314.82</td>\n",
       "    </tr>\n",
       "    <tr>\n",
       "      <th>3</th>\n",
       "      <td>1001</td>\n",
       "      <td>10</td>\n",
       "      <td>65.0</td>\n",
       "      <td>393.0</td>\n",
       "      <td>53.0</td>\n",
       "      <td>22330.49</td>\n",
       "    </tr>\n",
       "    <tr>\n",
       "      <th>4</th>\n",
       "      <td>1001</td>\n",
       "      <td>11</td>\n",
       "      <td>64.0</td>\n",
       "      <td>426.0</td>\n",
       "      <td>36.0</td>\n",
       "      <td>18504.30</td>\n",
       "    </tr>\n",
       "  </tbody>\n",
       "</table>\n",
       "</div>"
      ],
      "text/plain": [
       "   user_id  month  num_calls  total_minutes  num_messages  total_mb_used\n",
       "0     1000     12       16.0          124.0          11.0        1901.47\n",
       "1     1001      8       27.0          182.0          30.0        6919.15\n",
       "2     1001      9       49.0          315.0          44.0       13314.82\n",
       "3     1001     10       65.0          393.0          53.0       22330.49\n",
       "4     1001     11       64.0          426.0          36.0       18504.30"
      ]
     },
     "execution_count": 27,
     "metadata": {},
     "output_type": "execute_result"
    }
   ],
   "source": [
    "# Fusiona los datos de llamadas, minutos, mensajes e Internet con base en user_id y month\n",
    "\n",
    "# Paso 1: Unir el número de llamadas y minutos por usuario y mes\n",
    "merged_data = pd.merge(calls_per_user_month, minutes_per_user_month, on=['user_id', 'call_month'], how='outer')\n",
    "\n",
    "# Paso 2: Unir los datos de mensajes\n",
    "merged_data = pd.merge(merged_data, messages_per_user_month, left_on=['user_id', 'call_month'], right_on=['user_id', 'message_month'], how='outer')\n",
    "\n",
    "# Paso 3: Unir los datos de tráfico de Internet\n",
    "merged_data = pd.merge(merged_data, internet_per_user_month, left_on=['user_id', 'call_month'], right_on=['user_id', 'session_month'], how='outer')\n",
    "\n",
    "# Paso 4: Renombrar las columnas para mayor claridad\n",
    "merged_data.rename(columns={\n",
    "    'call_month': 'month',\n",
    "    'message_month': 'month_messages',\n",
    "    'session_month': 'month_internet'\n",
    "}, inplace=True)\n",
    "\n",
    "# Paso 5: Consolidar la columna 'month' de las diferentes fuentes\n",
    "merged_data['month'] = merged_data['month'].fillna(merged_data['month_messages']).fillna(merged_data['month_internet']).astype(int)\n",
    "merged_data.drop(['month_messages', 'month_internet'], axis=1, inplace=True)\n",
    "\n",
    "# Mostrar una muestra del DataFrame fusionado\n",
    "merged_data.head()\n"
   ]
  },
  {
   "cell_type": "code",
   "execution_count": 28,
   "metadata": {
    "id": "0dNOXHag0q1H"
   },
   "outputs": [
    {
     "data": {
      "text/html": [
       "<div>\n",
       "<style scoped>\n",
       "    .dataframe tbody tr th:only-of-type {\n",
       "        vertical-align: middle;\n",
       "    }\n",
       "\n",
       "    .dataframe tbody tr th {\n",
       "        vertical-align: top;\n",
       "    }\n",
       "\n",
       "    .dataframe thead th {\n",
       "        text-align: right;\n",
       "    }\n",
       "</style>\n",
       "<table border=\"1\" class=\"dataframe\">\n",
       "  <thead>\n",
       "    <tr style=\"text-align: right;\">\n",
       "      <th></th>\n",
       "      <th>user_id</th>\n",
       "      <th>month</th>\n",
       "      <th>num_calls</th>\n",
       "      <th>total_minutes</th>\n",
       "      <th>num_messages</th>\n",
       "      <th>total_mb_used</th>\n",
       "      <th>plan</th>\n",
       "      <th>messages_included</th>\n",
       "      <th>mb_per_month_included</th>\n",
       "      <th>minutes_included</th>\n",
       "      <th>usd_monthly_pay</th>\n",
       "      <th>usd_per_gb</th>\n",
       "      <th>usd_per_message</th>\n",
       "      <th>usd_per_minute</th>\n",
       "      <th>usd_per_mb_included</th>\n",
       "    </tr>\n",
       "  </thead>\n",
       "  <tbody>\n",
       "    <tr>\n",
       "      <th>0</th>\n",
       "      <td>1000</td>\n",
       "      <td>12</td>\n",
       "      <td>16.0</td>\n",
       "      <td>124.0</td>\n",
       "      <td>11.0</td>\n",
       "      <td>1901.47</td>\n",
       "      <td>ultimate</td>\n",
       "      <td>1000</td>\n",
       "      <td>30720</td>\n",
       "      <td>3000</td>\n",
       "      <td>70</td>\n",
       "      <td>7</td>\n",
       "      <td>0.01</td>\n",
       "      <td>0.01</td>\n",
       "      <td>0.002279</td>\n",
       "    </tr>\n",
       "    <tr>\n",
       "      <th>1</th>\n",
       "      <td>1001</td>\n",
       "      <td>8</td>\n",
       "      <td>27.0</td>\n",
       "      <td>182.0</td>\n",
       "      <td>30.0</td>\n",
       "      <td>6919.15</td>\n",
       "      <td>surf</td>\n",
       "      <td>50</td>\n",
       "      <td>15360</td>\n",
       "      <td>500</td>\n",
       "      <td>20</td>\n",
       "      <td>10</td>\n",
       "      <td>0.03</td>\n",
       "      <td>0.03</td>\n",
       "      <td>0.001302</td>\n",
       "    </tr>\n",
       "    <tr>\n",
       "      <th>2</th>\n",
       "      <td>1001</td>\n",
       "      <td>9</td>\n",
       "      <td>49.0</td>\n",
       "      <td>315.0</td>\n",
       "      <td>44.0</td>\n",
       "      <td>13314.82</td>\n",
       "      <td>surf</td>\n",
       "      <td>50</td>\n",
       "      <td>15360</td>\n",
       "      <td>500</td>\n",
       "      <td>20</td>\n",
       "      <td>10</td>\n",
       "      <td>0.03</td>\n",
       "      <td>0.03</td>\n",
       "      <td>0.001302</td>\n",
       "    </tr>\n",
       "    <tr>\n",
       "      <th>3</th>\n",
       "      <td>1001</td>\n",
       "      <td>10</td>\n",
       "      <td>65.0</td>\n",
       "      <td>393.0</td>\n",
       "      <td>53.0</td>\n",
       "      <td>22330.49</td>\n",
       "      <td>surf</td>\n",
       "      <td>50</td>\n",
       "      <td>15360</td>\n",
       "      <td>500</td>\n",
       "      <td>20</td>\n",
       "      <td>10</td>\n",
       "      <td>0.03</td>\n",
       "      <td>0.03</td>\n",
       "      <td>0.001302</td>\n",
       "    </tr>\n",
       "    <tr>\n",
       "      <th>4</th>\n",
       "      <td>1001</td>\n",
       "      <td>11</td>\n",
       "      <td>64.0</td>\n",
       "      <td>426.0</td>\n",
       "      <td>36.0</td>\n",
       "      <td>18504.30</td>\n",
       "      <td>surf</td>\n",
       "      <td>50</td>\n",
       "      <td>15360</td>\n",
       "      <td>500</td>\n",
       "      <td>20</td>\n",
       "      <td>10</td>\n",
       "      <td>0.03</td>\n",
       "      <td>0.03</td>\n",
       "      <td>0.001302</td>\n",
       "    </tr>\n",
       "  </tbody>\n",
       "</table>\n",
       "</div>"
      ],
      "text/plain": [
       "   user_id  month  num_calls  total_minutes  num_messages  total_mb_used  \\\n",
       "0     1000     12       16.0          124.0          11.0        1901.47   \n",
       "1     1001      8       27.0          182.0          30.0        6919.15   \n",
       "2     1001      9       49.0          315.0          44.0       13314.82   \n",
       "3     1001     10       65.0          393.0          53.0       22330.49   \n",
       "4     1001     11       64.0          426.0          36.0       18504.30   \n",
       "\n",
       "       plan  messages_included  mb_per_month_included  minutes_included  \\\n",
       "0  ultimate               1000                  30720              3000   \n",
       "1      surf                 50                  15360               500   \n",
       "2      surf                 50                  15360               500   \n",
       "3      surf                 50                  15360               500   \n",
       "4      surf                 50                  15360               500   \n",
       "\n",
       "   usd_monthly_pay  usd_per_gb  usd_per_message  usd_per_minute  \\\n",
       "0               70           7             0.01            0.01   \n",
       "1               20          10             0.03            0.03   \n",
       "2               20          10             0.03            0.03   \n",
       "3               20          10             0.03            0.03   \n",
       "4               20          10             0.03            0.03   \n",
       "\n",
       "   usd_per_mb_included  \n",
       "0             0.002279  \n",
       "1             0.001302  \n",
       "2             0.001302  \n",
       "3             0.001302  \n",
       "4             0.001302  "
      ]
     },
     "execution_count": 28,
     "metadata": {},
     "output_type": "execute_result"
    }
   ],
   "source": [
    "# Añade la información de la tarifa\n",
    "\n",
    "# Paso 1: Fusionar con los datos de usuarios para añadir la columna 'plan'\n",
    "merged_data_with_plans = pd.merge(merged_data, df_users[['user_id', 'plan']], on='user_id', how='left')\n",
    "\n",
    "# Paso 2: Fusionar con los datos de las tarifas para añadir las condiciones de cada plan\n",
    "merged_data_with_plans = pd.merge(merged_data_with_plans, df_plans, left_on='plan', right_on='plan_name', how='left')\n",
    "\n",
    "# Paso 3: Eliminar columnas innecesarias para evitar redundancia\n",
    "merged_data_with_plans.drop(['plan_name'], axis=1, inplace=True)\n",
    "\n",
    "# Mostrar una muestra del resultado\n",
    "merged_data_with_plans.head()\n",
    "\n"
   ]
  },
  {
   "cell_type": "markdown",
   "metadata": {
    "id": "1IwGo4wg0q1I"
   },
   "source": [
    "En esta sección calcularemos datos importantes para nuestro proyecto para ello debemos restar los límites gratuitos del plan, como por ejemplo el total de los minutos usados- minutos incluidos en el plan. luego de hallar esta información para llamadas, minutos e internet, multiplicamos estos valores por las respectivas tarifas según el plan. aqui debemos tener en cuenta que cada duración de llamada se redondea hacia arriba (este calculo ya lo hicimos cuando estabamos limpiando los datos y que para el caso del internet se debe sumar todo el mes y dividirlo por 1024 para convertir de MB y GB y este valor lo redondeamos hacia arriba, finalmente calculamos los ingresos totales en la variable (montly_revenue)."
   ]
  },
  {
   "cell_type": "code",
   "execution_count": 29,
   "metadata": {
    "id": "5FGCf_c60q1I"
   },
   "outputs": [
    {
     "data": {
      "text/html": [
       "<div>\n",
       "<style scoped>\n",
       "    .dataframe tbody tr th:only-of-type {\n",
       "        vertical-align: middle;\n",
       "    }\n",
       "\n",
       "    .dataframe tbody tr th {\n",
       "        vertical-align: top;\n",
       "    }\n",
       "\n",
       "    .dataframe thead th {\n",
       "        text-align: right;\n",
       "    }\n",
       "</style>\n",
       "<table border=\"1\" class=\"dataframe\">\n",
       "  <thead>\n",
       "    <tr style=\"text-align: right;\">\n",
       "      <th></th>\n",
       "      <th>user_id</th>\n",
       "      <th>month</th>\n",
       "      <th>plan</th>\n",
       "      <th>monthly_revenue</th>\n",
       "    </tr>\n",
       "  </thead>\n",
       "  <tbody>\n",
       "    <tr>\n",
       "      <th>0</th>\n",
       "      <td>1000</td>\n",
       "      <td>12</td>\n",
       "      <td>ultimate</td>\n",
       "      <td>70.00</td>\n",
       "    </tr>\n",
       "    <tr>\n",
       "      <th>1</th>\n",
       "      <td>1001</td>\n",
       "      <td>8</td>\n",
       "      <td>surf</td>\n",
       "      <td>20.00</td>\n",
       "    </tr>\n",
       "    <tr>\n",
       "      <th>2</th>\n",
       "      <td>1001</td>\n",
       "      <td>9</td>\n",
       "      <td>surf</td>\n",
       "      <td>20.00</td>\n",
       "    </tr>\n",
       "    <tr>\n",
       "      <th>3</th>\n",
       "      <td>1001</td>\n",
       "      <td>10</td>\n",
       "      <td>surf</td>\n",
       "      <td>90.09</td>\n",
       "    </tr>\n",
       "    <tr>\n",
       "      <th>4</th>\n",
       "      <td>1001</td>\n",
       "      <td>11</td>\n",
       "      <td>surf</td>\n",
       "      <td>60.00</td>\n",
       "    </tr>\n",
       "  </tbody>\n",
       "</table>\n",
       "</div>"
      ],
      "text/plain": [
       "   user_id  month      plan  monthly_revenue\n",
       "0     1000     12  ultimate            70.00\n",
       "1     1001      8      surf            20.00\n",
       "2     1001      9      surf            20.00\n",
       "3     1001     10      surf            90.09\n",
       "4     1001     11      surf            60.00"
      ]
     },
     "execution_count": 29,
     "metadata": {},
     "output_type": "execute_result"
    }
   ],
   "source": [
    "# Calcula el ingreso mensual para cada usuario\n",
    "\n",
    "# Asegurarse de que las columnas relevantes no tengan valores nulos\n",
    "merged_data_with_plans.fillna(0, inplace=True)\n",
    "\n",
    "# Calcular los minutos adicionales\n",
    "merged_data_with_plans['extra_minutes'] = (merged_data_with_plans['total_minutes'] - merged_data_with_plans['minutes_included']).clip(lower=0)\n",
    "\n",
    "# Calcular los mensajes adicionales\n",
    "merged_data_with_plans['extra_messages'] = (merged_data_with_plans['num_messages'] - merged_data_with_plans['messages_included']).clip(lower=0)\n",
    "\n",
    "# Calcular los datos adicionales en GB (redondeo hacia arriba)\n",
    "merged_data_with_plans['total_gb_used'] = (merged_data_with_plans['total_mb_used'] / 1024).apply(np.ceil)\n",
    "merged_data_with_plans['extra_gb'] = (merged_data_with_plans['total_gb_used'] - (merged_data_with_plans['mb_per_month_included'] / 1024)).clip(lower=0)\n",
    "\n",
    "# Calcular los costos adicionales\n",
    "merged_data_with_plans['cost_extra_minutes'] = merged_data_with_plans['extra_minutes'] * merged_data_with_plans['usd_per_minute']\n",
    "merged_data_with_plans['cost_extra_messages'] = merged_data_with_plans['extra_messages'] * merged_data_with_plans['usd_per_message']\n",
    "merged_data_with_plans['cost_extra_gb'] = merged_data_with_plans['extra_gb'] * merged_data_with_plans['usd_per_gb']\n",
    "\n",
    "# Calcular el ingreso total mensual por usuario\n",
    "merged_data_with_plans['monthly_revenue'] = (\n",
    "    merged_data_with_plans['usd_monthly_pay'] +\n",
    "    merged_data_with_plans['cost_extra_minutes'] +\n",
    "    merged_data_with_plans['cost_extra_messages'] +\n",
    "    merged_data_with_plans['cost_extra_gb']\n",
    ")\n",
    "\n",
    "# Mostrar una muestra del resultado\n",
    "merged_data_with_plans[['user_id', 'month', 'plan', 'monthly_revenue']].head()"
   ]
  },
  {
   "cell_type": "markdown",
   "metadata": {
    "id": "-jtyHzJb0q1I"
   },
   "source": [
    "## Estudia el comportamiento de usuario"
   ]
  },
  {
   "cell_type": "markdown",
   "metadata": {
    "id": "vtW4CJEe0q1J"
   },
   "source": [
    "### Llamadas"
   ]
  },
  {
   "cell_type": "code",
   "execution_count": 30,
   "metadata": {
    "id": "Jf5v5--k0q1J"
   },
   "outputs": [
    {
     "data": {
      "image/png": "[encoded data removed]",
      "text/plain": [
       "<Figure size 1200x600 with 1 Axes>"
      ]
     },
     "metadata": {},
     "output_type": "display_data"
    }
   ],
   "source": [
    "# Compara la duración promedio de llamadas por cada plan y por cada mes. Traza un gráfico de barras para visualizarla.\n",
    "\n",
    "# Crear un DataFrame base con todos los meses (1 a 12) para ambos planes\n",
    "plans = merged_data_with_plans['plan'].unique()\n",
    "months = range(1, 13)\n",
    "base = pd.DataFrame([(plan, month) for plan in plans for month in months], columns=['plan', 'month'])\n",
    "\n",
    "# Calcular la duración promedio de llamadas por plan y mes\n",
    "average_call_duration = merged_data_with_plans.groupby(['plan', 'month'])['total_minutes'].mean().reset_index()\n",
    "\n",
    "# Hacer un merge con el DataFrame base para incluir todos los meses y planes\n",
    "average_call_duration = pd.merge(base, average_call_duration, on=['plan', 'month'], how='left')\n",
    "\n",
    "# Rellenar los valores faltantes con 0\n",
    "average_call_duration['total_minutes'].fillna(0, inplace=True)\n",
    "\n",
    "# Crear un gráfico con barras agrupadas para cada mes\n",
    "import matplotlib.pyplot as plt\n",
    "import numpy as np\n",
    "\n",
    "plt.figure(figsize=(12, 6))\n",
    "\n",
    "# Obtener los datos separados por plan\n",
    "bar_width = 0.4  # Ancho de cada barra\n",
    "x = np.arange(len(months))  # Posiciones base para cada mes\n",
    "\n",
    "# Agregar barras para cada plan\n",
    "for i, plan in enumerate(plans):\n",
    "    plan_data = average_call_duration[average_call_duration['plan'] == plan]\n",
    "    plt.bar(x + i * bar_width, plan_data['total_minutes'], width=bar_width, label=plan)\n",
    "\n",
    "# Configurar etiquetas y título del gráfico\n",
    "plt.title('Duración promedio de llamadas por mes y plan', fontsize=16)\n",
    "plt.xlabel('Mes', fontsize=12)\n",
    "plt.ylabel('Duración promedio de llamadas (minutos)', fontsize=12)\n",
    "plt.xticks(ticks=x + bar_width / 2, labels=months)  # Centrar las etiquetas de los meses\n",
    "plt.legend(title='Plan')\n",
    "plt.grid(axis='y', linestyle='--', alpha=0.7)\n",
    "plt.tight_layout()\n",
    "\n",
    "# Mostrar el gráfico\n",
    "plt.show()\n",
    "\n"
   ]
  },
  {
   "cell_type": "code",
   "execution_count": 31,
   "metadata": {
    "id": "QoLqW1S_0q1J"
   },
   "outputs": [
    {
     "data": {
      "image/png": "[encoded data removed]",
      "text/plain": [
       "<Figure size 1200x600 with 1 Axes>"
      ]
     },
     "metadata": {},
     "output_type": "display_data"
    }
   ],
   "source": [
    "# Compara el número de minutos mensuales que necesitan los usuarios de cada plan. Traza un histograma.\n",
    "# Crear un histograma para comparar el número de minutos mensuales entre los planes\n",
    "plt.figure(figsize=(12, 6))\n",
    "\n",
    "# Filtrar los datos por plan y trazar el histograma\n",
    "for plan in merged_data_with_plans['plan'].unique():\n",
    "    plan_data = merged_data_with_plans[merged_data_with_plans['plan'] == plan]\n",
    "    plt.hist(plan_data['total_minutes'], bins=20, alpha=0.7, label=plan, edgecolor='black')\n",
    "\n",
    "# Configurar etiquetas y título del gráfico\n",
    "plt.title('Distribución de minutos mensuales por plan', fontsize=16)\n",
    "plt.xlabel('Minutos mensuales utilizados', fontsize=12)\n",
    "plt.ylabel('Frecuencia', fontsize=12)\n",
    "plt.legend(title='Plan')\n",
    "plt.grid(axis='y', linestyle='--', alpha=0.7)\n",
    "plt.tight_layout()\n",
    "\n",
    "# Mostrar el histograma\n",
    "plt.show()\n",
    "\n"
   ]
  },
  {
   "cell_type": "code",
   "execution_count": 32,
   "metadata": {
    "id": "oSndbAnt0q1K"
   },
   "outputs": [
    {
     "data": {
      "text/html": [
       "<div>\n",
       "<style scoped>\n",
       "    .dataframe tbody tr th:only-of-type {\n",
       "        vertical-align: middle;\n",
       "    }\n",
       "\n",
       "    .dataframe tbody tr th {\n",
       "        vertical-align: top;\n",
       "    }\n",
       "\n",
       "    .dataframe thead th {\n",
       "        text-align: right;\n",
       "    }\n",
       "</style>\n",
       "<table border=\"1\" class=\"dataframe\">\n",
       "  <thead>\n",
       "    <tr style=\"text-align: right;\">\n",
       "      <th></th>\n",
       "      <th>plan</th>\n",
       "      <th>mean_minutes</th>\n",
       "      <th>variance_minutes</th>\n",
       "    </tr>\n",
       "  </thead>\n",
       "  <tbody>\n",
       "    <tr>\n",
       "      <th>0</th>\n",
       "      <td>surf</td>\n",
       "      <td>421.251093</td>\n",
       "      <td>57167.030663</td>\n",
       "    </tr>\n",
       "    <tr>\n",
       "      <th>1</th>\n",
       "      <td>ultimate</td>\n",
       "      <td>428.071823</td>\n",
       "      <td>58543.878652</td>\n",
       "    </tr>\n",
       "  </tbody>\n",
       "</table>\n",
       "</div>"
      ],
      "text/plain": [
       "       plan  mean_minutes  variance_minutes\n",
       "0      surf    421.251093      57167.030663\n",
       "1  ultimate    428.071823      58543.878652"
      ]
     },
     "execution_count": 32,
     "metadata": {},
     "output_type": "execute_result"
    }
   ],
   "source": [
    "# Calcula la media y la varianza de la duración mensual de llamadas.\n",
    "\n",
    "# Calcular la media y la varianza de la duración mensual de llamadas separadas por plan\n",
    "plan_statistics = merged_data_with_plans.groupby('plan')['total_minutes'].agg(['mean', 'var']).reset_index()\n",
    "\n",
    "# Renombrar columnas para mayor claridad\n",
    "plan_statistics.rename(columns={'mean': 'mean_minutes', 'var': 'variance_minutes'}, inplace=True)\n",
    "\n",
    "# Mostrar los resultados\n",
    "plan_statistics\n",
    "\n",
    "\n"
   ]
  },
  {
   "cell_type": "code",
   "execution_count": 33,
   "metadata": {
    "id": "nZzoRUKc0q1K"
   },
   "outputs": [
    {
     "data": {
      "image/png": "[encoded data removed]",
      "text/plain": [
       "<Figure size 1000x600 with 1 Axes>"
      ]
     },
     "metadata": {},
     "output_type": "display_data"
    }
   ],
   "source": [
    "# Crear un diagrama de caja para visualizar la distribución de la duración mensual de llamadas por plan\n",
    "plt.figure(figsize=(10, 6))\n",
    "plt.boxplot(\n",
    "    [merged_data_with_plans[merged_data_with_plans['plan'] == plan]['total_minutes'].dropna() for plan in merged_data_with_plans['plan'].unique()],\n",
    "    labels=merged_data_with_plans['plan'].unique(),\n",
    "    patch_artist=True,  # Rellenar el diagrama con color\n",
    "    boxprops=dict(facecolor='lightblue', color='blue'),  # Estilo de las cajas\n",
    "    medianprops=dict(color='red')  # Estilo de la mediana\n",
    ")\n",
    "\n",
    "# Configurar etiquetas y título\n",
    "plt.title('Distribución de la duración mensual de llamadas por plan', fontsize=16)\n",
    "plt.xlabel('Plan', fontsize=12)\n",
    "plt.ylabel('Duración de llamadas (minutos)', fontsize=12)\n",
    "plt.tight_layout()\n",
    "\n",
    "# Mostrar el diagrama de caja\n",
    "plt.show()\n",
    "\n",
    "\n"
   ]
  },
  {
   "cell_type": "markdown",
   "metadata": {
    "id": "r627zBO50q1K"
   },
   "source": [
    "1. Diferencias entre los planes:\n",
    "\n",
    "- los usuarios de surf tienen una media más baja pero una varianza más alta, esto podría indicar que este plan lo eligen tanto usuarios con bajo uso como usuarios que necesitan minutos adicionales pero no quieren pagar por ultimate.\n",
    "- ultimate tiene una media más alta y varianza más baja, esto podría indicar que los usuarios de este plan tienen un patrón de uso más consistente y suelen hablar más.\n",
    "\n",
    "2. Satisfacción del plan:\n",
    "\n",
    "- El diagrama de caja muestra que muchos usuarios de un plan superan los minutos incluidos regularmente, podría ser una señal de que ese plan no satisface completamente las necesidades de los usuarios.\n",
    "\n",
    "3. Estrategias de negocio:\n",
    "\n",
    "- los usuarios de surf están usando muchos minutos adicionales, se podría recomendar un nuevo plan intermedio o incentivar la migración a ultimate."
   ]
  },
  {
   "cell_type": "markdown",
   "metadata": {
    "id": "8idKy8Wh0q1L"
   },
   "source": [
    "### Mensajes"
   ]
  },
  {
   "cell_type": "code",
   "execution_count": 34,
   "metadata": {
    "id": "NXLxiTit0q1L"
   },
   "outputs": [
    {
     "data": {
      "image/png": "[encoded data removed]",
      "text/plain": [
       "<Figure size 1200x600 with 1 Axes>"
      ]
     },
     "metadata": {},
     "output_type": "display_data"
    }
   ],
   "source": [
    "\n",
    "# Calcular el número promedio de mensajes enviados por cada plan y por cada mes\n",
    "average_messages_per_month = merged_data_with_plans.groupby(['plan', 'month'])['num_messages'].mean().reset_index()\n",
    "\n",
    "# Crear un DataFrame base con todos los meses (1 a 12) para ambos planes\n",
    "plans = merged_data_with_plans['plan'].unique()\n",
    "months = range(1, 13)\n",
    "base = pd.DataFrame([(plan, month) for plan in plans for month in months], columns=['plan', 'month'])\n",
    "\n",
    "# Hacer un merge con el DataFrame base para incluir todos los meses y planes\n",
    "average_messages_per_month = pd.merge(base, average_messages_per_month, on=['plan', 'month'], how='left')\n",
    "\n",
    "# Rellenar los valores faltantes con 0\n",
    "average_messages_per_month['num_messages'].fillna(0, inplace=True)\n",
    "\n",
    "# Crear un gráfico con barras agrupadas para cada mes\n",
    "plt.figure(figsize=(12, 6))\n",
    "\n",
    "# Configurar las posiciones de las barras agrupadas\n",
    "bar_width = 0.4\n",
    "x = np.arange(len(months))\n",
    "\n",
    "# Agregar barras para cada plan\n",
    "for i, plan in enumerate(plans):\n",
    "    plan_data = average_messages_per_month[average_messages_per_month['plan'] == plan]\n",
    "    plt.bar(x + i * bar_width, plan_data['num_messages'], width=bar_width, label=plan)\n",
    "\n",
    "# Configurar etiquetas y título del gráfico\n",
    "plt.title('Número promedio de mensajes por mes y plan', fontsize=16)\n",
    "plt.xlabel('Mes', fontsize=12)\n",
    "plt.ylabel('Número promedio de mensajes', fontsize=12)\n",
    "plt.xticks(ticks=x + bar_width / 2, labels=months)  # Centrar las etiquetas de los meses\n",
    "plt.legend(title='Plan')\n",
    "plt.grid(axis='y', linestyle='--', alpha=0.7)\n",
    "plt.tight_layout()\n",
    "\n",
    "# Mostrar el gráfico\n",
    "plt.show()\n",
    "\n"
   ]
  },
  {
   "cell_type": "code",
   "execution_count": 35,
   "metadata": {
    "id": "GRI_R7xF0q1L"
   },
   "outputs": [
    {
     "data": {
      "image/png": "[encoded data removed]",
      "text/plain": [
       "<Figure size 1200x600 with 1 Axes>"
      ]
     },
     "metadata": {},
     "output_type": "display_data"
    }
   ],
   "source": [
    "# Crear un histograma para comparar el número de mensajes mensuales entre los planes\n",
    "plt.figure(figsize=(12, 6))\n",
    "\n",
    "# Filtrar los datos por plan y trazar el histograma\n",
    "for plan in merged_data_with_plans['plan'].unique():\n",
    "    plan_data = merged_data_with_plans[merged_data_with_plans['plan'] == plan]\n",
    "    plt.hist(plan_data['num_messages'], bins=20, alpha=0.7, label=plan, edgecolor='black')\n",
    "\n",
    "# Configurar etiquetas y título del gráfico\n",
    "plt.title('Distribución de mensajes mensuales por plan', fontsize=16)\n",
    "plt.xlabel('Número de mensajes mensuales', fontsize=12)\n",
    "plt.ylabel('Frecuencia', fontsize=12)\n",
    "plt.legend(title='Plan')\n",
    "plt.grid(axis='y', linestyle='--', alpha=0.7)\n",
    "plt.tight_layout()\n",
    "\n",
    "# Mostrar el histograma\n",
    "plt.show()\n",
    "\n",
    "\n"
   ]
  },
  {
   "cell_type": "code",
   "execution_count": 36,
   "metadata": {
    "id": "dtFwCGAp0q1M"
   },
   "outputs": [
    {
     "data": {
      "text/html": [
       "<div>\n",
       "<style scoped>\n",
       "    .dataframe tbody tr th:only-of-type {\n",
       "        vertical-align: middle;\n",
       "    }\n",
       "\n",
       "    .dataframe tbody tr th {\n",
       "        vertical-align: top;\n",
       "    }\n",
       "\n",
       "    .dataframe thead th {\n",
       "        text-align: right;\n",
       "    }\n",
       "</style>\n",
       "<table border=\"1\" class=\"dataframe\">\n",
       "  <thead>\n",
       "    <tr style=\"text-align: right;\">\n",
       "      <th></th>\n",
       "      <th>plan</th>\n",
       "      <th>mean_messages</th>\n",
       "      <th>variance_messages</th>\n",
       "    </tr>\n",
       "  </thead>\n",
       "  <tbody>\n",
       "    <tr>\n",
       "      <th>0</th>\n",
       "      <td>surf</td>\n",
       "      <td>30.614616</td>\n",
       "      <td>1123.700761</td>\n",
       "    </tr>\n",
       "    <tr>\n",
       "      <th>1</th>\n",
       "      <td>ultimate</td>\n",
       "      <td>37.343923</td>\n",
       "      <td>1209.827612</td>\n",
       "    </tr>\n",
       "  </tbody>\n",
       "</table>\n",
       "</div>"
      ],
      "text/plain": [
       "       plan  mean_messages  variance_messages\n",
       "0      surf      30.614616        1123.700761\n",
       "1  ultimate      37.343923        1209.827612"
      ]
     },
     "execution_count": 36,
     "metadata": {},
     "output_type": "execute_result"
    }
   ],
   "source": [
    "# Calcular la media y la varianza del número de mensajes enviados por cada plan\n",
    "messages_stats_by_plan = merged_data_with_plans.groupby('plan')['num_messages'].agg(['mean', 'var']).reset_index()\n",
    "\n",
    "# Renombrar columnas para mayor claridad\n",
    "messages_stats_by_plan.rename(columns={'mean': 'mean_messages', 'var': 'variance_messages'}, inplace=True)\n",
    "\n",
    "# Mostrar los resultados\n",
    "messages_stats_by_plan\n"
   ]
  },
  {
   "cell_type": "code",
   "execution_count": 37,
   "metadata": {},
   "outputs": [
    {
     "data": {
      "image/png": "[encoded data removed]",
      "text/plain": [
       "<Figure size 1000x600 with 1 Axes>"
      ]
     },
     "metadata": {},
     "output_type": "display_data"
    }
   ],
   "source": [
    "# Crear un diagrama de caja para visualizar la distribución de la cantidad de mensajes por plan\n",
    "plt.figure(figsize=(10, 6))\n",
    "plt.boxplot(\n",
    "    [merged_data_with_plans[merged_data_with_plans['plan'] == plan]['num_messages'].dropna() for plan in merged_data_with_plans['plan'].unique()],\n",
    "    labels=merged_data_with_plans['plan'].unique(),\n",
    "    patch_artist=True,  # Rellenar el diagrama con color\n",
    "    boxprops=dict(facecolor='lightblue', color='blue'),  # Estilo de las cajas\n",
    "    medianprops=dict(color='red')  # Estilo de la mediana\n",
    ")\n",
    "\n",
    "# Configurar etiquetas y título\n",
    "plt.title('Distribución de mensajes mensuales por plan', fontsize=16)\n",
    "plt.xlabel('Plan', fontsize=12)\n",
    "plt.ylabel('Número de mensajes mensuales', fontsize=12)\n",
    "plt.tight_layout()\n",
    "\n",
    "# Mostrar el diagrama de caja\n",
    "plt.show()\n"
   ]
  },
  {
   "cell_type": "markdown",
   "metadata": {
    "id": "390SSL480q1M"
   },
   "source": [
    "1. Media de mensajes:\n",
    "\n",
    "* Los usuarios del plan Ultimate envían más mensajes en promedio (37.34) que los usuarios del plan Surf (30.61).\n",
    "\n",
    "2. Varianza:\n",
    "\n",
    "* La varianza es ligeramente mayor en Ultimate (1209.83) que en Surf (1123.70), lo que indica que los usuarios de Ultimate tienen un rango de uso de mensajes más disperso.\n",
    "\n",
    "3. Distribución en el diagrama de caja:\n",
    "\n",
    "* Surf: Tiene una mediana más baja y una distribución más concentrada hacia valores bajos de mensajes enviados.\n",
    "Ultimate: Muestra una mediana más alta y una mayor presencia de usuarios que envían más mensajes.\n",
    "\n",
    "4. Comportamiento por plan:\n",
    "\n",
    "* Surf: Parece preferido por usuarios con un uso moderado o bajo de mensajes.\n",
    "* Ultimate: Es más adecuado para usuarios con un uso mayor de mensajes, como sugiere la mediana más alta."
   ]
  },
  {
   "cell_type": "markdown",
   "metadata": {
    "id": "42YSypXz0q1M"
   },
   "source": [
    "### Internet"
   ]
  },
  {
   "cell_type": "code",
   "execution_count": 38,
   "metadata": {
    "id": "lSuKPtjh0q1M"
   },
   "outputs": [
    {
     "data": {
      "image/png": "[encoded data removed]",
      "text/plain": [
       "<Figure size 1200x600 with 1 Axes>"
      ]
     },
     "metadata": {},
     "output_type": "display_data"
    }
   ],
   "source": [
    "# Calcular el uso promedio de Internet por cada plan y por cada mes\n",
    "average_internet_per_month = merged_data_with_plans.groupby(['plan', 'month'])['total_mb_used'].mean().reset_index()\n",
    "\n",
    "# Crear un DataFrame base con todos los meses (1 a 12) para ambos planes\n",
    "plans = merged_data_with_plans['plan'].unique()\n",
    "months = range(1, 13)\n",
    "base = pd.DataFrame([(plan, month) for plan in plans for month in months], columns=['plan', 'month'])\n",
    "\n",
    "# Hacer un merge con el DataFrame base para incluir todos los meses y planes\n",
    "average_internet_per_month = pd.merge(base, average_internet_per_month, on=['plan', 'month'], how='left')\n",
    "\n",
    "# Rellenar los valores faltantes con 0\n",
    "average_internet_per_month['total_mb_used'].fillna(0, inplace=True)\n",
    "\n",
    "# Crear un gráfico con barras agrupadas para cada mes\n",
    "plt.figure(figsize=(12, 6))\n",
    "\n",
    "# Configurar las posiciones de las barras agrupadas\n",
    "bar_width = 0.4\n",
    "x = np.arange(len(months))\n",
    "\n",
    "# Agregar barras para cada plan\n",
    "for i, plan in enumerate(plans):\n",
    "    plan_data = average_internet_per_month[average_internet_per_month['plan'] == plan]\n",
    "    plt.bar(x + i * bar_width, plan_data['total_mb_used'], width=bar_width, label=plan)\n",
    "\n",
    "# Configurar etiquetas y título del gráfico\n",
    "plt.title('Uso promedio de Internet por mes y plan', fontsize=16)\n",
    "plt.xlabel('Mes', fontsize=12)\n",
    "plt.ylabel('Uso promedio de Internet (MB)', fontsize=12)\n",
    "plt.xticks(ticks=x + bar_width / 2, labels=months)  # Centrar las etiquetas de los meses\n",
    "plt.legend(title='Plan')\n",
    "plt.grid(axis='y', linestyle='--', alpha=0.7)\n",
    "plt.tight_layout()\n",
    "\n",
    "# Mostrar el gráfico\n",
    "plt.show()\n"
   ]
  },
  {
   "cell_type": "code",
   "execution_count": 39,
   "metadata": {
    "id": "wnh8jYXi0q1N"
   },
   "outputs": [
    {
     "data": {
      "image/png": "[encoded data removed]",
      "text/plain": [
       "<Figure size 1200x600 with 1 Axes>"
      ]
     },
     "metadata": {},
     "output_type": "display_data"
    }
   ],
   "source": [
    "# Crear un histograma para comparar el uso mensual de Internet entre los planes\n",
    "plt.figure(figsize=(12, 6))\n",
    "\n",
    "# Filtrar los datos por plan y trazar el histograma\n",
    "for plan in merged_data_with_plans['plan'].unique():\n",
    "    plan_data = merged_data_with_plans[merged_data_with_plans['plan'] == plan]\n",
    "    plt.hist(plan_data['total_mb_used'], bins=20, alpha=0.7, label=plan, edgecolor='black')\n",
    "\n",
    "# Configurar etiquetas y título del gráfico\n",
    "plt.title('Distribución del uso mensual de Internet por plan', fontsize=16)\n",
    "plt.xlabel('Uso de Internet mensual (MB)', fontsize=12)\n",
    "plt.ylabel('Frecuencia', fontsize=12)\n",
    "plt.legend(title='Plan')\n",
    "plt.grid(axis='y', linestyle='--', alpha=0.7)\n",
    "plt.tight_layout()\n",
    "\n",
    "# Mostrar el histograma\n",
    "plt.show()\n"
   ]
  },
  {
   "cell_type": "code",
   "execution_count": 40,
   "metadata": {
    "id": "5VlyJ9ry0q1N"
   },
   "outputs": [
    {
     "name": "stdout",
     "output_type": "stream",
     "text": [
      "       plan  mean_internet_mb  variance_internet_mb\n",
      "0      surf      16268.694522          6.780679e+07\n",
      "1  ultimate      17119.590856          6.294168e+07\n"
     ]
    }
   ],
   "source": [
    "# Calcular la media y la varianza del uso de Internet por cada plan\n",
    "internet_stats_by_plan = merged_data_with_plans.groupby('plan')['total_mb_used'].agg(['mean', 'var']).reset_index()\n",
    "\n",
    "# Renombrar columnas para mayor claridad\n",
    "internet_stats_by_plan.rename(columns={'mean': 'mean_internet_mb', 'var': 'variance_internet_mb'}, inplace=True)\n",
    "\n",
    "# Mostrar los resultados\n",
    "print(internet_stats_by_plan)\n"
   ]
  },
  {
   "cell_type": "code",
   "execution_count": 41,
   "metadata": {},
   "outputs": [
    {
     "data": {
      "image/png": "[encoded data removed]",
      "text/plain": [
       "<Figure size 1000x600 with 1 Axes>"
      ]
     },
     "metadata": {},
     "output_type": "display_data"
    }
   ],
   "source": [
    "# Crear un diagrama de caja para visualizar la distribución del uso de Internet por plan\n",
    "plt.figure(figsize=(10, 6))\n",
    "plt.boxplot(\n",
    "    [merged_data_with_plans[merged_data_with_plans['plan'] == plan]['total_mb_used'].dropna() for plan in merged_data_with_plans['plan'].unique()],\n",
    "    labels=merged_data_with_plans['plan'].unique(),\n",
    "    patch_artist=True,  # Rellenar el diagrama con color\n",
    "    boxprops=dict(facecolor='lightblue', color='blue'),  # Estilo de las cajas\n",
    "    medianprops=dict(color='red')  # Estilo de la mediana\n",
    ")\n",
    "\n",
    "# Configurar etiquetas y título\n",
    "plt.title('Distribución del uso de Internet por plan', fontsize=16)\n",
    "plt.xlabel('Plan', fontsize=12)\n",
    "plt.ylabel('Uso de Internet (MB)', fontsize=12)\n",
    "plt.tight_layout()\n",
    "\n",
    "# Mostrar el diagrama de caja\n",
    "plt.show()\n"
   ]
  },
  {
   "cell_type": "markdown",
   "metadata": {
    "id": "UN9zwuMP0q1N"
   },
   "source": [
    "1. Consumo promedio por plan:\n",
    "\n",
    "* Los usuarios del plan Ultimate consumen más tráfico de Internet en promedio (17,119 MB) que los usuarios del plan Surf (16,268 MB).\n",
    "* Esto sugiere que el plan Ultimate es más atractivo para usuarios que necesitan un consumo de datos más elevado.\n",
    "\n",
    "2. Distribución del consumo:\n",
    "\n",
    "* El rango intercuartil (IQR) del plan Ultimate es más alto, lo que significa que los usuarios de este plan tienen patrones de consumo más consistentes hacia valores más altos.\n",
    "* Por otro lado, el consumo en Surf es más variable, con algunos usuarios que consumen cantidades significativamente más bajas de datos.\n",
    "\n",
    "3. Valores atípicos:\n",
    "\n",
    "* En ambos planes hay usuarios que destacan como valores atípicos debido a su alto consumo de Internet, lo que podría indicar:\n",
    "* Que están pagando costos adicionales por exceder los límites del plan.\n",
    "* Una oportunidad para ajustar los planes o promocionar upgrades.\n",
    "\n",
    "4. Diferencias clave entre los planes:\n",
    "\n",
    "* Ultimate: Los usuarios tienden a consumir más datos y lo hacen de manera más constante. Este plan parece adecuado para usuarios con necesidades de datos más elevadas.\n",
    "* Surf: Tiene un grupo más variado de usuarios, desde quienes consumen muy pocos datos hasta algunos que utilizan niveles de datos similares a Ultimate.\n",
    "\n",
    "5. Varianza del consumo:\n",
    "\n",
    "* Aunque ambos planes tienen alta varianza, la del plan Surf es ligeramente mayor. Esto podría indicar que algunos usuarios de Surf están forzando los límites del plan, posiblemente generando costos adicionales por exceso de datos."
   ]
  },
  {
   "cell_type": "markdown",
   "metadata": {
    "id": "tCijq3260q1N"
   },
   "source": [
    "## Ingreso"
   ]
  },
  {
   "cell_type": "markdown",
   "metadata": {
    "id": "9nq5IAcy0q1O"
   },
   "source": [
    "[Del mismo modo que has estudiado el comportamiento de los usuarios, describe estadísticamente los ingresos de los planes.]"
   ]
  },
  {
   "cell_type": "code",
   "execution_count": 42,
   "metadata": {
    "id": "tz-dq_V00q1O"
   },
   "outputs": [
    {
     "data": {
      "image/png": "[encoded data removed]",
      "text/plain": [
       "<Figure size 1200x600 with 1 Axes>"
      ]
     },
     "metadata": {},
     "output_type": "display_data"
    }
   ],
   "source": [
    "# Calcular los ingresos promedio por plan y por mes\n",
    "average_revenue_per_month = merged_data_with_plans.groupby(['plan', 'month'])['monthly_revenue'].mean().reset_index()\n",
    "\n",
    "# Crear un DataFrame base con todos los meses (1 a 12) para ambos planes\n",
    "plans = merged_data_with_plans['plan'].unique()\n",
    "months = range(1, 13)\n",
    "base = pd.DataFrame([(plan, month) for plan in plans for month in months], columns=['plan', 'month'])\n",
    "\n",
    "# Hacer un merge con el DataFrame base para incluir todos los meses y planes\n",
    "average_revenue_per_month = pd.merge(base, average_revenue_per_month, on=['plan', 'month'], how='left')\n",
    "\n",
    "# Rellenar los valores faltantes con 0\n",
    "average_revenue_per_month['monthly_revenue'].fillna(0, inplace=True)\n",
    "\n",
    "# Crear un gráfico con barras agrupadas para cada mes\n",
    "plt.figure(figsize=(12, 6))\n",
    "\n",
    "# Configurar las posiciones de las barras agrupadas\n",
    "bar_width = 0.4\n",
    "x = np.arange(len(months))\n",
    "\n",
    "# Agregar barras para cada plan\n",
    "for i, plan in enumerate(plans):\n",
    "    plan_data = average_revenue_per_month[average_revenue_per_month['plan'] == plan]\n",
    "    plt.bar(x + i * bar_width, plan_data['monthly_revenue'], width=bar_width, label=plan)\n",
    "\n",
    "# Configurar etiquetas y título del gráfico\n",
    "plt.title('Ingresos promedio por mes y plan', fontsize=16)\n",
    "plt.xlabel('Mes', fontsize=12)\n",
    "plt.ylabel('Ingresos promedio (USD)', fontsize=12)\n",
    "plt.xticks(ticks=x + bar_width / 2, labels=months)  # Centrar las etiquetas de los meses\n",
    "plt.legend(title='Plan')\n",
    "plt.grid(axis='y', linestyle='--', alpha=0.7)\n",
    "plt.tight_layout()\n",
    "\n",
    "# Mostrar el gráfico\n",
    "plt.show()\n"
   ]
  },
  {
   "cell_type": "code",
   "execution_count": 43,
   "metadata": {
    "id": "0Y1v8ZUz0q1P"
   },
   "outputs": [
    {
     "data": {
      "image/png": "[encoded data removed]",
      "text/plain": [
       "<Figure size 1200x600 with 1 Axes>"
      ]
     },
     "metadata": {},
     "output_type": "display_data"
    }
   ],
   "source": [
    "# Crear un histograma para comparar la distribución de ingresos mensuales entre los planes\n",
    "plt.figure(figsize=(12, 6))\n",
    "\n",
    "# Filtrar los datos por plan y trazar el histograma\n",
    "for plan in merged_data_with_plans['plan'].unique():\n",
    "    plan_data = merged_data_with_plans[merged_data_with_plans['plan'] == plan]\n",
    "    plt.hist(plan_data['monthly_revenue'], bins=20, alpha=0.7, label=plan, edgecolor='black')\n",
    "\n",
    "# Configurar etiquetas y título del gráfico\n",
    "plt.title('Distribución de los ingresos mensuales por plan', fontsize=16)\n",
    "plt.xlabel('Ingresos mensuales (USD)', fontsize=12)\n",
    "plt.ylabel('Frecuencia', fontsize=12)\n",
    "plt.legend(title='Plan')\n",
    "plt.grid(axis='y', linestyle='--', alpha=0.7)\n",
    "plt.tight_layout()\n",
    "\n",
    "# Mostrar el histograma\n",
    "plt.show()\n"
   ]
  },
  {
   "cell_type": "code",
   "execution_count": 44,
   "metadata": {
    "id": "bYmwxyVh0q1P"
   },
   "outputs": [
    {
     "data": {
      "text/html": [
       "<div>\n",
       "<style scoped>\n",
       "    .dataframe tbody tr th:only-of-type {\n",
       "        vertical-align: middle;\n",
       "    }\n",
       "\n",
       "    .dataframe tbody tr th {\n",
       "        vertical-align: top;\n",
       "    }\n",
       "\n",
       "    .dataframe thead th {\n",
       "        text-align: right;\n",
       "    }\n",
       "</style>\n",
       "<table border=\"1\" class=\"dataframe\">\n",
       "  <thead>\n",
       "    <tr style=\"text-align: right;\">\n",
       "      <th></th>\n",
       "      <th>plan</th>\n",
       "      <th>mean_revenue</th>\n",
       "      <th>variance_revenue</th>\n",
       "    </tr>\n",
       "  </thead>\n",
       "  <tbody>\n",
       "    <tr>\n",
       "      <th>0</th>\n",
       "      <td>surf</td>\n",
       "      <td>59.994491</td>\n",
       "      <td>3040.982973</td>\n",
       "    </tr>\n",
       "    <tr>\n",
       "      <th>1</th>\n",
       "      <td>ultimate</td>\n",
       "      <td>72.301105</td>\n",
       "      <td>129.159556</td>\n",
       "    </tr>\n",
       "  </tbody>\n",
       "</table>\n",
       "</div>"
      ],
      "text/plain": [
       "       plan  mean_revenue  variance_revenue\n",
       "0      surf     59.994491       3040.982973\n",
       "1  ultimate     72.301105        129.159556"
      ]
     },
     "execution_count": 44,
     "metadata": {},
     "output_type": "execute_result"
    }
   ],
   "source": [
    "# Calcular la media y la varianza de los ingresos mensuales por plan\n",
    "revenue_stats_by_plan = merged_data_with_plans.groupby('plan')['monthly_revenue'].agg(['mean', 'var']).reset_index()\n",
    "\n",
    "# Renombrar columnas para mayor claridad\n",
    "revenue_stats_by_plan.rename(columns={'mean': 'mean_revenue', 'var': 'variance_revenue'}, inplace=True)\n",
    "\n",
    "# Mostrar los resultados\n",
    "revenue_stats_by_plan\n"
   ]
  },
  {
   "cell_type": "code",
   "execution_count": 45,
   "metadata": {},
   "outputs": [
    {
     "data": {
      "image/png": "[encoded data removed]",
      "text/plain": [
       "<Figure size 1000x600 with 1 Axes>"
      ]
     },
     "metadata": {},
     "output_type": "display_data"
    }
   ],
   "source": [
    "# Crear un diagrama de caja para visualizar la distribución de los ingresos por plan\n",
    "plt.figure(figsize=(10, 6))\n",
    "plt.boxplot(\n",
    "    [merged_data_with_plans[merged_data_with_plans['plan'] == plan]['monthly_revenue'].dropna() for plan in merged_data_with_plans['plan'].unique()],\n",
    "    labels=merged_data_with_plans['plan'].unique(),\n",
    "    patch_artist=True,  # Rellenar el diagrama con color\n",
    "    boxprops=dict(facecolor='lightblue', color='blue'),  # Estilo de las cajas\n",
    "    medianprops=dict(color='red')  # Estilo de la mediana\n",
    ")\n",
    "\n",
    "# Configurar etiquetas y título\n",
    "plt.title('Distribución de los ingresos mensuales por plan', fontsize=16)\n",
    "plt.xlabel('Plan', fontsize=12)\n",
    "plt.ylabel('Ingresos mensuales (USD)', fontsize=12)\n",
    "plt.tight_layout()\n",
    "\n",
    "# Mostrar el diagrama de caja\n",
    "plt.show()\n"
   ]
  },
  {
   "cell_type": "markdown",
   "metadata": {
    "id": "KAFidcXZ0q1P"
   },
   "source": [
    "1. Ingreso promedio:\n",
    "\n",
    "* El plan Ultimate genera un ingreso promedio más alto (72.30 USD) que Surf (59.99 USD).\n",
    "Esto refleja la naturaleza premium del plan Ultimate, que incluye más servicios en su tarifa básica.\n",
    "\n",
    "2. Varianza:\n",
    "\n",
    "* La varianza en Surf es mucho mayor (3040.98) en comparación con Ultimate (129.16). Esto indica que los ingresos de Surf dependen más de cargos adicionales (por ejemplo, excedentes en minutos, mensajes o Internet), mientras que los ingresos de Ultimate son más consistentes.\n",
    "\n",
    "3. Distribución:\n",
    "\n",
    "* Los ingresos de Ultimate están más concentrados, lo que sugiere que la mayoría de los usuarios pagan una tarifa similar, probablemente debido a menos excedentes.\n",
    "\n",
    "* Los ingresos de Surf muestran una mayor dispersión, lo que puede deberse a usuarios con comportamientos de consumo variados (algunos exceden los límites del plan y generan cargos adicionales).\n",
    "\n",
    "\n"
   ]
  },
  {
   "cell_type": "markdown",
   "metadata": {
    "id": "ajJ7VKeI0q1Q"
   },
   "source": [
    "## Prueba las hipótesis estadísticas"
   ]
  },
  {
   "cell_type": "markdown",
   "metadata": {
    "id": "AdXAZ-yL0q1Q"
   },
   "source": [
    "[Prueba la hipótesis de que son diferentes los ingresos promedio procedentes de los usuarios de los planes de llamada Ultimate y Surf.]"
   ]
  },
  {
   "cell_type": "markdown",
   "metadata": {
    "id": "IQwa_hsh0q1Q"
   },
   "source": [
    "[Elabora las hipótesis nula y alternativa, escoge la prueba estadística, determina el valor alfa.]"
   ]
  },
  {
   "cell_type": "code",
   "execution_count": 46,
   "metadata": {
    "id": "nFoPNlPq0q1R"
   },
   "outputs": [
    {
     "name": "stdout",
     "output_type": "stream",
     "text": [
      "Valor-p (prueba de dos colas):  2.7836646515264525e-17\n",
      "Rechazamos la hipótesis nula: los ingresos promedio entre los planes son significativamente diferentes\n"
     ]
    }
   ],
   "source": [
    "# Prueba las hipótesis\n",
    "from scipy import stats as st\n",
    "\n",
    "# Definir los datos: ingresos por plan\n",
    "revenue_surf = merged_data_with_plans[merged_data_with_plans['plan'] == 'surf']['monthly_revenue']\n",
    "revenue_ultimate = merged_data_with_plans[merged_data_with_plans['plan'] == 'ultimate']['monthly_revenue']\n",
    "\n",
    "# Nivel de significancia\n",
    "alpha = 0.05\n",
    "\n",
    "# Realizar la prueba t para muestras independientes\n",
    "results = st.ttest_ind(revenue_surf, revenue_ultimate, equal_var=False)\n",
    "\n",
    "# Prueba de dos colas\n",
    "print(\"Valor-p (prueba de dos colas): \", results.pvalue)\n",
    "\n",
    "# Decisión de la hipótesis\n",
    "if results.pvalue < alpha:\n",
    "    print(\"Rechazamos la hipótesis nula: los ingresos promedio entre los planes son significativamente diferentes\")\n",
    "else:\n",
    "    print(\"No podemos rechazar la hipótesis nula: los ingresos promedio entre los planes no son significativamente diferentes\")\n",
    "\n"
   ]
  },
  {
   "cell_type": "markdown",
   "metadata": {
    "id": "tCcAruM60q1R"
   },
   "source": [
    "[Prueba la hipótesis de que el ingreso promedio de los usuarios del área NY-NJ es diferente al de los usuarios de otras regiones.]"
   ]
  },
  {
   "cell_type": "markdown",
   "metadata": {
    "id": "LsBgitqj0q1R"
   },
   "source": [
    "[Elabora las hipótesis nula y alternativa, escoge la prueba estadística, determina el valor alfa.]"
   ]
  },
  {
   "cell_type": "code",
   "execution_count": 47,
   "metadata": {
    "id": "Cqcj7wrZ0q1S"
   },
   "outputs": [
    {
     "name": "stdout",
     "output_type": "stream",
     "text": [
      "Valor-p (prueba de dos colas): 0.03221678872771619\n",
      "Rechazamos la hipótesis nula: los ingresos promedio de NY-NJ son significativamente diferentes a los de otras regiones.\n"
     ]
    }
   ],
   "source": [
    "\n",
    "# Paso 1: Fusionar df_users con merged_data_with_plans\n",
    "merged_with_cities = merged_data_with_plans.merge(df_users[['user_id', 'city']], on='user_id', how='left')\n",
    "\n",
    "# Paso 2: Filtrar usuarios de NY-NJ usando tanto \"New York\" como \"New Jersey\"\n",
    "ny_nj_cities = ['New York', 'New Jersey']\n",
    "revenue_ny_nj = merged_with_cities[merged_with_cities['city'].str.contains('|'.join(ny_nj_cities))]['monthly_revenue']\n",
    "revenue_other_regions = merged_with_cities[~merged_with_cities['city'].str.contains('|'.join(ny_nj_cities))]['monthly_revenue']\n",
    "\n",
    "# Paso 3: Prueba t de Student para comparar los ingresos\n",
    "alpha = 0.05\n",
    "results = st.ttest_ind(revenue_ny_nj, revenue_other_regions, equal_var=False)\n",
    "\n",
    "# Mostrar los resultados\n",
    "print(\"Valor-p (prueba de dos colas):\", results.pvalue)\n",
    "if results.pvalue < alpha:\n",
    "    print(\"Rechazamos la hipótesis nula: los ingresos promedio de NY-NJ son significativamente diferentes a los de otras regiones.\")\n",
    "else:\n",
    "    print(\"No podemos rechazar la hipótesis nula: no hay diferencias significativas en los ingresos promedio entre NY-NJ y otras regiones.\")\n"
   ]
  },
  {
   "cell_type": "markdown",
   "metadata": {
    "id": "bbTR8UQO0q1T"
   },
   "source": [
    "## Conclusión general\n",
    "\n",
    "1.Limpieza y procesamiento de datos: \n",
    "* Redondeamos la duración de las llamadas hacia el minuto superior, ya que la empresa cobra por minuto completo.\n",
    "* Redondeamos el tráfico de Internet al gigabyte superior al total mensual, siguiendo la política de la empresa.\n",
    "* Creamos nuevas columnas para extraer el mes de las fechas y organizar mejor los datos por período.\n",
    "* Fusionamos múltiples tablas relacionadas (llamadas, mensajes, Internet, planes, usuarios) en un único DataFrame para facilitar el análisis.\n",
    "* Los datos ausentes en las fechas de baja de los usuarios (churn_date) indicaban que el cliente estaba activo en la fecha de extracción de los datos.\n",
    "\n",
    "2. . Comportamiento de los usuarios\n",
    "\n",
    "* Llamadas:\n",
    "\n",
    "El análisis mostró que los usuarios del plan Ultimate realizan llamadas más largas en promedio que los del plan Surf.\n",
    "Las varianzas de la duración de las llamadas sugieren un rango de comportamientos más disperso en el plan Surf, mientras que el plan Ultimate tiene una distribución más consistente.\n",
    "\n",
    "Los diagramas de caja revelaron valores atípicos en ambos planes, lo que sugiere algunos usuarios que realizan llamadas significativamente más largas.\n",
    "\n",
    "* Mensajes:\n",
    "\n",
    "Los usuarios del plan Ultimate envían más mensajes en promedio que los del plan Surf.\n",
    "\n",
    "Aunque el plan Surf tiene una mayor dispersión en el número de mensajes enviados, la mayoría de los usuarios se concentran en valores bajos.\n",
    "\n",
    "* Internet:\n",
    "\n",
    "El plan Ultimate atrae a usuarios con un mayor consumo promedio de datos.\n",
    "\n",
    "La varianza en el consumo de Internet también es más alta en el plan Surf, lo que indica una mayor diversidad en los hábitos de uso entre sus usuarios.\n",
    "\n",
    "3. Ingresos generados por los planes\n",
    "\n",
    "* El plan Ultimate genera ingresos promedio más altos ($72.30) que el plan Surf ($59.99).\n",
    "\n",
    "La varianza de los ingresos en Surf es mucho mayor (3040.98), indicando que los ingresos en este plan dependen más de los cargos adicionales (excedentes).\n",
    "\n",
    "Patrones mensuales: Los ingresos promedio por mes son consistentes para ambos planes. Sin embargo, los ingresos de Ultimate se concentran en valores más altos debido a su tarifa base más elevada y un menor número de cargos adicionales.\n",
    "\n",
    "4. Se realizaron varias pruebas de hipótesis para evaluar diferencias significativas entre grupos:\n",
    "\n",
    "* Comparación de ingresos entre planes Surf y Ultimate:\n",
    "\n",
    "Hipótesis nula (Ho): Los ingresos promedio entre Surf y Ultimate son iguales.\n",
    "Resultado: Se rechazó (Ho) p<0.05),  concluyendo que los ingresos promedio de los planes son significativamente diferentes.\n",
    "\n",
    "* Ingresos entre regiones (NY-NJ vs otras):\n",
    "\n",
    "**Hipótesis nula (Ho):** Los ingresos promedio de usuarios de NY-NJ no difieren de los de otras regiones.\n",
    "**Resultado:** Se rechazó (Ho) p<0.0322), indicando que los ingresos de los usuarios de NY-NJ son significativamente diferentes.\n",
    "\n",
    "**Decisiones importantes:**Elegimos pruebas de dos colas para evaluar diferencias sin asumir direcciones específicas en las hipótesis.\n",
    "\n",
    "5. Recomendaciones estratégicas\n",
    "\n",
    "**Planes:**\n",
    "* El plan Ultimate genera ingresos más altos de manera consistente. Se podría promover entre usuarios de Surf con altos consumos de llamadas, mensajes o datos.\n",
    "* Crear un plan intermedio entre Surf y Ultimate podría cubrir mejor las necesidades de los usuarios de Surf que exceden sus límites.\n",
    "\n",
    "**Regiones:**\n",
    "* Analizar los factores específicos que influyen en los ingresos más altos de los usuarios de NY-NJ para replicar estrategias en otras regiones.\n",
    "\n",
    "**Conclusión general**\n",
    "\n",
    "El análisis reveló diferencias significativas entre los planes de la empresa en términos de comportamiento de los usuarios e ingresos generados. Estas diferencias destacan la necesidad de segmentar mejor a los clientes y ajustar los planes o las estrategias de marketing para maximizar los ingresos.\n"
   ]
  }
 ],
 "metadata": {
  "ExecuteTimeLog": [
   {
    "duration": 828,
    "start_time": "2021-11-16T09:21:11.304Z"
   },
   {
    "duration": 893,
    "start_time": "2021-11-16T09:21:17.728Z"
   },
   {
    "duration": 1150,
    "start_time": "2021-11-16T09:21:29.568Z"
   },
   {
    "duration": 3,
    "start_time": "2021-11-16T09:24:14.495Z"
   },
   {
    "duration": 120,
    "start_time": "2021-11-16T09:24:46.630Z"
   },
   {
    "duration": 3,
    "start_time": "2021-11-16T09:28:27.882Z"
   },
   {
    "duration": 4,
    "start_time": "2021-11-16T09:29:54.281Z"
   },
   {
    "duration": 3,
    "start_time": "2021-11-16T09:30:45.936Z"
   },
   {
    "duration": 4,
    "start_time": "2021-11-16T09:31:06.300Z"
   },
   {
    "duration": 113,
    "start_time": "2021-11-16T09:31:37.208Z"
   },
   {
    "duration": 143,
    "start_time": "2021-11-16T09:31:48.656Z"
   },
   {
    "duration": 98,
    "start_time": "2021-11-16T09:31:55.678Z"
   },
   {
    "duration": 3,
    "start_time": "2021-11-16T09:32:08.535Z"
   },
   {
    "duration": 111,
    "start_time": "2021-11-16T09:32:10.120Z"
   },
   {
    "duration": 3,
    "start_time": "2021-11-16T09:32:15.732Z"
   },
   {
    "duration": 4,
    "start_time": "2021-11-16T09:32:29.423Z"
   },
   {
    "duration": 3,
    "start_time": "2021-11-16T10:03:03.074Z"
   },
   {
    "duration": 3,
    "start_time": "2021-11-16T10:10:01.288Z"
   },
   {
    "duration": 3,
    "start_time": "2021-11-16T10:10:46.923Z"
   },
   {
    "duration": 121,
    "start_time": "2021-11-16T10:37:46.494Z"
   },
   {
    "duration": 125,
    "start_time": "2021-11-16T10:38:20.632Z"
   },
   {
    "duration": 112,
    "start_time": "2021-11-16T10:46:53.001Z"
   },
   {
    "duration": 110,
    "start_time": "2021-11-16T10:48:25.775Z"
   },
   {
    "duration": 3,
    "start_time": "2021-11-16T10:50:18.720Z"
   },
   {
    "duration": 4,
    "start_time": "2021-11-16T10:50:37.649Z"
   },
   {
    "duration": 2,
    "start_time": "2021-11-16T10:50:51.884Z"
   },
   {
    "duration": 3,
    "start_time": "2021-11-16T10:51:56.237Z"
   },
   {
    "duration": 101,
    "start_time": "2021-11-16T10:53:13.791Z"
   },
   {
    "duration": 3,
    "start_time": "2021-11-16T10:55:59.186Z"
   },
   {
    "duration": 3,
    "start_time": "2021-11-16T10:56:10.751Z"
   },
   {
    "duration": 3,
    "start_time": "2021-11-16T10:56:49.038Z"
   },
   {
    "duration": 3,
    "start_time": "2021-11-16T10:56:49.174Z"
   },
   {
    "duration": 4,
    "start_time": "2021-11-16T10:56:49.414Z"
   },
   {
    "duration": 3,
    "start_time": "2021-11-16T10:56:49.680Z"
   },
   {
    "duration": 3,
    "start_time": "2021-11-16T10:56:50.370Z"
   },
   {
    "duration": 114,
    "start_time": "2021-11-16T10:59:34.518Z"
   },
   {
    "duration": 3,
    "start_time": "2021-11-16T11:01:41.201Z"
   },
   {
    "duration": 116,
    "start_time": "2021-11-16T11:01:48.754Z"
   },
   {
    "duration": 3,
    "start_time": "2021-11-16T11:02:16.685Z"
   },
   {
    "duration": 3,
    "start_time": "2021-11-16T11:02:19.479Z"
   },
   {
    "duration": 3,
    "start_time": "2021-11-16T11:02:47.067Z"
   },
   {
    "duration": 3,
    "start_time": "2021-11-16T11:02:49.353Z"
   },
   {
    "duration": 3,
    "start_time": "2021-11-16T11:03:07.835Z"
   },
   {
    "duration": 3,
    "start_time": "2021-11-16T11:03:07.953Z"
   },
   {
    "duration": 112,
    "start_time": "2021-11-16T11:07:52.072Z"
   },
   {
    "duration": 187,
    "start_time": "2021-11-16T11:09:23.468Z"
   },
   {
    "duration": 4,
    "start_time": "2021-11-16T11:10:01.455Z"
   },
   {
    "duration": 3,
    "start_time": "2021-11-16T11:10:05.069Z"
   },
   {
    "duration": 4,
    "start_time": "2021-11-16T11:10:13.376Z"
   },
   {
    "duration": 3,
    "start_time": "2021-11-16T11:10:14.434Z"
   },
   {
    "duration": 3,
    "start_time": "2021-11-16T11:10:22.853Z"
   },
   {
    "duration": 4,
    "start_time": "2021-11-16T11:27:29.279Z"
   },
   {
    "duration": 4,
    "start_time": "2021-11-16T11:29:08.919Z"
   },
   {
    "duration": 118,
    "start_time": "2021-11-16T11:29:46.703Z"
   },
   {
    "duration": 437,
    "start_time": "2021-11-16T11:36:02.181Z"
   },
   {
    "duration": 157,
    "start_time": "2021-11-16T11:36:14.388Z"
   },
   {
    "duration": 207,
    "start_time": "2021-11-16T11:47:15.898Z"
   },
   {
    "duration": 3,
    "start_time": "2021-11-16T11:53:52.092Z"
   },
   {
    "duration": 3,
    "start_time": "2021-11-16T11:53:52.236Z"
   },
   {
    "duration": 3,
    "start_time": "2021-11-16T11:59:12.005Z"
   },
   {
    "duration": 112,
    "start_time": "2021-11-16T12:00:33.446Z"
   },
   {
    "duration": 3,
    "start_time": "2021-11-16T12:02:14.453Z"
   },
   {
    "duration": 3,
    "start_time": "2021-11-16T12:02:39.512Z"
   },
   {
    "duration": 106,
    "start_time": "2021-11-16T12:03:03.460Z"
   },
   {
    "duration": 3,
    "start_time": "2021-11-17T20:37:21.139Z"
   },
   {
    "duration": 3,
    "start_time": "2021-11-17T20:37:22.229Z"
   },
   {
    "duration": 3,
    "start_time": "2021-11-17T20:38:38.806Z"
   },
   {
    "duration": 3,
    "start_time": "2021-11-17T20:38:41.958Z"
   },
   {
    "duration": 3,
    "start_time": "2021-11-17T20:43:46.551Z"
   },
   {
    "duration": 4,
    "start_time": "2021-11-17T20:58:21.835Z"
   },
   {
    "duration": 3,
    "start_time": "2021-11-17T20:59:21.872Z"
   },
   {
    "duration": 4,
    "start_time": "2021-11-17T20:59:45.352Z"
   },
   {
    "duration": 4,
    "start_time": "2021-11-17T20:59:49.646Z"
   },
   {
    "duration": 159,
    "start_time": "2021-11-17T21:02:26.949Z"
   },
   {
    "duration": 3,
    "start_time": "2021-11-17T21:03:53.461Z"
   },
   {
    "duration": 3,
    "start_time": "2021-11-17T21:03:53.694Z"
   },
   {
    "duration": 3,
    "start_time": "2021-11-17T21:05:28.145Z"
   },
   {
    "duration": 116,
    "start_time": "2021-11-17T21:05:57.787Z"
   },
   {
    "duration": 3,
    "start_time": "2021-11-17T21:06:37.993Z"
   },
   {
    "duration": 3,
    "start_time": "2021-11-17T21:06:38.261Z"
   },
   {
    "duration": 3,
    "start_time": "2021-11-17T21:11:54.358Z"
   },
   {
    "duration": 3,
    "start_time": "2021-11-17T21:12:43.846Z"
   },
   {
    "duration": 4,
    "start_time": "2021-11-17T21:13:08.773Z"
   },
   {
    "duration": 3,
    "start_time": "2021-11-17T21:14:44.441Z"
   },
   {
    "duration": 3,
    "start_time": "2021-11-17T21:15:42.059Z"
   },
   {
    "duration": 4,
    "start_time": "2021-11-17T21:15:51.995Z"
   },
   {
    "duration": 3,
    "start_time": "2021-11-17T21:15:53.923Z"
   },
   {
    "duration": 3,
    "start_time": "2021-11-17T21:15:55.282Z"
   },
   {
    "duration": 3,
    "start_time": "2021-11-17T21:16:28.492Z"
   },
   {
    "duration": 3,
    "start_time": "2021-11-17T21:16:32.603Z"
   },
   {
    "duration": 3,
    "start_time": "2021-11-17T21:17:06.941Z"
   },
   {
    "duration": 98,
    "start_time": "2021-11-17T21:18:05.733Z"
   },
   {
    "duration": 4,
    "start_time": "2021-11-17T21:21:35.255Z"
   },
   {
    "duration": 3,
    "start_time": "2021-11-17T21:21:37.804Z"
   },
   {
    "duration": 4,
    "start_time": "2021-11-17T21:23:06.071Z"
   },
   {
    "duration": 3,
    "start_time": "2021-11-17T21:23:24.799Z"
   },
   {
    "duration": 3,
    "start_time": "2021-11-17T21:23:32.591Z"
   },
   {
    "duration": 98,
    "start_time": "2021-11-17T21:28:31.559Z"
   },
   {
    "duration": 3,
    "start_time": "2021-11-17T21:28:45.448Z"
   },
   {
    "duration": 3,
    "start_time": "2021-11-17T21:29:17.303Z"
   },
   {
    "duration": 3,
    "start_time": "2021-11-17T21:29:29.617Z"
   },
   {
    "duration": 3,
    "start_time": "2021-11-17T21:29:32.681Z"
   },
   {
    "duration": 3,
    "start_time": "2021-11-17T21:36:11.474Z"
   },
   {
    "duration": 3,
    "start_time": "2021-11-17T21:36:14.791Z"
   },
   {
    "duration": 3,
    "start_time": "2021-11-17T21:36:53.943Z"
   },
   {
    "duration": 3,
    "start_time": "2021-11-17T21:36:56.165Z"
   },
   {
    "duration": 4,
    "start_time": "2021-11-17T21:37:16.590Z"
   },
   {
    "duration": 3,
    "start_time": "2021-11-17T21:37:22.702Z"
   },
   {
    "duration": 4,
    "start_time": "2021-11-17T21:38:03.479Z"
   },
   {
    "duration": 3,
    "start_time": "2021-11-17T21:38:08.601Z"
   },
   {
    "duration": 3,
    "start_time": "2021-11-17T21:38:12.928Z"
   },
   {
    "duration": 3,
    "start_time": "2021-11-17T21:38:48.896Z"
   },
   {
    "duration": 2,
    "start_time": "2021-11-17T21:38:49.171Z"
   },
   {
    "duration": 4,
    "start_time": "2021-11-17T21:39:57.889Z"
   },
   {
    "duration": 3,
    "start_time": "2021-11-17T21:39:58.057Z"
   },
   {
    "duration": 3,
    "start_time": "2021-11-17T21:41:20.108Z"
   },
   {
    "duration": 3,
    "start_time": "2021-11-17T21:41:20.629Z"
   },
   {
    "duration": 3,
    "start_time": "2021-11-17T21:42:49.136Z"
   },
   {
    "duration": 3,
    "start_time": "2021-11-17T21:43:15.137Z"
   },
   {
    "duration": 4,
    "start_time": "2021-11-17T21:43:16.766Z"
   },
   {
    "duration": 4,
    "start_time": "2021-11-17T21:43:31.711Z"
   },
   {
    "duration": 3,
    "start_time": "2021-11-17T21:43:36.312Z"
   },
   {
    "duration": 4,
    "start_time": "2021-11-17T21:45:08.825Z"
   },
   {
    "duration": 4,
    "start_time": "2021-11-17T21:45:10.119Z"
   },
   {
    "duration": 4,
    "start_time": "2021-11-17T21:45:13.748Z"
   },
   {
    "duration": 3,
    "start_time": "2021-11-17T21:45:22.219Z"
   },
   {
    "duration": 3,
    "start_time": "2021-11-17T21:45:33.412Z"
   },
   {
    "duration": 2,
    "start_time": "2021-11-17T21:46:01.885Z"
   },
   {
    "duration": 3,
    "start_time": "2021-11-17T21:46:03.628Z"
   },
   {
    "duration": 107,
    "start_time": "2021-11-17T21:47:32.512Z"
   },
   {
    "duration": 103,
    "start_time": "2021-11-17T21:50:36.243Z"
   },
   {
    "duration": 3,
    "start_time": "2021-11-18T06:28:31.440Z"
   },
   {
    "duration": 3,
    "start_time": "2021-11-18T06:29:00.168Z"
   },
   {
    "duration": 3,
    "start_time": "2021-11-18T06:31:27.008Z"
   },
   {
    "duration": 2,
    "start_time": "2021-11-18T06:35:34.288Z"
   },
   {
    "duration": 2,
    "start_time": "2021-11-18T06:38:04.527Z"
   },
   {
    "duration": 3,
    "start_time": "2025-01-23T17:25:41.453Z"
   },
   {
    "duration": 5,
    "start_time": "2025-01-23T17:26:37.874Z"
   },
   {
    "duration": 159,
    "start_time": "2025-01-23T17:27:14.264Z"
   },
   {
    "duration": 606,
    "start_time": "2025-01-23T17:32:52.502Z"
   },
   {
    "duration": 212,
    "start_time": "2025-01-23T17:32:55.175Z"
   },
   {
    "duration": 615,
    "start_time": "2025-01-23T17:33:05.744Z"
   },
   {
    "duration": 159,
    "start_time": "2025-01-23T17:33:06.361Z"
   },
   {
    "duration": 2,
    "start_time": "2025-01-23T17:33:06.522Z"
   },
   {
    "duration": 2,
    "start_time": "2025-01-23T17:33:06.526Z"
   },
   {
    "duration": 3,
    "start_time": "2025-01-23T17:33:06.530Z"
   },
   {
    "duration": 3,
    "start_time": "2025-01-23T17:33:06.534Z"
   },
   {
    "duration": 3,
    "start_time": "2025-01-23T17:33:06.538Z"
   },
   {
    "duration": 3,
    "start_time": "2025-01-23T17:33:06.542Z"
   },
   {
    "duration": 2,
    "start_time": "2025-01-23T17:33:06.547Z"
   },
   {
    "duration": 2,
    "start_time": "2025-01-23T17:33:06.551Z"
   },
   {
    "duration": 3,
    "start_time": "2025-01-23T17:33:06.555Z"
   },
   {
    "duration": 3,
    "start_time": "2025-01-23T17:33:06.559Z"
   },
   {
    "duration": 3,
    "start_time": "2025-01-23T17:33:06.564Z"
   },
   {
    "duration": 2,
    "start_time": "2025-01-23T17:33:06.570Z"
   },
   {
    "duration": 51,
    "start_time": "2025-01-23T17:33:06.573Z"
   },
   {
    "duration": 3,
    "start_time": "2025-01-23T17:33:06.626Z"
   },
   {
    "duration": 3,
    "start_time": "2025-01-23T17:33:06.630Z"
   },
   {
    "duration": 4,
    "start_time": "2025-01-23T17:33:06.634Z"
   },
   {
    "duration": 3,
    "start_time": "2025-01-23T17:33:06.639Z"
   },
   {
    "duration": 3,
    "start_time": "2025-01-23T17:33:06.643Z"
   },
   {
    "duration": 3,
    "start_time": "2025-01-23T17:33:06.647Z"
   },
   {
    "duration": 3,
    "start_time": "2025-01-23T17:33:06.652Z"
   },
   {
    "duration": 3,
    "start_time": "2025-01-23T17:33:06.656Z"
   },
   {
    "duration": 2,
    "start_time": "2025-01-23T17:33:06.661Z"
   },
   {
    "duration": 3,
    "start_time": "2025-01-23T17:33:06.665Z"
   },
   {
    "duration": 2,
    "start_time": "2025-01-23T17:33:06.670Z"
   },
   {
    "duration": 2,
    "start_time": "2025-01-23T17:33:06.674Z"
   },
   {
    "duration": 47,
    "start_time": "2025-01-23T17:33:06.678Z"
   },
   {
    "duration": 37,
    "start_time": "2025-01-23T17:38:00.051Z"
   },
   {
    "duration": 499,
    "start_time": "2025-01-23T17:38:43.687Z"
   },
   {
    "duration": 26,
    "start_time": "2025-01-23T17:39:04.724Z"
   },
   {
    "duration": 8,
    "start_time": "2025-01-23T17:41:22.945Z"
   },
   {
    "duration": 621,
    "start_time": "2025-01-23T20:30:37.335Z"
   },
   {
    "duration": 168,
    "start_time": "2025-01-23T20:30:37.958Z"
   },
   {
    "duration": 33,
    "start_time": "2025-01-23T20:30:38.128Z"
   },
   {
    "duration": 7,
    "start_time": "2025-01-23T20:30:38.163Z"
   },
   {
    "duration": 8,
    "start_time": "2025-01-23T20:30:38.172Z"
   },
   {
    "duration": 4,
    "start_time": "2025-01-23T20:30:38.181Z"
   },
   {
    "duration": 1,
    "start_time": "2025-01-23T20:30:38.187Z"
   },
   {
    "duration": 4,
    "start_time": "2025-01-23T20:30:38.190Z"
   },
   {
    "duration": 2,
    "start_time": "2025-01-23T20:30:38.225Z"
   },
   {
    "duration": 2,
    "start_time": "2025-01-23T20:30:38.231Z"
   },
   {
    "duration": 2,
    "start_time": "2025-01-23T20:30:38.235Z"
   },
   {
    "duration": 2,
    "start_time": "2025-01-23T20:30:38.239Z"
   },
   {
    "duration": 3,
    "start_time": "2025-01-23T20:30:38.243Z"
   },
   {
    "duration": 3,
    "start_time": "2025-01-23T20:30:38.248Z"
   },
   {
    "duration": 4,
    "start_time": "2025-01-23T20:30:38.252Z"
   },
   {
    "duration": 3,
    "start_time": "2025-01-23T20:30:38.257Z"
   },
   {
    "duration": 4,
    "start_time": "2025-01-23T20:30:38.262Z"
   },
   {
    "duration": 3,
    "start_time": "2025-01-23T20:30:38.267Z"
   },
   {
    "duration": 3,
    "start_time": "2025-01-23T20:30:38.271Z"
   },
   {
    "duration": 2,
    "start_time": "2025-01-23T20:30:38.276Z"
   },
   {
    "duration": 3,
    "start_time": "2025-01-23T20:30:38.323Z"
   },
   {
    "duration": 2,
    "start_time": "2025-01-23T20:30:38.328Z"
   },
   {
    "duration": 2,
    "start_time": "2025-01-23T20:30:38.332Z"
   },
   {
    "duration": 2,
    "start_time": "2025-01-23T20:30:38.336Z"
   },
   {
    "duration": 2,
    "start_time": "2025-01-23T20:30:38.340Z"
   },
   {
    "duration": 3,
    "start_time": "2025-01-23T20:30:38.344Z"
   },
   {
    "duration": 3,
    "start_time": "2025-01-23T20:30:38.348Z"
   },
   {
    "duration": 1,
    "start_time": "2025-01-23T20:30:38.355Z"
   },
   {
    "duration": 3,
    "start_time": "2025-01-23T20:30:38.358Z"
   },
   {
    "duration": 24,
    "start_time": "2025-01-23T20:50:20.347Z"
   },
   {
    "duration": 9,
    "start_time": "2025-01-23T20:54:12.674Z"
   },
   {
    "duration": 9,
    "start_time": "2025-01-23T20:54:19.477Z"
   },
   {
    "duration": 9,
    "start_time": "2025-01-23T20:54:31.274Z"
   },
   {
    "duration": 10,
    "start_time": "2025-01-23T21:05:35.626Z"
   },
   {
    "duration": 93,
    "start_time": "2025-01-23T21:11:26.594Z"
   },
   {
    "duration": 626,
    "start_time": "2025-01-23T21:12:45.130Z"
   },
   {
    "duration": 152,
    "start_time": "2025-01-23T21:12:45.758Z"
   },
   {
    "duration": 32,
    "start_time": "2025-01-23T21:12:45.911Z"
   },
   {
    "duration": 6,
    "start_time": "2025-01-23T21:12:45.945Z"
   },
   {
    "duration": 8,
    "start_time": "2025-01-23T21:12:45.954Z"
   },
   {
    "duration": 24,
    "start_time": "2025-01-23T21:12:45.964Z"
   },
   {
    "duration": 35,
    "start_time": "2025-01-23T21:12:45.990Z"
   },
   {
    "duration": 4,
    "start_time": "2025-01-23T21:12:46.027Z"
   },
   {
    "duration": 10,
    "start_time": "2025-01-23T21:12:46.033Z"
   },
   {
    "duration": 108,
    "start_time": "2025-01-23T21:12:46.045Z"
   },
   {
    "duration": 2,
    "start_time": "2025-01-23T21:12:46.154Z"
   },
   {
    "duration": 3,
    "start_time": "2025-01-23T21:12:46.158Z"
   },
   {
    "duration": 3,
    "start_time": "2025-01-23T21:12:46.162Z"
   },
   {
    "duration": 2,
    "start_time": "2025-01-23T21:12:46.169Z"
   },
   {
    "duration": 3,
    "start_time": "2025-01-23T21:12:46.172Z"
   },
   {
    "duration": 3,
    "start_time": "2025-01-23T21:12:46.176Z"
   },
   {
    "duration": 3,
    "start_time": "2025-01-23T21:12:46.180Z"
   },
   {
    "duration": 3,
    "start_time": "2025-01-23T21:12:46.185Z"
   },
   {
    "duration": 2,
    "start_time": "2025-01-23T21:12:46.225Z"
   },
   {
    "duration": 2,
    "start_time": "2025-01-23T21:12:46.229Z"
   },
   {
    "duration": 3,
    "start_time": "2025-01-23T21:12:46.233Z"
   },
   {
    "duration": 2,
    "start_time": "2025-01-23T21:12:46.238Z"
   },
   {
    "duration": 2,
    "start_time": "2025-01-23T21:12:46.242Z"
   },
   {
    "duration": 3,
    "start_time": "2025-01-23T21:12:46.246Z"
   },
   {
    "duration": 3,
    "start_time": "2025-01-23T21:12:46.250Z"
   },
   {
    "duration": 10,
    "start_time": "2025-01-23T21:12:46.254Z"
   },
   {
    "duration": 2,
    "start_time": "2025-01-23T21:12:46.266Z"
   },
   {
    "duration": 3,
    "start_time": "2025-01-23T21:12:46.269Z"
   },
   {
    "duration": 3,
    "start_time": "2025-01-23T21:12:46.273Z"
   },
   {
    "duration": 2,
    "start_time": "2025-01-23T21:12:46.279Z"
   },
   {
    "duration": 43,
    "start_time": "2025-01-23T21:12:46.282Z"
   },
   {
    "duration": 571,
    "start_time": "2025-01-23T21:13:43.890Z"
   },
   {
    "duration": 154,
    "start_time": "2025-01-23T21:13:44.464Z"
   },
   {
    "duration": 33,
    "start_time": "2025-01-23T21:13:44.619Z"
   },
   {
    "duration": 7,
    "start_time": "2025-01-23T21:13:44.654Z"
   },
   {
    "duration": 8,
    "start_time": "2025-01-23T21:13:44.663Z"
   },
   {
    "duration": 23,
    "start_time": "2025-01-23T21:13:44.673Z"
   },
   {
    "duration": 9,
    "start_time": "2025-01-23T21:13:44.724Z"
   },
   {
    "duration": 11,
    "start_time": "2025-01-23T21:13:44.734Z"
   },
   {
    "duration": 9,
    "start_time": "2025-01-23T21:13:44.746Z"
   },
   {
    "duration": 111,
    "start_time": "2025-01-23T21:13:44.756Z"
   },
   {
    "duration": 2,
    "start_time": "2025-01-23T21:13:44.869Z"
   },
   {
    "duration": 3,
    "start_time": "2025-01-23T21:13:44.873Z"
   },
   {
    "duration": 3,
    "start_time": "2025-01-23T21:13:44.877Z"
   },
   {
    "duration": 2,
    "start_time": "2025-01-23T21:13:44.883Z"
   },
   {
    "duration": 3,
    "start_time": "2025-01-23T21:13:44.886Z"
   },
   {
    "duration": 2,
    "start_time": "2025-01-23T21:13:44.891Z"
   },
   {
    "duration": 30,
    "start_time": "2025-01-23T21:13:44.894Z"
   },
   {
    "duration": 2,
    "start_time": "2025-01-23T21:13:44.926Z"
   },
   {
    "duration": 2,
    "start_time": "2025-01-23T21:13:44.930Z"
   },
   {
    "duration": 3,
    "start_time": "2025-01-23T21:13:44.934Z"
   },
   {
    "duration": 3,
    "start_time": "2025-01-23T21:13:44.938Z"
   },
   {
    "duration": 3,
    "start_time": "2025-01-23T21:13:44.942Z"
   },
   {
    "duration": 2,
    "start_time": "2025-01-23T21:13:44.947Z"
   },
   {
    "duration": 3,
    "start_time": "2025-01-23T21:13:44.951Z"
   },
   {
    "duration": 3,
    "start_time": "2025-01-23T21:13:44.955Z"
   },
   {
    "duration": 3,
    "start_time": "2025-01-23T21:13:44.960Z"
   },
   {
    "duration": 3,
    "start_time": "2025-01-23T21:13:44.964Z"
   },
   {
    "duration": 2,
    "start_time": "2025-01-23T21:13:44.969Z"
   },
   {
    "duration": 2,
    "start_time": "2025-01-23T21:13:44.973Z"
   },
   {
    "duration": 3,
    "start_time": "2025-01-23T21:13:45.023Z"
   },
   {
    "duration": 2,
    "start_time": "2025-01-23T21:13:45.027Z"
   },
   {
    "duration": 10,
    "start_time": "2025-01-23T21:16:03.903Z"
   },
   {
    "duration": 5,
    "start_time": "2025-01-23T21:45:28.235Z"
   },
   {
    "duration": 457,
    "start_time": "2025-01-23T22:01:18.979Z"
   },
   {
    "duration": 610,
    "start_time": "2025-01-23T22:01:54.143Z"
   },
   {
    "duration": 154,
    "start_time": "2025-01-23T22:01:54.756Z"
   },
   {
    "duration": 32,
    "start_time": "2025-01-23T22:01:54.911Z"
   },
   {
    "duration": 7,
    "start_time": "2025-01-23T22:01:54.946Z"
   },
   {
    "duration": 9,
    "start_time": "2025-01-23T22:01:54.954Z"
   },
   {
    "duration": 24,
    "start_time": "2025-01-23T22:01:54.964Z"
   },
   {
    "duration": 34,
    "start_time": "2025-01-23T22:01:54.990Z"
   },
   {
    "duration": 10,
    "start_time": "2025-01-23T22:01:55.025Z"
   },
   {
    "duration": 9,
    "start_time": "2025-01-23T22:01:55.037Z"
   },
   {
    "duration": 124,
    "start_time": "2025-01-23T22:01:55.049Z"
   },
   {
    "duration": 9,
    "start_time": "2025-01-23T22:01:55.175Z"
   },
   {
    "duration": 19,
    "start_time": "2025-01-23T22:01:55.185Z"
   },
   {
    "duration": 81,
    "start_time": "2025-01-23T22:01:55.206Z"
   },
   {
    "duration": 4,
    "start_time": "2025-01-23T22:01:55.290Z"
   },
   {
    "duration": 4,
    "start_time": "2025-01-23T22:01:55.295Z"
   },
   {
    "duration": 2,
    "start_time": "2025-01-23T22:01:55.301Z"
   },
   {
    "duration": 19,
    "start_time": "2025-01-23T22:01:55.305Z"
   },
   {
    "duration": 2,
    "start_time": "2025-01-23T22:01:55.325Z"
   },
   {
    "duration": 2,
    "start_time": "2025-01-23T22:01:55.329Z"
   },
   {
    "duration": 2,
    "start_time": "2025-01-23T22:01:55.333Z"
   },
   {
    "duration": 3,
    "start_time": "2025-01-23T22:01:55.337Z"
   },
   {
    "duration": 2,
    "start_time": "2025-01-23T22:01:55.342Z"
   },
   {
    "duration": 2,
    "start_time": "2025-01-23T22:01:55.346Z"
   },
   {
    "duration": 3,
    "start_time": "2025-01-23T22:01:55.350Z"
   },
   {
    "duration": 3,
    "start_time": "2025-01-23T22:01:55.354Z"
   },
   {
    "duration": 2,
    "start_time": "2025-01-23T22:01:55.359Z"
   },
   {
    "duration": 2,
    "start_time": "2025-01-23T22:01:55.363Z"
   },
   {
    "duration": 2,
    "start_time": "2025-01-23T22:01:55.369Z"
   },
   {
    "duration": 2,
    "start_time": "2025-01-23T22:01:55.373Z"
   },
   {
    "duration": 2,
    "start_time": "2025-01-23T22:01:55.424Z"
   },
   {
    "duration": 2,
    "start_time": "2025-01-23T22:01:55.428Z"
   },
   {
    "duration": 2,
    "start_time": "2025-01-23T22:01:55.432Z"
   },
   {
    "duration": 3,
    "start_time": "2025-01-23T22:01:55.436Z"
   },
   {
    "duration": 50,
    "start_time": "2025-01-23T22:17:32.344Z"
   },
   {
    "duration": 8,
    "start_time": "2025-01-23T22:18:23.896Z"
   },
   {
    "duration": 600,
    "start_time": "2025-01-27T18:56:06.848Z"
   },
   {
    "duration": 216,
    "start_time": "2025-01-27T18:56:07.450Z"
   },
   {
    "duration": 30,
    "start_time": "2025-01-27T18:56:07.668Z"
   },
   {
    "duration": 8,
    "start_time": "2025-01-27T18:56:07.701Z"
   },
   {
    "duration": 8,
    "start_time": "2025-01-27T18:56:07.711Z"
   },
   {
    "duration": 22,
    "start_time": "2025-01-27T18:56:07.721Z"
   },
   {
    "duration": 8,
    "start_time": "2025-01-27T18:56:07.745Z"
   },
   {
    "duration": 10,
    "start_time": "2025-01-27T18:56:07.755Z"
   },
   {
    "duration": 10,
    "start_time": "2025-01-27T18:56:07.767Z"
   },
   {
    "duration": 99,
    "start_time": "2025-01-27T18:56:07.813Z"
   },
   {
    "duration": 9,
    "start_time": "2025-01-27T18:56:07.914Z"
   },
   {
    "duration": 19,
    "start_time": "2025-01-27T18:56:07.925Z"
   },
   {
    "duration": 83,
    "start_time": "2025-01-27T18:56:07.946Z"
   },
   {
    "duration": 52,
    "start_time": "2025-01-27T18:56:08.031Z"
   },
   {
    "duration": 7,
    "start_time": "2025-01-27T18:56:08.085Z"
   },
   {
    "duration": 10,
    "start_time": "2025-01-27T18:56:08.112Z"
   },
   {
    "duration": 20,
    "start_time": "2025-01-27T18:56:08.124Z"
   },
   {
    "duration": 2,
    "start_time": "2025-01-27T18:56:08.145Z"
   },
   {
    "duration": 3,
    "start_time": "2025-01-27T18:56:08.148Z"
   },
   {
    "duration": 3,
    "start_time": "2025-01-27T18:56:08.152Z"
   },
   {
    "duration": 3,
    "start_time": "2025-01-27T18:56:08.157Z"
   },
   {
    "duration": 4,
    "start_time": "2025-01-27T18:56:08.162Z"
   },
   {
    "duration": 4,
    "start_time": "2025-01-27T18:56:08.167Z"
   },
   {
    "duration": 2,
    "start_time": "2025-01-27T18:56:08.173Z"
   },
   {
    "duration": 2,
    "start_time": "2025-01-27T18:56:08.214Z"
   },
   {
    "duration": 3,
    "start_time": "2025-01-27T18:56:08.217Z"
   },
   {
    "duration": 3,
    "start_time": "2025-01-27T18:56:08.222Z"
   },
   {
    "duration": 2,
    "start_time": "2025-01-27T18:56:08.229Z"
   },
   {
    "duration": 2,
    "start_time": "2025-01-27T18:56:08.233Z"
   },
   {
    "duration": 3,
    "start_time": "2025-01-27T18:56:08.237Z"
   },
   {
    "duration": 3,
    "start_time": "2025-01-27T18:56:08.241Z"
   },
   {
    "duration": 3,
    "start_time": "2025-01-27T18:56:08.246Z"
   },
   {
    "duration": 2,
    "start_time": "2025-01-27T18:56:08.251Z"
   },
   {
    "duration": 3,
    "start_time": "2025-01-27T18:56:08.255Z"
   },
   {
    "duration": 3,
    "start_time": "2025-01-27T18:56:08.260Z"
   },
   {
    "duration": 554,
    "start_time": "2025-01-27T18:59:53.289Z"
   },
   {
    "duration": 154,
    "start_time": "2025-01-27T18:59:53.845Z"
   },
   {
    "duration": 31,
    "start_time": "2025-01-27T18:59:54.000Z"
   },
   {
    "duration": 7,
    "start_time": "2025-01-27T18:59:54.033Z"
   },
   {
    "duration": 8,
    "start_time": "2025-01-27T18:59:54.042Z"
   },
   {
    "duration": 23,
    "start_time": "2025-01-27T18:59:54.051Z"
   },
   {
    "duration": 36,
    "start_time": "2025-01-27T18:59:54.075Z"
   },
   {
    "duration": 13,
    "start_time": "2025-01-27T18:59:54.113Z"
   },
   {
    "duration": 12,
    "start_time": "2025-01-27T18:59:54.129Z"
   },
   {
    "duration": 109,
    "start_time": "2025-01-27T18:59:54.144Z"
   },
   {
    "duration": 9,
    "start_time": "2025-01-27T18:59:54.255Z"
   },
   {
    "duration": 19,
    "start_time": "2025-01-27T18:59:54.266Z"
   },
   {
    "duration": 81,
    "start_time": "2025-01-27T18:59:54.287Z"
   },
   {
    "duration": 65,
    "start_time": "2025-01-27T18:59:54.370Z"
   },
   {
    "duration": 7,
    "start_time": "2025-01-27T18:59:54.437Z"
   },
   {
    "duration": 11,
    "start_time": "2025-01-27T18:59:54.445Z"
   },
   {
    "duration": 20,
    "start_time": "2025-01-27T18:59:54.457Z"
   },
   {
    "duration": 96,
    "start_time": "2025-01-27T18:59:54.479Z"
   },
   {
    "duration": 8,
    "start_time": "2025-01-27T18:59:54.577Z"
   },
   {
    "duration": 2,
    "start_time": "2025-01-27T18:59:54.587Z"
   },
   {
    "duration": 4,
    "start_time": "2025-01-27T18:59:54.590Z"
   },
   {
    "duration": 3,
    "start_time": "2025-01-27T18:59:54.612Z"
   },
   {
    "duration": 3,
    "start_time": "2025-01-27T18:59:54.616Z"
   },
   {
    "duration": 4,
    "start_time": "2025-01-27T18:59:54.621Z"
   },
   {
    "duration": 3,
    "start_time": "2025-01-27T18:59:54.626Z"
   },
   {
    "duration": 3,
    "start_time": "2025-01-27T18:59:54.631Z"
   },
   {
    "duration": 3,
    "start_time": "2025-01-27T18:59:54.636Z"
   },
   {
    "duration": 3,
    "start_time": "2025-01-27T18:59:54.642Z"
   },
   {
    "duration": 3,
    "start_time": "2025-01-27T18:59:54.646Z"
   },
   {
    "duration": 4,
    "start_time": "2025-01-27T18:59:54.650Z"
   },
   {
    "duration": 4,
    "start_time": "2025-01-27T18:59:54.655Z"
   },
   {
    "duration": 3,
    "start_time": "2025-01-27T18:59:54.660Z"
   },
   {
    "duration": 3,
    "start_time": "2025-01-27T18:59:54.665Z"
   },
   {
    "duration": 44,
    "start_time": "2025-01-27T18:59:54.669Z"
   },
   {
    "duration": 11,
    "start_time": "2025-01-27T18:59:54.716Z"
   },
   {
    "duration": 615,
    "start_time": "2025-01-27T19:09:00.735Z"
   },
   {
    "duration": 153,
    "start_time": "2025-01-27T19:09:01.352Z"
   },
   {
    "duration": 31,
    "start_time": "2025-01-27T19:09:01.507Z"
   },
   {
    "duration": 6,
    "start_time": "2025-01-27T19:09:01.540Z"
   },
   {
    "duration": 8,
    "start_time": "2025-01-27T19:09:01.550Z"
   },
   {
    "duration": 25,
    "start_time": "2025-01-27T19:09:01.559Z"
   },
   {
    "duration": 11,
    "start_time": "2025-01-27T19:09:01.612Z"
   },
   {
    "duration": 10,
    "start_time": "2025-01-27T19:09:01.625Z"
   },
   {
    "duration": 10,
    "start_time": "2025-01-27T19:09:01.636Z"
   },
   {
    "duration": 106,
    "start_time": "2025-01-27T19:09:01.647Z"
   },
   {
    "duration": 10,
    "start_time": "2025-01-27T19:09:01.755Z"
   },
   {
    "duration": 19,
    "start_time": "2025-01-27T19:09:01.767Z"
   },
   {
    "duration": 82,
    "start_time": "2025-01-27T19:09:01.788Z"
   },
   {
    "duration": 61,
    "start_time": "2025-01-27T19:09:01.873Z"
   },
   {
    "duration": 8,
    "start_time": "2025-01-27T19:09:01.935Z"
   },
   {
    "duration": 10,
    "start_time": "2025-01-27T19:09:01.944Z"
   },
   {
    "duration": 19,
    "start_time": "2025-01-27T19:09:01.956Z"
   },
   {
    "duration": 91,
    "start_time": "2025-01-27T19:09:01.977Z"
   },
   {
    "duration": 8,
    "start_time": "2025-01-27T19:09:02.070Z"
   },
   {
    "duration": 13,
    "start_time": "2025-01-27T19:09:02.080Z"
   },
   {
    "duration": 47,
    "start_time": "2025-01-27T19:09:02.095Z"
   },
   {
    "duration": 3,
    "start_time": "2025-01-27T19:09:02.144Z"
   },
   {
    "duration": 2,
    "start_time": "2025-01-27T19:09:02.149Z"
   },
   {
    "duration": 2,
    "start_time": "2025-01-27T19:09:02.153Z"
   },
   {
    "duration": 3,
    "start_time": "2025-01-27T19:09:02.157Z"
   },
   {
    "duration": 3,
    "start_time": "2025-01-27T19:09:02.161Z"
   },
   {
    "duration": 3,
    "start_time": "2025-01-27T19:09:02.166Z"
   },
   {
    "duration": 3,
    "start_time": "2025-01-27T19:09:02.171Z"
   },
   {
    "duration": 3,
    "start_time": "2025-01-27T19:09:02.175Z"
   },
   {
    "duration": 3,
    "start_time": "2025-01-27T19:09:02.211Z"
   },
   {
    "duration": 3,
    "start_time": "2025-01-27T19:09:02.215Z"
   },
   {
    "duration": 4,
    "start_time": "2025-01-27T19:09:02.219Z"
   },
   {
    "duration": 2,
    "start_time": "2025-01-27T19:09:02.225Z"
   },
   {
    "duration": 3,
    "start_time": "2025-01-27T19:09:02.229Z"
   },
   {
    "duration": 2,
    "start_time": "2025-01-27T19:09:02.235Z"
   },
   {
    "duration": 3,
    "start_time": "2025-01-27T19:09:02.239Z"
   },
   {
    "duration": 3,
    "start_time": "2025-01-27T19:09:02.243Z"
   },
   {
    "duration": 260,
    "start_time": "2025-01-27T19:09:43.509Z"
   },
   {
    "duration": 30,
    "start_time": "2025-01-27T19:09:51.156Z"
   },
   {
    "duration": 5,
    "start_time": "2025-01-27T19:12:02.589Z"
   },
   {
    "duration": 604,
    "start_time": "2025-01-27T19:18:26.879Z"
   },
   {
    "duration": 157,
    "start_time": "2025-01-27T19:18:27.485Z"
   },
   {
    "duration": 30,
    "start_time": "2025-01-27T19:18:27.644Z"
   },
   {
    "duration": 7,
    "start_time": "2025-01-27T19:18:27.676Z"
   },
   {
    "duration": 8,
    "start_time": "2025-01-27T19:18:27.684Z"
   },
   {
    "duration": 40,
    "start_time": "2025-01-27T19:18:27.693Z"
   },
   {
    "duration": 9,
    "start_time": "2025-01-27T19:18:27.734Z"
   },
   {
    "duration": 11,
    "start_time": "2025-01-27T19:18:27.744Z"
   },
   {
    "duration": 8,
    "start_time": "2025-01-27T19:18:27.757Z"
   },
   {
    "duration": 114,
    "start_time": "2025-01-27T19:18:27.768Z"
   },
   {
    "duration": 9,
    "start_time": "2025-01-27T19:18:27.883Z"
   },
   {
    "duration": 35,
    "start_time": "2025-01-27T19:18:27.894Z"
   },
   {
    "duration": 92,
    "start_time": "2025-01-27T19:18:27.931Z"
   },
   {
    "duration": 72,
    "start_time": "2025-01-27T19:18:28.025Z"
   },
   {
    "duration": 11,
    "start_time": "2025-01-27T19:18:28.100Z"
   },
   {
    "duration": 11,
    "start_time": "2025-01-27T19:18:28.113Z"
   },
   {
    "duration": 21,
    "start_time": "2025-01-27T19:18:28.126Z"
   },
   {
    "duration": 92,
    "start_time": "2025-01-27T19:18:28.148Z"
   },
   {
    "duration": 10,
    "start_time": "2025-01-27T19:18:28.242Z"
   },
   {
    "duration": 18,
    "start_time": "2025-01-27T19:18:28.254Z"
   },
   {
    "duration": 66,
    "start_time": "2025-01-27T19:18:28.274Z"
   },
   {
    "duration": 6,
    "start_time": "2025-01-27T19:18:28.342Z"
   },
   {
    "duration": 23,
    "start_time": "2025-01-27T19:18:28.350Z"
   },
   {
    "duration": 2,
    "start_time": "2025-01-27T19:18:28.375Z"
   },
   {
    "duration": 2,
    "start_time": "2025-01-27T19:18:28.379Z"
   },
   {
    "duration": 29,
    "start_time": "2025-01-27T19:18:28.383Z"
   },
   {
    "duration": 3,
    "start_time": "2025-01-27T19:18:28.414Z"
   },
   {
    "duration": 2,
    "start_time": "2025-01-27T19:18:28.422Z"
   },
   {
    "duration": 2,
    "start_time": "2025-01-27T19:18:28.426Z"
   },
   {
    "duration": 4,
    "start_time": "2025-01-27T19:18:28.431Z"
   },
   {
    "duration": 2,
    "start_time": "2025-01-27T19:18:28.438Z"
   },
   {
    "duration": 4,
    "start_time": "2025-01-27T19:18:28.442Z"
   },
   {
    "duration": 2,
    "start_time": "2025-01-27T19:18:28.448Z"
   },
   {
    "duration": 4,
    "start_time": "2025-01-27T19:18:28.452Z"
   },
   {
    "duration": 4,
    "start_time": "2025-01-27T19:18:28.459Z"
   },
   {
    "duration": 3,
    "start_time": "2025-01-27T19:18:28.465Z"
   },
   {
    "duration": 3,
    "start_time": "2025-01-27T19:18:28.470Z"
   },
   {
    "duration": 13,
    "start_time": "2025-01-27T19:20:49.612Z"
   },
   {
    "duration": 30,
    "start_time": "2025-01-27T19:28:12.933Z"
   },
   {
    "duration": 585,
    "start_time": "2025-01-27T19:29:35.156Z"
   },
   {
    "duration": 154,
    "start_time": "2025-01-27T19:29:35.743Z"
   },
   {
    "duration": 32,
    "start_time": "2025-01-27T19:29:35.898Z"
   },
   {
    "duration": 7,
    "start_time": "2025-01-27T19:29:35.932Z"
   },
   {
    "duration": 7,
    "start_time": "2025-01-27T19:29:35.941Z"
   },
   {
    "duration": 23,
    "start_time": "2025-01-27T19:29:35.950Z"
   },
   {
    "duration": 36,
    "start_time": "2025-01-27T19:29:35.975Z"
   },
   {
    "duration": 10,
    "start_time": "2025-01-27T19:29:36.014Z"
   },
   {
    "duration": 9,
    "start_time": "2025-01-27T19:29:36.026Z"
   },
   {
    "duration": 103,
    "start_time": "2025-01-27T19:29:36.039Z"
   },
   {
    "duration": 9,
    "start_time": "2025-01-27T19:29:36.144Z"
   },
   {
    "duration": 19,
    "start_time": "2025-01-27T19:29:36.154Z"
   },
   {
    "duration": 81,
    "start_time": "2025-01-27T19:29:36.174Z"
   },
   {
    "duration": 61,
    "start_time": "2025-01-27T19:29:36.257Z"
   },
   {
    "duration": 9,
    "start_time": "2025-01-27T19:29:36.320Z"
   },
   {
    "duration": 11,
    "start_time": "2025-01-27T19:29:36.331Z"
   },
   {
    "duration": 21,
    "start_time": "2025-01-27T19:29:36.343Z"
   },
   {
    "duration": 99,
    "start_time": "2025-01-27T19:29:36.366Z"
   },
   {
    "duration": 8,
    "start_time": "2025-01-27T19:29:36.467Z"
   },
   {
    "duration": 12,
    "start_time": "2025-01-27T19:29:36.477Z"
   },
   {
    "duration": 50,
    "start_time": "2025-01-27T19:29:36.491Z"
   },
   {
    "duration": 5,
    "start_time": "2025-01-27T19:29:36.543Z"
   },
   {
    "duration": 17,
    "start_time": "2025-01-27T19:29:36.550Z"
   },
   {
    "duration": 47,
    "start_time": "2025-01-27T19:29:36.569Z"
   },
   {
    "duration": 37,
    "start_time": "2025-01-27T19:29:36.618Z"
   },
   {
    "duration": 2,
    "start_time": "2025-01-27T19:29:36.657Z"
   },
   {
    "duration": 2,
    "start_time": "2025-01-27T19:29:36.661Z"
   },
   {
    "duration": 2,
    "start_time": "2025-01-27T19:29:36.668Z"
   },
   {
    "duration": 2,
    "start_time": "2025-01-27T19:29:36.672Z"
   },
   {
    "duration": 2,
    "start_time": "2025-01-27T19:29:36.677Z"
   },
   {
    "duration": 2,
    "start_time": "2025-01-27T19:29:36.681Z"
   },
   {
    "duration": 2,
    "start_time": "2025-01-27T19:29:36.684Z"
   },
   {
    "duration": 2,
    "start_time": "2025-01-27T19:29:36.688Z"
   },
   {
    "duration": 2,
    "start_time": "2025-01-27T19:29:36.712Z"
   },
   {
    "duration": 2,
    "start_time": "2025-01-27T19:29:36.716Z"
   },
   {
    "duration": 2,
    "start_time": "2025-01-27T19:29:36.720Z"
   },
   {
    "duration": 2,
    "start_time": "2025-01-27T19:29:36.725Z"
   },
   {
    "duration": 27,
    "start_time": "2025-01-27T19:30:55.258Z"
   },
   {
    "duration": 20,
    "start_time": "2025-01-27T19:37:01.585Z"
   },
   {
    "duration": 18,
    "start_time": "2025-01-27T19:39:06.531Z"
   },
   {
    "duration": 21,
    "start_time": "2025-01-27T19:47:07.040Z"
   },
   {
    "duration": 243,
    "start_time": "2025-01-27T20:09:19.229Z"
   },
   {
    "duration": 562,
    "start_time": "2025-01-27T20:09:33.083Z"
   },
   {
    "duration": 170,
    "start_time": "2025-01-27T20:09:33.647Z"
   },
   {
    "duration": 31,
    "start_time": "2025-01-27T20:09:33.819Z"
   },
   {
    "duration": 8,
    "start_time": "2025-01-27T20:09:33.853Z"
   },
   {
    "duration": 8,
    "start_time": "2025-01-27T20:09:33.863Z"
   },
   {
    "duration": 40,
    "start_time": "2025-01-27T20:09:33.873Z"
   },
   {
    "duration": 8,
    "start_time": "2025-01-27T20:09:33.915Z"
   },
   {
    "duration": 10,
    "start_time": "2025-01-27T20:09:33.925Z"
   },
   {
    "duration": 10,
    "start_time": "2025-01-27T20:09:33.936Z"
   },
   {
    "duration": 115,
    "start_time": "2025-01-27T20:09:33.949Z"
   },
   {
    "duration": 9,
    "start_time": "2025-01-27T20:09:34.066Z"
   },
   {
    "duration": 36,
    "start_time": "2025-01-27T20:09:34.077Z"
   },
   {
    "duration": 66,
    "start_time": "2025-01-27T20:09:34.114Z"
   },
   {
    "duration": 66,
    "start_time": "2025-01-27T20:09:34.182Z"
   },
   {
    "duration": 7,
    "start_time": "2025-01-27T20:09:34.250Z"
   },
   {
    "duration": 10,
    "start_time": "2025-01-27T20:09:34.259Z"
   },
   {
    "duration": 20,
    "start_time": "2025-01-27T20:09:34.270Z"
   },
   {
    "duration": 88,
    "start_time": "2025-01-27T20:09:34.292Z"
   },
   {
    "duration": 10,
    "start_time": "2025-01-27T20:09:34.382Z"
   },
   {
    "duration": 27,
    "start_time": "2025-01-27T20:09:34.394Z"
   },
   {
    "duration": 34,
    "start_time": "2025-01-27T20:09:34.422Z"
   },
   {
    "duration": 5,
    "start_time": "2025-01-27T20:09:34.457Z"
   },
   {
    "duration": 20,
    "start_time": "2025-01-27T20:09:34.464Z"
   },
   {
    "duration": 80,
    "start_time": "2025-01-27T20:09:34.486Z"
   },
   {
    "duration": 31,
    "start_time": "2025-01-27T20:09:34.567Z"
   },
   {
    "duration": 34,
    "start_time": "2025-01-27T20:09:34.599Z"
   },
   {
    "duration": 20,
    "start_time": "2025-01-27T20:09:34.634Z"
   },
   {
    "duration": 17,
    "start_time": "2025-01-27T20:09:34.658Z"
   },
   {
    "duration": 20,
    "start_time": "2025-01-27T20:09:34.676Z"
   },
   {
    "duration": 295,
    "start_time": "2025-01-27T20:09:34.698Z"
   },
   {
    "duration": 0,
    "start_time": "2025-01-27T20:09:34.995Z"
   },
   {
    "duration": 0,
    "start_time": "2025-01-27T20:09:34.997Z"
   },
   {
    "duration": 0,
    "start_time": "2025-01-27T20:09:34.998Z"
   },
   {
    "duration": 0,
    "start_time": "2025-01-27T20:09:35.012Z"
   },
   {
    "duration": 0,
    "start_time": "2025-01-27T20:09:35.013Z"
   },
   {
    "duration": 0,
    "start_time": "2025-01-27T20:09:35.015Z"
   },
   {
    "duration": 0,
    "start_time": "2025-01-27T20:09:35.016Z"
   },
   {
    "duration": 2459,
    "start_time": "2025-01-27T20:11:09.771Z"
   },
   {
    "duration": 148,
    "start_time": "2025-01-27T20:11:12.232Z"
   },
   {
    "duration": 37,
    "start_time": "2025-01-27T20:11:12.382Z"
   },
   {
    "duration": 7,
    "start_time": "2025-01-27T20:11:12.422Z"
   },
   {
    "duration": 8,
    "start_time": "2025-01-27T20:11:12.431Z"
   },
   {
    "duration": 24,
    "start_time": "2025-01-27T20:11:12.441Z"
   },
   {
    "duration": 8,
    "start_time": "2025-01-27T20:11:12.466Z"
   },
   {
    "duration": 41,
    "start_time": "2025-01-27T20:11:12.476Z"
   },
   {
    "duration": 10,
    "start_time": "2025-01-27T20:11:12.518Z"
   },
   {
    "duration": 104,
    "start_time": "2025-01-27T20:11:12.532Z"
   },
   {
    "duration": 9,
    "start_time": "2025-01-27T20:11:12.638Z"
   },
   {
    "duration": 20,
    "start_time": "2025-01-27T20:11:12.648Z"
   },
   {
    "duration": 84,
    "start_time": "2025-01-27T20:11:12.669Z"
   },
   {
    "duration": 60,
    "start_time": "2025-01-27T20:11:12.754Z"
   },
   {
    "duration": 7,
    "start_time": "2025-01-27T20:11:12.816Z"
   },
   {
    "duration": 10,
    "start_time": "2025-01-27T20:11:12.824Z"
   },
   {
    "duration": 20,
    "start_time": "2025-01-27T20:11:12.836Z"
   },
   {
    "duration": 94,
    "start_time": "2025-01-27T20:11:12.857Z"
   },
   {
    "duration": 9,
    "start_time": "2025-01-27T20:11:12.954Z"
   },
   {
    "duration": 14,
    "start_time": "2025-01-27T20:11:12.964Z"
   },
   {
    "duration": 49,
    "start_time": "2025-01-27T20:11:12.979Z"
   },
   {
    "duration": 5,
    "start_time": "2025-01-27T20:11:13.030Z"
   },
   {
    "duration": 17,
    "start_time": "2025-01-27T20:11:13.037Z"
   },
   {
    "duration": 55,
    "start_time": "2025-01-27T20:11:13.055Z"
   },
   {
    "duration": 31,
    "start_time": "2025-01-27T20:11:13.111Z"
   },
   {
    "duration": 35,
    "start_time": "2025-01-27T20:11:13.144Z"
   },
   {
    "duration": 19,
    "start_time": "2025-01-27T20:11:13.181Z"
   },
   {
    "duration": 17,
    "start_time": "2025-01-27T20:11:13.204Z"
   },
   {
    "duration": 16,
    "start_time": "2025-01-27T20:11:13.222Z"
   },
   {
    "duration": 327,
    "start_time": "2025-01-27T20:11:13.240Z"
   },
   {
    "duration": 3,
    "start_time": "2025-01-27T20:11:13.568Z"
   },
   {
    "duration": 4,
    "start_time": "2025-01-27T20:11:13.572Z"
   },
   {
    "duration": 3,
    "start_time": "2025-01-27T20:11:13.577Z"
   },
   {
    "duration": 3,
    "start_time": "2025-01-27T20:11:13.582Z"
   },
   {
    "duration": 3,
    "start_time": "2025-01-27T20:11:13.586Z"
   },
   {
    "duration": 21,
    "start_time": "2025-01-27T20:11:13.591Z"
   },
   {
    "duration": 4,
    "start_time": "2025-01-27T20:11:13.613Z"
   },
   {
    "duration": 287,
    "start_time": "2025-01-27T20:17:04.937Z"
   },
   {
    "duration": 2,
    "start_time": "2025-01-27T20:20:04.434Z"
   },
   {
    "duration": 298,
    "start_time": "2025-01-27T20:20:07.932Z"
   },
   {
    "duration": 4,
    "start_time": "2025-01-27T20:21:18.112Z"
   },
   {
    "duration": 165,
    "start_time": "2025-01-27T20:24:17.293Z"
   },
   {
    "duration": 10,
    "start_time": "2025-01-27T20:27:08.241Z"
   },
   {
    "duration": 198,
    "start_time": "2025-01-27T20:28:52.166Z"
   },
   {
    "duration": 316,
    "start_time": "2025-01-27T20:36:08.797Z"
   },
   {
    "duration": 324,
    "start_time": "2025-01-27T20:38:00.403Z"
   },
   {
    "duration": 10,
    "start_time": "2025-01-27T20:42:16.602Z"
   },
   {
    "duration": 244,
    "start_time": "2025-01-27T20:44:06.895Z"
   },
   {
    "duration": 380,
    "start_time": "2025-01-27T20:50:35.454Z"
   },
   {
    "duration": 345,
    "start_time": "2025-01-27T20:52:55.574Z"
   },
   {
    "duration": 8,
    "start_time": "2025-01-27T20:54:44.543Z"
   },
   {
    "duration": 203,
    "start_time": "2025-01-27T20:56:06.162Z"
   },
   {
    "duration": 765,
    "start_time": "2025-01-27T21:04:08.848Z"
   },
   {
    "duration": 154,
    "start_time": "2025-01-27T21:04:09.615Z"
   },
   {
    "duration": 28,
    "start_time": "2025-01-27T21:04:09.771Z"
   },
   {
    "duration": 15,
    "start_time": "2025-01-27T21:04:09.802Z"
   },
   {
    "duration": 8,
    "start_time": "2025-01-27T21:04:09.818Z"
   },
   {
    "duration": 23,
    "start_time": "2025-01-27T21:04:09.828Z"
   },
   {
    "duration": 9,
    "start_time": "2025-01-27T21:04:09.853Z"
   },
   {
    "duration": 12,
    "start_time": "2025-01-27T21:04:09.863Z"
   },
   {
    "duration": 44,
    "start_time": "2025-01-27T21:04:09.876Z"
   },
   {
    "duration": 105,
    "start_time": "2025-01-27T21:04:09.923Z"
   },
   {
    "duration": 8,
    "start_time": "2025-01-27T21:04:10.030Z"
   },
   {
    "duration": 19,
    "start_time": "2025-01-27T21:04:10.040Z"
   },
   {
    "duration": 80,
    "start_time": "2025-01-27T21:04:10.061Z"
   },
   {
    "duration": 90,
    "start_time": "2025-01-27T21:04:10.143Z"
   },
   {
    "duration": 7,
    "start_time": "2025-01-27T21:04:10.235Z"
   },
   {
    "duration": 10,
    "start_time": "2025-01-27T21:04:10.244Z"
   },
   {
    "duration": 19,
    "start_time": "2025-01-27T21:04:10.255Z"
   },
   {
    "duration": 89,
    "start_time": "2025-01-27T21:04:10.276Z"
   },
   {
    "duration": 8,
    "start_time": "2025-01-27T21:04:10.367Z"
   },
   {
    "duration": 13,
    "start_time": "2025-01-27T21:04:10.377Z"
   },
   {
    "duration": 46,
    "start_time": "2025-01-27T21:04:10.391Z"
   },
   {
    "duration": 5,
    "start_time": "2025-01-27T21:04:10.439Z"
   },
   {
    "duration": 17,
    "start_time": "2025-01-27T21:04:10.445Z"
   },
   {
    "duration": 60,
    "start_time": "2025-01-27T21:04:10.464Z"
   },
   {
    "duration": 36,
    "start_time": "2025-01-27T21:04:10.526Z"
   },
   {
    "duration": 38,
    "start_time": "2025-01-27T21:04:10.564Z"
   },
   {
    "duration": 20,
    "start_time": "2025-01-27T21:04:10.603Z"
   },
   {
    "duration": 16,
    "start_time": "2025-01-27T21:04:10.626Z"
   },
   {
    "duration": 16,
    "start_time": "2025-01-27T21:04:10.644Z"
   },
   {
    "duration": 335,
    "start_time": "2025-01-27T21:04:10.662Z"
   },
   {
    "duration": 314,
    "start_time": "2025-01-27T21:04:11.000Z"
   },
   {
    "duration": 10,
    "start_time": "2025-01-27T21:04:11.316Z"
   },
   {
    "duration": 228,
    "start_time": "2025-01-27T21:04:11.327Z"
   },
   {
    "duration": 348,
    "start_time": "2025-01-27T21:04:11.557Z"
   },
   {
    "duration": 376,
    "start_time": "2025-01-27T21:04:11.911Z"
   },
   {
    "duration": 9,
    "start_time": "2025-01-27T21:04:12.289Z"
   },
   {
    "duration": 242,
    "start_time": "2025-01-27T21:04:12.311Z"
   },
   {
    "duration": 320,
    "start_time": "2025-01-27T21:04:12.554Z"
   },
   {
    "duration": 344,
    "start_time": "2025-01-27T21:04:12.876Z"
   },
   {
    "duration": 7,
    "start_time": "2025-01-27T21:04:13.222Z"
   },
   {
    "duration": 226,
    "start_time": "2025-01-27T21:04:13.231Z"
   },
   {
    "duration": 342,
    "start_time": "2025-01-27T21:04:13.459Z"
   },
   {
    "duration": 316,
    "start_time": "2025-01-27T21:04:13.803Z"
   },
   {
    "duration": 10,
    "start_time": "2025-01-27T21:04:14.120Z"
   },
   {
    "duration": 230,
    "start_time": "2025-01-27T21:04:14.131Z"
   },
   {
    "duration": 3,
    "start_time": "2025-01-27T21:04:14.362Z"
   },
   {
    "duration": 4,
    "start_time": "2025-01-27T21:04:14.366Z"
   },
   {
    "duration": 744,
    "start_time": "2025-01-27T21:20:31.763Z"
   },
   {
    "duration": 164,
    "start_time": "2025-01-27T21:20:32.512Z"
   },
   {
    "duration": 34,
    "start_time": "2025-01-27T21:20:32.678Z"
   },
   {
    "duration": 7,
    "start_time": "2025-01-27T21:20:32.714Z"
   },
   {
    "duration": 7,
    "start_time": "2025-01-27T21:20:32.724Z"
   },
   {
    "duration": 24,
    "start_time": "2025-01-27T21:20:32.733Z"
   },
   {
    "duration": 8,
    "start_time": "2025-01-27T21:20:32.759Z"
   },
   {
    "duration": 44,
    "start_time": "2025-01-27T21:20:32.768Z"
   },
   {
    "duration": 9,
    "start_time": "2025-01-27T21:20:32.813Z"
   },
   {
    "duration": 101,
    "start_time": "2025-01-27T21:20:32.826Z"
   },
   {
    "duration": 10,
    "start_time": "2025-01-27T21:20:32.929Z"
   },
   {
    "duration": 20,
    "start_time": "2025-01-27T21:20:32.940Z"
   },
   {
    "duration": 87,
    "start_time": "2025-01-27T21:20:32.962Z"
   },
   {
    "duration": 50,
    "start_time": "2025-01-27T21:20:33.051Z"
   },
   {
    "duration": 7,
    "start_time": "2025-01-27T21:20:33.112Z"
   },
   {
    "duration": 10,
    "start_time": "2025-01-27T21:20:33.122Z"
   },
   {
    "duration": 20,
    "start_time": "2025-01-27T21:20:33.133Z"
   },
   {
    "duration": 92,
    "start_time": "2025-01-27T21:20:33.154Z"
   },
   {
    "duration": 9,
    "start_time": "2025-01-27T21:20:33.248Z"
   },
   {
    "duration": 13,
    "start_time": "2025-01-27T21:20:33.259Z"
   },
   {
    "duration": 59,
    "start_time": "2025-01-27T21:20:33.273Z"
   },
   {
    "duration": 7,
    "start_time": "2025-01-27T21:20:33.335Z"
   },
   {
    "duration": 27,
    "start_time": "2025-01-27T21:20:33.344Z"
   },
   {
    "duration": 60,
    "start_time": "2025-01-27T21:20:33.373Z"
   },
   {
    "duration": 31,
    "start_time": "2025-01-27T21:20:33.435Z"
   },
   {
    "duration": 39,
    "start_time": "2025-01-27T21:20:33.468Z"
   },
   {
    "duration": 19,
    "start_time": "2025-01-27T21:20:33.508Z"
   },
   {
    "duration": 19,
    "start_time": "2025-01-27T21:20:33.532Z"
   },
   {
    "duration": 16,
    "start_time": "2025-01-27T21:20:33.553Z"
   },
   {
    "duration": 331,
    "start_time": "2025-01-27T21:20:33.571Z"
   },
   {
    "duration": 314,
    "start_time": "2025-01-27T21:20:33.911Z"
   },
   {
    "duration": 10,
    "start_time": "2025-01-27T21:20:34.227Z"
   },
   {
    "duration": 222,
    "start_time": "2025-01-27T21:20:34.239Z"
   },
   {
    "duration": 325,
    "start_time": "2025-01-27T21:20:34.463Z"
   },
   {
    "duration": 355,
    "start_time": "2025-01-27T21:20:34.789Z"
   },
   {
    "duration": 9,
    "start_time": "2025-01-27T21:20:35.147Z"
   },
   {
    "duration": 212,
    "start_time": "2025-01-27T21:20:35.158Z"
   },
   {
    "duration": 345,
    "start_time": "2025-01-27T21:20:35.372Z"
   },
   {
    "duration": 306,
    "start_time": "2025-01-27T21:20:35.719Z"
   },
   {
    "duration": 7,
    "start_time": "2025-01-27T21:20:36.027Z"
   },
   {
    "duration": 226,
    "start_time": "2025-01-27T21:20:36.036Z"
   },
   {
    "duration": 356,
    "start_time": "2025-01-27T21:20:36.263Z"
   },
   {
    "duration": 305,
    "start_time": "2025-01-27T21:20:36.621Z"
   },
   {
    "duration": 9,
    "start_time": "2025-01-27T21:20:36.928Z"
   },
   {
    "duration": 216,
    "start_time": "2025-01-27T21:20:36.939Z"
   },
   {
    "duration": 7,
    "start_time": "2025-01-27T21:20:37.156Z"
   },
   {
    "duration": 1,
    "start_time": "2025-01-27T21:20:37.165Z"
   },
   {
    "duration": 768,
    "start_time": "2025-01-27T21:25:10.040Z"
   },
   {
    "duration": 152,
    "start_time": "2025-01-27T21:25:10.812Z"
   },
   {
    "duration": 30,
    "start_time": "2025-01-27T21:25:10.965Z"
   },
   {
    "duration": 16,
    "start_time": "2025-01-27T21:25:10.996Z"
   },
   {
    "duration": 8,
    "start_time": "2025-01-27T21:25:11.014Z"
   },
   {
    "duration": 24,
    "start_time": "2025-01-27T21:25:11.023Z"
   },
   {
    "duration": 8,
    "start_time": "2025-01-27T21:25:11.049Z"
   },
   {
    "duration": 10,
    "start_time": "2025-01-27T21:25:11.059Z"
   },
   {
    "duration": 43,
    "start_time": "2025-01-27T21:25:11.070Z"
   },
   {
    "duration": 98,
    "start_time": "2025-01-27T21:25:11.114Z"
   },
   {
    "duration": 9,
    "start_time": "2025-01-27T21:25:11.214Z"
   },
   {
    "duration": 20,
    "start_time": "2025-01-27T21:25:11.224Z"
   },
   {
    "duration": 85,
    "start_time": "2025-01-27T21:25:11.246Z"
   },
   {
    "duration": 48,
    "start_time": "2025-01-27T21:25:11.334Z"
   },
   {
    "duration": 7,
    "start_time": "2025-01-27T21:25:11.384Z"
   },
   {
    "duration": 27,
    "start_time": "2025-01-27T21:25:11.393Z"
   },
   {
    "duration": 20,
    "start_time": "2025-01-27T21:25:11.422Z"
   },
   {
    "duration": 81,
    "start_time": "2025-01-27T21:25:11.444Z"
   },
   {
    "duration": 8,
    "start_time": "2025-01-27T21:25:11.527Z"
   },
   {
    "duration": 13,
    "start_time": "2025-01-27T21:25:11.536Z"
   },
   {
    "duration": 33,
    "start_time": "2025-01-27T21:25:11.550Z"
   },
   {
    "duration": 27,
    "start_time": "2025-01-27T21:25:11.585Z"
   },
   {
    "duration": 16,
    "start_time": "2025-01-27T21:25:11.613Z"
   },
   {
    "duration": 63,
    "start_time": "2025-01-27T21:25:11.631Z"
   },
   {
    "duration": 38,
    "start_time": "2025-01-27T21:25:11.696Z"
   },
   {
    "duration": 36,
    "start_time": "2025-01-27T21:25:11.736Z"
   },
   {
    "duration": 19,
    "start_time": "2025-01-27T21:25:11.774Z"
   },
   {
    "duration": 16,
    "start_time": "2025-01-27T21:25:11.795Z"
   },
   {
    "duration": 16,
    "start_time": "2025-01-27T21:25:11.813Z"
   },
   {
    "duration": 311,
    "start_time": "2025-01-27T21:25:11.830Z"
   },
   {
    "duration": 292,
    "start_time": "2025-01-27T21:25:12.142Z"
   },
   {
    "duration": 9,
    "start_time": "2025-01-27T21:25:12.436Z"
   },
   {
    "duration": 220,
    "start_time": "2025-01-27T21:25:12.447Z"
   },
   {
    "duration": 333,
    "start_time": "2025-01-27T21:25:12.669Z"
   },
   {
    "duration": 365,
    "start_time": "2025-01-27T21:25:13.004Z"
   },
   {
    "duration": 9,
    "start_time": "2025-01-27T21:25:13.371Z"
   },
   {
    "duration": 251,
    "start_time": "2025-01-27T21:25:13.381Z"
   },
   {
    "duration": 312,
    "start_time": "2025-01-27T21:25:13.634Z"
   },
   {
    "duration": 312,
    "start_time": "2025-01-27T21:25:13.947Z"
   },
   {
    "duration": 9,
    "start_time": "2025-01-27T21:25:14.260Z"
   },
   {
    "duration": 242,
    "start_time": "2025-01-27T21:25:14.273Z"
   },
   {
    "duration": 318,
    "start_time": "2025-01-27T21:25:14.517Z"
   },
   {
    "duration": 298,
    "start_time": "2025-01-27T21:25:14.837Z"
   },
   {
    "duration": 10,
    "start_time": "2025-01-27T21:25:15.137Z"
   },
   {
    "duration": 215,
    "start_time": "2025-01-27T21:25:15.149Z"
   },
   {
    "duration": 7,
    "start_time": "2025-01-27T21:25:15.366Z"
   },
   {
    "duration": 695,
    "start_time": "2025-01-27T21:25:15.375Z"
   },
   {
    "duration": 20,
    "start_time": "2025-01-27T21:29:07.237Z"
   },
   {
    "duration": 11,
    "start_time": "2025-01-27T21:32:25.395Z"
   },
   {
    "duration": 795,
    "start_time": "2025-01-27T21:53:45.527Z"
   },
   {
    "duration": 158,
    "start_time": "2025-01-27T21:53:46.324Z"
   },
   {
    "duration": 28,
    "start_time": "2025-01-27T21:53:46.484Z"
   },
   {
    "duration": 6,
    "start_time": "2025-01-27T21:53:46.514Z"
   },
   {
    "duration": 8,
    "start_time": "2025-01-27T21:53:46.524Z"
   },
   {
    "duration": 23,
    "start_time": "2025-01-27T21:53:46.533Z"
   },
   {
    "duration": 8,
    "start_time": "2025-01-27T21:53:46.557Z"
   },
   {
    "duration": 10,
    "start_time": "2025-01-27T21:53:46.567Z"
   },
   {
    "duration": 42,
    "start_time": "2025-01-27T21:53:46.578Z"
   },
   {
    "duration": 105,
    "start_time": "2025-01-27T21:53:46.622Z"
   },
   {
    "duration": 9,
    "start_time": "2025-01-27T21:53:46.728Z"
   },
   {
    "duration": 19,
    "start_time": "2025-01-27T21:53:46.739Z"
   },
   {
    "duration": 86,
    "start_time": "2025-01-27T21:53:46.760Z"
   },
   {
    "duration": 67,
    "start_time": "2025-01-27T21:53:46.850Z"
   },
   {
    "duration": 7,
    "start_time": "2025-01-27T21:53:46.920Z"
   },
   {
    "duration": 11,
    "start_time": "2025-01-27T21:53:46.929Z"
   },
   {
    "duration": 20,
    "start_time": "2025-01-27T21:53:46.941Z"
   },
   {
    "duration": 97,
    "start_time": "2025-01-27T21:53:46.963Z"
   },
   {
    "duration": 9,
    "start_time": "2025-01-27T21:53:47.062Z"
   },
   {
    "duration": 14,
    "start_time": "2025-01-27T21:53:47.073Z"
   },
   {
    "duration": 45,
    "start_time": "2025-01-27T21:53:47.089Z"
   },
   {
    "duration": 5,
    "start_time": "2025-01-27T21:53:47.137Z"
   },
   {
    "duration": 17,
    "start_time": "2025-01-27T21:53:47.144Z"
   },
   {
    "duration": 59,
    "start_time": "2025-01-27T21:53:47.163Z"
   },
   {
    "duration": 36,
    "start_time": "2025-01-27T21:53:47.223Z"
   },
   {
    "duration": 44,
    "start_time": "2025-01-27T21:53:47.261Z"
   },
   {
    "duration": 21,
    "start_time": "2025-01-27T21:53:47.307Z"
   },
   {
    "duration": 16,
    "start_time": "2025-01-27T21:53:47.330Z"
   },
   {
    "duration": 16,
    "start_time": "2025-01-27T21:53:47.348Z"
   },
   {
    "duration": 345,
    "start_time": "2025-01-27T21:53:47.366Z"
   },
   {
    "duration": 324,
    "start_time": "2025-01-27T21:53:47.713Z"
   },
   {
    "duration": 10,
    "start_time": "2025-01-27T21:53:48.039Z"
   },
   {
    "duration": 213,
    "start_time": "2025-01-27T21:53:48.052Z"
   },
   {
    "duration": 330,
    "start_time": "2025-01-27T21:53:48.267Z"
   },
   {
    "duration": 361,
    "start_time": "2025-01-27T21:53:48.599Z"
   },
   {
    "duration": 9,
    "start_time": "2025-01-27T21:53:48.962Z"
   },
   {
    "duration": 204,
    "start_time": "2025-01-27T21:53:48.973Z"
   },
   {
    "duration": 309,
    "start_time": "2025-01-27T21:53:49.211Z"
   },
   {
    "duration": 312,
    "start_time": "2025-01-27T21:53:49.521Z"
   },
   {
    "duration": 8,
    "start_time": "2025-01-27T21:53:49.835Z"
   },
   {
    "duration": 219,
    "start_time": "2025-01-27T21:53:49.846Z"
   },
   {
    "duration": 349,
    "start_time": "2025-01-27T21:53:50.067Z"
   },
   {
    "duration": 298,
    "start_time": "2025-01-27T21:53:50.418Z"
   },
   {
    "duration": 9,
    "start_time": "2025-01-27T21:53:50.717Z"
   },
   {
    "duration": 232,
    "start_time": "2025-01-27T21:53:50.728Z"
   },
   {
    "duration": 6,
    "start_time": "2025-01-27T21:53:50.962Z"
   },
   {
    "duration": 317,
    "start_time": "2025-01-27T21:53:50.970Z"
   },
   {
    "duration": 16,
    "start_time": "2025-01-27T21:55:58.980Z"
   },
   {
    "duration": 718,
    "start_time": "2025-01-27T21:57:18.282Z"
   },
   {
    "duration": 154,
    "start_time": "2025-01-27T21:57:19.003Z"
   },
   {
    "duration": 29,
    "start_time": "2025-01-27T21:57:19.159Z"
   },
   {
    "duration": 7,
    "start_time": "2025-01-27T21:57:19.189Z"
   },
   {
    "duration": 7,
    "start_time": "2025-01-27T21:57:19.211Z"
   },
   {
    "duration": 23,
    "start_time": "2025-01-27T21:57:19.220Z"
   },
   {
    "duration": 9,
    "start_time": "2025-01-27T21:57:19.244Z"
   },
   {
    "duration": 10,
    "start_time": "2025-01-27T21:57:19.255Z"
   },
   {
    "duration": 9,
    "start_time": "2025-01-27T21:57:19.267Z"
   },
   {
    "duration": 116,
    "start_time": "2025-01-27T21:57:19.277Z"
   },
   {
    "duration": 20,
    "start_time": "2025-01-27T21:57:19.396Z"
   },
   {
    "duration": 18,
    "start_time": "2025-01-27T21:57:19.419Z"
   },
   {
    "duration": 80,
    "start_time": "2025-01-27T21:57:19.439Z"
   },
   {
    "duration": 55,
    "start_time": "2025-01-27T21:57:19.523Z"
   },
   {
    "duration": 7,
    "start_time": "2025-01-27T21:57:19.580Z"
   },
   {
    "duration": 9,
    "start_time": "2025-01-27T21:57:19.611Z"
   },
   {
    "duration": 20,
    "start_time": "2025-01-27T21:57:19.622Z"
   },
   {
    "duration": 78,
    "start_time": "2025-01-27T21:57:19.643Z"
   },
   {
    "duration": 8,
    "start_time": "2025-01-27T21:57:19.723Z"
   },
   {
    "duration": 14,
    "start_time": "2025-01-27T21:57:19.733Z"
   },
   {
    "duration": 33,
    "start_time": "2025-01-27T21:57:19.748Z"
   },
   {
    "duration": 28,
    "start_time": "2025-01-27T21:57:19.783Z"
   },
   {
    "duration": 16,
    "start_time": "2025-01-27T21:57:19.813Z"
   },
   {
    "duration": 57,
    "start_time": "2025-01-27T21:57:19.831Z"
   },
   {
    "duration": 33,
    "start_time": "2025-01-27T21:57:19.889Z"
   },
   {
    "duration": 38,
    "start_time": "2025-01-27T21:57:19.923Z"
   },
   {
    "duration": 21,
    "start_time": "2025-01-27T21:57:19.963Z"
   },
   {
    "duration": 17,
    "start_time": "2025-01-27T21:57:19.986Z"
   },
   {
    "duration": 16,
    "start_time": "2025-01-27T21:57:20.005Z"
   },
   {
    "duration": 302,
    "start_time": "2025-01-27T21:57:20.022Z"
   },
   {
    "duration": 315,
    "start_time": "2025-01-27T21:57:20.326Z"
   },
   {
    "duration": 12,
    "start_time": "2025-01-27T21:57:20.642Z"
   },
   {
    "duration": 215,
    "start_time": "2025-01-27T21:57:20.656Z"
   },
   {
    "duration": 332,
    "start_time": "2025-01-27T21:57:20.872Z"
   },
   {
    "duration": 355,
    "start_time": "2025-01-27T21:57:21.211Z"
   },
   {
    "duration": 9,
    "start_time": "2025-01-27T21:57:21.568Z"
   },
   {
    "duration": 247,
    "start_time": "2025-01-27T21:57:21.579Z"
   },
   {
    "duration": 298,
    "start_time": "2025-01-27T21:57:21.829Z"
   },
   {
    "duration": 308,
    "start_time": "2025-01-27T21:57:22.129Z"
   },
   {
    "duration": 8,
    "start_time": "2025-01-27T21:57:22.438Z"
   },
   {
    "duration": 212,
    "start_time": "2025-01-27T21:57:22.451Z"
   },
   {
    "duration": 354,
    "start_time": "2025-01-27T21:57:22.664Z"
   },
   {
    "duration": 320,
    "start_time": "2025-01-27T21:57:23.020Z"
   },
   {
    "duration": 10,
    "start_time": "2025-01-27T21:57:23.341Z"
   },
   {
    "duration": 221,
    "start_time": "2025-01-27T21:57:23.353Z"
   },
   {
    "duration": 7,
    "start_time": "2025-01-27T21:57:23.576Z"
   },
   {
    "duration": 313,
    "start_time": "2025-01-27T21:57:23.584Z"
   },
   {
    "duration": 12,
    "start_time": "2025-01-27T21:57:42.405Z"
   },
   {
    "duration": 743,
    "start_time": "2025-01-27T21:57:57.371Z"
   },
   {
    "duration": 153,
    "start_time": "2025-01-27T21:57:58.116Z"
   },
   {
    "duration": 29,
    "start_time": "2025-01-27T21:57:58.271Z"
   },
   {
    "duration": 11,
    "start_time": "2025-01-27T21:57:58.303Z"
   },
   {
    "duration": 7,
    "start_time": "2025-01-27T21:57:58.316Z"
   },
   {
    "duration": 23,
    "start_time": "2025-01-27T21:57:58.325Z"
   },
   {
    "duration": 9,
    "start_time": "2025-01-27T21:57:58.349Z"
   },
   {
    "duration": 10,
    "start_time": "2025-01-27T21:57:58.360Z"
   },
   {
    "duration": 40,
    "start_time": "2025-01-27T21:57:58.372Z"
   },
   {
    "duration": 98,
    "start_time": "2025-01-27T21:57:58.415Z"
   },
   {
    "duration": 9,
    "start_time": "2025-01-27T21:57:58.514Z"
   },
   {
    "duration": 18,
    "start_time": "2025-01-27T21:57:58.525Z"
   },
   {
    "duration": 86,
    "start_time": "2025-01-27T21:57:58.545Z"
   },
   {
    "duration": 49,
    "start_time": "2025-01-27T21:57:58.632Z"
   },
   {
    "duration": 8,
    "start_time": "2025-01-27T21:57:58.682Z"
   },
   {
    "duration": 28,
    "start_time": "2025-01-27T21:57:58.692Z"
   },
   {
    "duration": 20,
    "start_time": "2025-01-27T21:57:58.722Z"
   },
   {
    "duration": 85,
    "start_time": "2025-01-27T21:57:58.743Z"
   },
   {
    "duration": 8,
    "start_time": "2025-01-27T21:57:58.830Z"
   },
   {
    "duration": 12,
    "start_time": "2025-01-27T21:57:58.839Z"
   },
   {
    "duration": 33,
    "start_time": "2025-01-27T21:57:58.853Z"
   },
   {
    "duration": 25,
    "start_time": "2025-01-27T21:57:58.888Z"
   },
   {
    "duration": 18,
    "start_time": "2025-01-27T21:57:58.915Z"
   },
   {
    "duration": 52,
    "start_time": "2025-01-27T21:57:58.935Z"
   },
   {
    "duration": 32,
    "start_time": "2025-01-27T21:57:58.990Z"
   },
   {
    "duration": 33,
    "start_time": "2025-01-27T21:57:59.023Z"
   },
   {
    "duration": 19,
    "start_time": "2025-01-27T21:57:59.058Z"
   },
   {
    "duration": 17,
    "start_time": "2025-01-27T21:57:59.082Z"
   },
   {
    "duration": 17,
    "start_time": "2025-01-27T21:57:59.100Z"
   },
   {
    "duration": 305,
    "start_time": "2025-01-27T21:57:59.118Z"
   },
   {
    "duration": 305,
    "start_time": "2025-01-27T21:57:59.424Z"
   },
   {
    "duration": 9,
    "start_time": "2025-01-27T21:57:59.731Z"
   },
   {
    "duration": 234,
    "start_time": "2025-01-27T21:57:59.741Z"
   },
   {
    "duration": 338,
    "start_time": "2025-01-27T21:57:59.977Z"
   },
   {
    "duration": 375,
    "start_time": "2025-01-27T21:58:00.317Z"
   },
   {
    "duration": 18,
    "start_time": "2025-01-27T21:58:00.693Z"
   },
   {
    "duration": 227,
    "start_time": "2025-01-27T21:58:00.713Z"
   },
   {
    "duration": 314,
    "start_time": "2025-01-27T21:58:00.941Z"
   },
   {
    "duration": 350,
    "start_time": "2025-01-27T21:58:01.258Z"
   },
   {
    "duration": 9,
    "start_time": "2025-01-27T21:58:01.612Z"
   },
   {
    "duration": 230,
    "start_time": "2025-01-27T21:58:01.622Z"
   },
   {
    "duration": 351,
    "start_time": "2025-01-27T21:58:01.854Z"
   },
   {
    "duration": 315,
    "start_time": "2025-01-27T21:58:02.206Z"
   },
   {
    "duration": 9,
    "start_time": "2025-01-27T21:58:02.523Z"
   },
   {
    "duration": 222,
    "start_time": "2025-01-27T21:58:02.534Z"
   },
   {
    "duration": 7,
    "start_time": "2025-01-27T21:58:02.758Z"
   },
   {
    "duration": 11,
    "start_time": "2025-01-27T21:58:02.766Z"
   }
  ],
  "colab": {
   "provenance": []
  },
  "kernelspec": {
   "display_name": "Python 3 (ipykernel)",
   "language": "python",
   "name": "python3"
  },
  "language_info": {
   "codemirror_mode": {
    "name": "ipython",
    "version": 3
   },
   "file_extension": ".py",
   "mimetype": "text/x-python",
   "name": "python",
   "nbconvert_exporter": "python",
   "pygments_lexer": "ipython3",
   "version": "3.9.19"
  },
  "toc": {
   "base_numbering": 1,
   "nav_menu": {},
   "number_sections": true,
   "sideBar": true,
   "skip_h1_title": false,
   "title_cell": "Table of Contents",
   "title_sidebar": "Contents",
   "toc_cell": false,
   "toc_position": {
    "height": "calc(100% - 180px)",
    "left": "10px",
    "top": "150px",
    "width": "373.223px"
   },
   "toc_section_display": true,
   "toc_window_display": true
  }
 },
 "nbformat": 4,
 "nbformat_minor": 1
}
